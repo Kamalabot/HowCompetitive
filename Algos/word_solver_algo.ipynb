{
 "cells": [
  {
   "cell_type": "markdown",
   "id": "3713750d-c9dc-4a4a-9595-9199b0b733da",
   "metadata": {},
   "source": [
    "## Finding the words inside the matrix"
   ]
  },
  {
   "cell_type": "markdown",
   "id": "358b9136-af0d-44ff-af56-fc1883b911a3",
   "metadata": {},
   "source": [
    "The algo is used for solving the puzzle like scrabble, where the words have to be found. "
   ]
  },
  {
   "cell_type": "markdown",
   "id": "7c9bceef",
   "metadata": {},
   "source": [
    "## Inputs and problem definition\n",
    "\n",
    "![Alt text](image-19.png)"
   ]
  },
  {
   "cell_type": "markdown",
   "id": "44c386ad",
   "metadata": {},
   "source": [
    "### Applications:\n",
    "\n",
    "Education and Learning:\n",
    "\n",
    "Vocabulary Building: Word search puzzles are used in educational settings to help students expand their vocabulary and improve spelling skills.\n",
    "Language Learning: Language learners use word searches to reinforce new words and improve language comprehension.\n",
    "Assistive Technology:\n",
    "\n",
    "Accessibility Tools: Word search games and solvers can be adapted as assistive technology for individuals with disabilities, helping them improve language and cognitive skills.\n",
    "Data Mining and Text Analysis:\n",
    "\n",
    "Text Search: Word solvers can be applied to search large corpora of text data to find specific words or phrases. This is useful in text mining and information retrieval.\n",
    "Topic Modeling: In natural language processing (NLP), word search algorithms can assist in identifying relevant words or topics within text documents.\n",
    "Genetics and Bioinformatics:\n",
    "\n",
    "Sequence Analysis: In bioinformatics, word search algorithms are used to locate specific DNA or protein sequences within large genomes or databases.\n",
    "Motif Discovery: Researchers use word search techniques to find conserved motifs or patterns in genetic sequences.\n",
    "Puzzle and Game Development:\n",
    "\n",
    "Word Games: Word search puzzles are a staple in puzzle books and apps, providing entertainment and mental stimulation for users.\n",
    "Educational Games: Educational game developers use word search puzzles to create engaging learning experiences.\n",
    "Quality Assurance and Testing:\n",
    "\n",
    "Software Testing: Word search algorithms can be applied to verify that specific words or phrases appear in software documentation, code comments, or user interfaces.\n",
    "Crossword Puzzle Generation:\n",
    "\n",
    "Crossword Clue Generation: When generating crossword puzzles, word search algorithms can help identify words that can be used as clues.\n",
    "Data Validation:\n",
    "\n",
    "Data Validation: In data entry and quality control, word search techniques can be used to verify that specific terms or codes are present in datasets.\n",
    "Word Cloud Generation:\n",
    "\n",
    "Word Clouds: Word search algorithms can be used to generate word clouds, visual representations of word frequency, based on a given text.\n",
    "Forensic Analysis:\n",
    "\n",
    "Document Analysis: In forensics, word search tools can be applied to analyze documents and identify keywords or relevant content.\n",
    "Digital Marketing:\n",
    "\n",
    "Content Optimization: Marketers use word search algorithms to analyze website content and ensure it contains relevant keywords for search engine optimization (SEO).\n",
    "Recommendation Systems:\n",
    "\n",
    "Content Recommendations: Word search techniques can be applied to recommend articles, products, or content based on keywords or user preferences"
   ]
  },
  {
   "cell_type": "markdown",
   "id": "1fecc713-47bb-4b72-b2db-54737e4501d9",
   "metadata": {},
   "source": [
    "### Logic discussion\n",
    "\n",
    "The solution that comes to mind is Brute-force where the entire matrix is searched in all 8 direction.\n",
    "\n",
    "In each direction, we check the substring formed is part of the any of the words that is required. If it is not there, then we stop. \n",
    "\n",
    "The idea is to go with the brute force in a absolute detail, with each step. Then try to write the pseudo code"
   ]
  },
  {
   "cell_type": "code",
   "execution_count": null,
   "id": "a8988d3e-fe13-4702-9c57-3d2b81a80360",
   "metadata": {},
   "outputs": [],
   "source": [
    "## Writing Pseudocode\n",
    "\n",
    "def solve(grid, words):\n",
    "    moves = []\n",
    "    for each row i\n",
    "        for each column j\n",
    "            if (exists) word, word.startswith(grid[i][j])\n",
    "                for each direction:\n",
    "                    check(grid, words, i, j, direction, moves)\n",
    "\n",
    "Observe that much of the pseudo contains english, but written in programming function words/ verbs. "
   ]
  },
  {
   "cell_type": "code",
   "execution_count": null,
   "id": "f98acd75",
   "metadata": {},
   "outputs": [],
   "source": [
    "## check function\n",
    "def check(grid, words, i, j, direction, moves)\n",
    "    n, m = |grid|, |grid[0]|\n",
    "    start_i, start_j = i, j\n",
    "    substring = \" \"\n",
    "    while 0 <= i < n ^ 0 <= j < m ^ (exists) word, word.startswith(substring)\n",
    "        substring += grid[i][j]\n",
    "        if (exists) word, word = substring\n",
    "            moves.append((start_i, start_j),(i,j))\n",
    "            words.remove(word)\n",
    "\n",
    "        update i and j by moving to next direction\n",
    " "
   ]
  },
  {
   "cell_type": "markdown",
   "id": "4130d3fa",
   "metadata": {},
   "source": [
    "### Here comes the conversion of pseudocode to code\n",
    "\n",
    "(exists) word, word.startswith(substring)\n",
    "\n",
    "    ||\n",
    "\n",
    "any([word.startswith(substring) for word in words])\n",
    "\n",
    "Trie data structure can be used for this case...\n",
    "\n",
    "Idea is to convert the words we are searching into Trie like so...\n",
    "\n",
    "![Alt text](image-20.png)\n",
    "\n",
    "The solution using the data structure is seen\n",
    "\n",
    "![Alt text](image-21.png)"
   ]
  },
  {
   "cell_type": "markdown",
   "id": "8630d048",
   "metadata": {},
   "source": [
    "## What happens next is interesting\n",
    "\n",
    "The Trie used as the substitute for the word list, \n",
    "\n",
    "And it can be used to effectively reduce time taken in one of the loops.\n",
    "\n",
    "Another question is **How is direction represented**\n",
    "\n",
    "![Direction representing](image-22.png)"
   ]
  },
  {
   "cell_type": "markdown",
   "id": "547d1d92-a198-42aa-83de-1ebaef8b3ea7",
   "metadata": {},
   "source": [
    "### Pseudocode to Code\n",
    "\n",
    "We can see how the direction is implemented\n",
    "\n",
    "![Alt text](image-23.png)\n",
    "\n",
    "![Alt text](image-24.png)"
   ]
  }
 ],
 "metadata": {
  "kernelspec": {
   "display_name": "Python 3 (ipykernel)",
   "language": "python",
   "name": "python3"
  },
  "language_info": {
   "codemirror_mode": {
    "name": "ipython",
    "version": 3
   },
   "file_extension": ".py",
   "mimetype": "text/x-python",
   "name": "python",
   "nbconvert_exporter": "python",
   "pygments_lexer": "ipython3",
   "version": "3.11.4"
  }
 },
 "nbformat": 4,
 "nbformat_minor": 5
}
