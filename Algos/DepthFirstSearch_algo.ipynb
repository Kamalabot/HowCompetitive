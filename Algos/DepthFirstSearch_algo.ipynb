{
 "cells": [
  {
   "cell_type": "markdown",
   "id": "919808d5-6daa-403b-8150-fec0e7dca250",
   "metadata": {},
   "source": [
    "## Depth First Search Algorithm "
   ]
  },
  {
   "cell_type": "markdown",
   "id": "cfece1bf-9048-4668-bb2a-c560d9abc5a1",
   "metadata": {},
   "source": [
    "Example of Depth First search in Reading Books\n",
    "\n",
    "![Alt text](image-3.png)\n",
    "\n",
    "Recursive series of books.. and it can used for searching maps too\n",
    "![recursive chapters](image-2.png)\n",
    "\n",
    "![Alt text](image-4.png)"
   ]
  },
  {
   "cell_type": "markdown",
   "id": "e61bbf45-3111-412e-8abd-e3b9d19e4fe2",
   "metadata": {},
   "source": [
    "The map traversal is like Graph Depth First searach\n",
    "\n",
    "![Used for traversing the map](image-5.png)"
   ]
  },
  {
   "cell_type": "markdown",
   "id": "08c9f150-bce5-4072-9fdb-b92bbfdf9f20",
   "metadata": {},
   "source": [
    "### Types of traversal:\n",
    "\n",
    "Pre-order:\n",
    "![Alt text](image-8.png)\n",
    "Post-order:\n",
    "![Alt text](image-6.png)\n",
    "In-order:\n",
    "![Alt text](image-7.png)\n",
    "\n",
    "Examples of the Traversals:\n",
    "\n",
    "![Alt text](image-9.png)"
   ]
  },
  {
   "cell_type": "markdown",
   "id": "0f9143cf-e9ca-44d0-985e-8ec6c3a7e7d5",
   "metadata": {},
   "source": [
    "![Alt text](image-10.png)\n",
    "\n",
    "### There is no difference between Backtracking and DFS, as DFS is a sub-problem of backtracking\n",
    "\n",
    "![Alt text](image-11.png)"
   ]
  },
  {
   "cell_type": "markdown",
   "id": "92631a7a",
   "metadata": {},
   "source": []
  }
 ],
 "metadata": {
  "kernelspec": {
   "display_name": "Python 3 (ipykernel)",
   "language": "python",
   "name": "python3"
  },
  "language_info": {
   "codemirror_mode": {
    "name": "ipython",
    "version": 3
   },
   "file_extension": ".py",
   "mimetype": "text/x-python",
   "name": "python",
   "nbconvert_exporter": "python",
   "pygments_lexer": "ipython3",
   "version": "3.11.4"
  }
 },
 "nbformat": 4,
 "nbformat_minor": 5
}
