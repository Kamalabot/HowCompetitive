{
 "cells": [
  {
   "cell_type": "markdown",
   "id": "919808d5-6daa-403b-8150-fec0e7dca250",
   "metadata": {},
   "source": [
    "## Knuth Moris Pratt String Search Algo \n",
    "\n",
    "![Alt text](image-31.png)"
   ]
  },
  {
   "cell_type": "markdown",
   "id": "bd3277c3",
   "metadata": {},
   "source": [
    "In the above string we have to find whether **s2 is inside** s1 and **where**\n",
    "\n",
    "![Alt text](image-32.png)"
   ]
  },
  {
   "cell_type": "markdown",
   "id": "31aa2164",
   "metadata": {},
   "source": [
    "![Alt text](image-33.png)"
   ]
  },
  {
   "cell_type": "markdown",
   "id": "8b936c9e",
   "metadata": {},
   "source": [
    "![Alt text](image-35.png)"
   ]
  },
  {
   "cell_type": "markdown",
   "id": "b9a720bb",
   "metadata": {},
   "source": [
    "![Alt text](image-36.png)"
   ]
  },
  {
   "cell_type": "markdown",
   "id": "7b3ecd52",
   "metadata": {},
   "source": [
    "![Alt text](image-34.png)"
   ]
  },
  {
   "cell_type": "markdown",
   "id": "1ba3f571",
   "metadata": {},
   "source": [
    "![Alt text](image-37.png)"
   ]
  },
  {
   "cell_type": "markdown",
   "id": "08e4b9c8",
   "metadata": {},
   "source": [
    "![Alt text](image-38.png)\n",
    "\n",
    "![Alt text](image-39.png)\n",
    "\n",
    "![Alt text](image-44.png)\n",
    "\n",
    "![Alt text](image-40.png)"
   ]
  },
  {
   "cell_type": "markdown",
   "id": "82c887ba",
   "metadata": {},
   "source": [
    "![Alt text](image-41.png)\n",
    "\n",
    "![What is the LPS](image-42.png)\n",
    "\n",
    "![Alt text](image-43.png)"
   ]
  },
  {
   "cell_type": "markdown",
   "id": "632c1260",
   "metadata": {},
   "source": [
    "The Knuth-Morris-Pratt (KMP) algorithm is a string searching algorithm that efficiently finds occurrences of a pattern (substring) within a longer text (string). It has several real-world applications in various domains where efficient string searching is crucial. Here are some practical applications of the KMP algorithm:\n",
    "\n",
    "Text Search and Text Editing:\n",
    "\n",
    "Text Editors: KMP is used in text editors for finding and highlighting occurrences of a search query within a document.\n",
    "Search Engines: Search engines use KMP to locate and highlight keywords in search results.\n",
    "Data Validation and Parsing:\n",
    "\n",
    "Input Validation: KMP is employed in data validation to check if certain patterns or substrings exist in user inputs, helping prevent SQL injection, code injection, or other security vulnerabilities.\n",
    "Log Parsing: KMP can be used to extract specific information from log files or unstructured data.\n",
    "Pattern Matching:\n",
    "\n",
    "Bioinformatics: KMP is used in bioinformatics for DNA sequence matching and motif searching in genetic data.\n",
    "Image Processing: KMP can be applied to pattern matching in images or pixel data.\n",
    "Natural Language Processing (NLP):\n",
    "\n",
    "Information Retrieval: In NLP and information retrieval systems, KMP helps search for and retrieve documents containing specific phrases or terms.\n",
    "Text Classification: KMP can be used in text classification tasks to identify predefined patterns or features in text data.\n",
    "Compiler Design:\n",
    "\n",
    "Syntax Analysis: Compilers use the KMP algorithm for lexical analysis and parsing, identifying keywords and tokens in source code.\n",
    "Data Compression:\n",
    "\n",
    "Lossless Compression: KMP is used in some lossless compression algorithms to identify repetitive patterns in data for efficient compression.\n",
    "Genome Sequencing:\n",
    "\n",
    "Sequence Alignment: KMP can be applied to DNA sequence alignment and analysis to find matching sequences and motifs in genomes.\n",
    "Data Extraction and Scraping:\n",
    "\n",
    "Web Scraping: KMP is used in web scraping tools to search for and extract specific information from web pages.\n",
    "Data Extraction: It helps extract structured data from unstructured sources like documents or web pages.\n",
    "Network Security:\n",
    "\n",
    "Intrusion Detection: KMP can be employed in intrusion detection systems to search for known attack patterns or signatures in network traffic.\n",
    "Network Protocols:\n",
    "\n",
    "Packet Inspection: Network protocols and security appliances use KMP to search for specific packet patterns or signatures to identify and manage network traffic.\n",
    "Data Mining:\n",
    "\n",
    "Pattern Discovery: In data mining and pattern recognition, KMP can be used to discover recurring patterns in datasets.\n",
    "Database Management:\n",
    "\n",
    "Full-Text Search: KMP can be part of full-text search engines used in database management systems to quickly locate text-based data in large databases.\n",
    "String Matching in General:\n",
    "\n",
    "General String Searching: KMP is a versatile algorithm for searching for patterns or substrings in strings, making it applicable in various domains whenever efficient string searching is required.\n",
    "The KMP algorithm's efficiency in avoiding unnecessary character comparisons makes it a valuable tool in text and pattern matching applications, particularly when dealing with large texts or datasets."
   ]
  },
  {
   "cell_type": "markdown",
   "id": "42686f6d",
   "metadata": {},
   "source": [
    "The Knuth-Morris-Pratt (KMP) algorithm is often used as a string searching algorithm in various applications, but it is typically implemented at the code level rather than exposed as a standalone library or integrated into databases. Here are some examples of how the KMP algorithm can be used in Python applications:\n",
    "\n",
    "Python Applications and Use Cases:\n",
    "\n",
    "Text Search and Manipulation:\n",
    "\n",
    "Python applications often use the KMP algorithm for searching and manipulating text within strings, documents, or user inputs.\n",
    "Python's built-in str.find() and str.index() methods internally use algorithms like KMP to search for substrings within text.\n",
    "Web Scraping and Data Extraction:\n",
    "\n",
    "Python libraries for web scraping and data extraction, such as BeautifulSoup and Scrapy, utilize string searching algorithms like KMP to locate specific patterns or content within web pages.\n",
    "Text Editors and IDEs:\n",
    "\n",
    "Text editors and integrated development environments (IDEs) may use the KMP algorithm for features like text search and find-and-replace.\n",
    "Regular Expressions:\n",
    "\n",
    "Python's re module for regular expressions uses efficient string searching algorithms, including KMP, to perform pattern matching and text manipulation.\n",
    "Python Libraries:\n",
    "\n",
    "While there are no dedicated Python libraries that provide the KMP algorithm as a standalone package, the KMP algorithm is commonly implemented within other libraries or algorithms for specific tasks. Here are some libraries and modules where you might encounter the use of KMP or similar string searching algorithms:\n",
    "\n",
    "Python Standard Library:\n",
    "\n",
    "Python's standard library includes built-in string searching functions and methods that use efficient algorithms for substring searches. While the specific algorithm may vary between Python versions and implementations, algorithms like KMP can be part of the implementation.\n",
    "Third-Party Libraries:\n",
    "\n",
    "Various Python libraries for text processing, natural language processing, and data analysis may use the KMP algorithm or similar techniques for string searches or pattern matching. Libraries like NLTK, spaCy, and pandas may incorporate such algorithms.\n",
    "Databases:\n",
    "\n",
    "Databases typically do not expose string searching algorithms like KMP directly, but they can use indexing and optimization techniques to speed up text-based queries. For example:\n",
    "\n",
    "Full-Text Search Databases:\n",
    "\n",
    "Databases like PostgreSQL and MySQL provide full-text search capabilities that use indexing techniques to efficiently search for text patterns or words within textual data.\n",
    "Document Databases:\n",
    "\n",
    "Some document databases, such as MongoDB, support text-based queries that can benefit from efficient indexing and searching algorithms.\n",
    "While databases themselves may not expose the KMP algorithm as a feature, they often use a combination of indexing and search algorithms to optimize text-based queries, improving query performance for applications that rely on efficient string searching."
   ]
  }
 ],
 "metadata": {
  "kernelspec": {
   "display_name": "Python 3 (ipykernel)",
   "language": "python",
   "name": "python3"
  },
  "language_info": {
   "codemirror_mode": {
    "name": "ipython",
    "version": 3
   },
   "file_extension": ".py",
   "mimetype": "text/x-python",
   "name": "python",
   "nbconvert_exporter": "python",
   "pygments_lexer": "ipython3",
   "version": "3.11.4"
  }
 },
 "nbformat": 4,
 "nbformat_minor": 5
}
