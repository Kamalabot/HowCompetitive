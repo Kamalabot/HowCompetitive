{
 "cells": [
  {
   "cell_type": "markdown",
   "id": "919808d5-6daa-403b-8150-fec0e7dca250",
   "metadata": {},
   "source": [
    "## Knuth Moris Pratt String Search Algo \n",
    "\n",
    "![Alt text](image-31.png)"
   ]
  },
  {
   "cell_type": "markdown",
   "id": "bd3277c3",
   "metadata": {},
   "source": [
    "In the above string we have to find whether **s2 is inside** s1 and **where**\n",
    "\n",
    "![Alt text](image-32.png)"
   ]
  },
  {
   "cell_type": "markdown",
   "id": "31aa2164",
   "metadata": {},
   "source": [
    "![Alt text](image-33.png)"
   ]
  },
  {
   "cell_type": "markdown",
   "id": "8b936c9e",
   "metadata": {},
   "source": [
    "![Alt text](image-35.png)"
   ]
  },
  {
   "cell_type": "markdown",
   "id": "b9a720bb",
   "metadata": {},
   "source": [
    "![Alt text](image-36.png)"
   ]
  },
  {
   "cell_type": "markdown",
   "id": "7b3ecd52",
   "metadata": {},
   "source": [
    "![Alt text](image-34.png)"
   ]
  },
  {
   "cell_type": "markdown",
   "id": "1ba3f571",
   "metadata": {},
   "source": [
    "![Alt text](image-37.png)"
   ]
  },
  {
   "cell_type": "markdown",
   "id": "08e4b9c8",
   "metadata": {},
   "source": [
    "![Alt text](image-38.png)\n",
    "\n",
    "![Alt text](image-39.png)\n",
    "\n",
    "![Alt text](image-44.png)\n",
    "\n",
    "![Alt text](image-40.png)"
   ]
  },
  {
   "cell_type": "markdown",
   "id": "82c887ba",
   "metadata": {},
   "source": [
    "![Alt text](image-41.png)\n",
    "\n",
    "![What is the LPS](image-42.png)\n",
    "\n",
    "![Alt text](image-43.png)"
   ]
  },
  {
   "cell_type": "code",
   "execution_count": null,
   "id": "632c1260",
   "metadata": {
    "vscode": {
     "languageId": "plaintext"
    }
   },
   "outputs": [],
   "source": []
  },
  {
   "cell_type": "code",
   "execution_count": null,
   "id": "42686f6d",
   "metadata": {
    "vscode": {
     "languageId": "plaintext"
    }
   },
   "outputs": [],
   "source": []
  }
 ],
 "metadata": {
  "kernelspec": {
   "display_name": "Python 3 (ipykernel)",
   "language": "python",
   "name": "python3"
  },
  "language_info": {
   "codemirror_mode": {
    "name": "ipython",
    "version": 3
   },
   "file_extension": ".py",
   "mimetype": "text/x-python",
   "name": "python",
   "nbconvert_exporter": "python",
   "pygments_lexer": "ipython3",
   "version": "3.11.4"
  }
 },
 "nbformat": 4,
 "nbformat_minor": 5
}
