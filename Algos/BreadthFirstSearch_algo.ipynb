{
 "cells": [
  {
   "cell_type": "markdown",
   "id": "919808d5-6daa-403b-8150-fec0e7dca250",
   "metadata": {},
   "source": [
    "## Breadth First Search Algorithm "
   ]
  },
  {
   "cell_type": "markdown",
   "id": "cfece1bf-9048-4668-bb2a-c560d9abc5a1",
   "metadata": {},
   "source": [
    "Example of Breadth First search in Reading Books\n",
    "\n",
    "![Alt text](image-12.png)\n",
    "\n",
    "Traversing Level by Level... You can see this in working on LinkedIn connections\n",
    "\n",
    "![Alt text](image-13.png)"
   ]
  },
  {
   "cell_type": "markdown",
   "id": "e61bbf45-3111-412e-8abd-e3b9d19e4fe2",
   "metadata": {},
   "source": [
    "The map traversal is like Graph Breadth First searach\n",
    "\n",
    "![Alt text](image-14.png)\n",
    "\n",
    "The **challenge** is to move from the one level to other level, and it can be done only by using the node, which has nodes in the next level. To find that the **dequeue** is used\n",
    "\n",
    "![Alt text](image-16.png)\n",
    "\n",
    "The FiFo concept of dequeue makes this happen..."
   ]
  },
  {
   "cell_type": "markdown",
   "id": "08c9f150-bce5-4072-9fdb-b92bbfdf9f20",
   "metadata": {},
   "source": [
    "### BFS code:\n",
    "\n",
    "![Alt text](image-17.png)"
   ]
  },
  {
   "cell_type": "markdown",
   "id": "92631a7a",
   "metadata": {},
   "source": [
    "## BFS code for Graph is different\n",
    "\n",
    "The way nodes are getting traversed itself was different\n",
    "\n",
    "![Alt text](image-18.png)"
   ]
  }
 ],
 "metadata": {
  "kernelspec": {
   "display_name": "Python 3 (ipykernel)",
   "language": "python",
   "name": "python3"
  },
  "language_info": {
   "codemirror_mode": {
    "name": "ipython",
    "version": 3
   },
   "file_extension": ".py",
   "mimetype": "text/x-python",
   "name": "python",
   "nbconvert_exporter": "python",
   "pygments_lexer": "ipython3",
   "version": "3.11.4"
  }
 },
 "nbformat": 4,
 "nbformat_minor": 5
}
