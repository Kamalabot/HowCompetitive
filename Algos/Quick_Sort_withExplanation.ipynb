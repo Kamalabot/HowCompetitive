{
 "cells": [
  {
   "cell_type": "markdown",
   "id": "919808d5-6daa-403b-8150-fec0e7dca250",
   "metadata": {},
   "source": [
    "## Quick Sort Algo \n",
    "\n",
    "Algo starts by choosing a Pivot inside the list of numbers, and recursively sorts each part of the list.\n",
    " \n",
    "![Alt text](image-25.png) \n"
   ]
  },
  {
   "cell_type": "markdown",
   "id": "bd3277c3",
   "metadata": {},
   "source": [
    "When the 3 elements are left to sort, this the outcome\n",
    "\n",
    "![Alt text](image-26.png)"
   ]
  },
  {
   "cell_type": "markdown",
   "id": "31aa2164",
   "metadata": {},
   "source": [
    "![Alt text](image-27.png)\n"
   ]
  },
  {
   "cell_type": "markdown",
   "id": "7b3ecd52",
   "metadata": {},
   "source": [
    "Quick Sort has better time Complexity\n",
    "\n",
    "![Alt text](image-28.png)"
   ]
  },
  {
   "cell_type": "markdown",
   "id": "1ba3f571",
   "metadata": {},
   "source": [
    "![Alt text](image-29.png)"
   ]
  },
  {
   "cell_type": "markdown",
   "id": "08e4b9c8",
   "metadata": {},
   "source": [
    "![Alt text](image-30.png)\n",
    "\n",
    "There are many ways to choose the element, the worst case when the element in the left is chosen"
   ]
  },
  {
   "cell_type": "markdown",
   "id": "cf9a6717",
   "metadata": {},
   "source": [
    "Quick Sort is a widely used sorting algorithm in computer science and has various real-world applications where efficient data sorting is crucial. Here are some practical applications of Quick Sort:\n",
    "\n",
    "Database Management:\n",
    "\n",
    "Database Indexing: Quick Sort is used for indexing and maintaining databases efficiently. It helps in quickly locating records based on sorted keys, which is essential for database query performance.\n",
    "File Systems:\n",
    "\n",
    "File Sorting: File systems use Quick Sort to organize files and directories alphabetically or by other criteria, making it easier for users to locate and access their data.\n",
    "Programming Languages and Libraries:\n",
    "\n",
    "Standard Library Sort Functions: Many programming languages and libraries implement Quick Sort as their default sorting algorithm. It is used in sorting collections, arrays, and other data structures.\n",
    "Search Engines:\n",
    "\n",
    "Search Result Ranking: Quick Sort is employed to sort search engine results based on various ranking factors, such as relevance, popularity, and recency.\n",
    "Information Retrieval:\n",
    "\n",
    "Document Retrieval: In information retrieval systems, Quick Sort is used to efficiently sort and rank documents based on their relevance to a search query.\n",
    "Data Analytics and Statistics:\n",
    "\n",
    "Data Analysis: Quick Sort is applied in various data analysis tasks, such as ranking, percentile calculations, and finding medians.\n",
    "Telecommunications:\n",
    "\n",
    "Call Routing: In telecommunications systems, Quick Sort can be used to efficiently route calls based on parameters like call duration, location, or priority.\n",
    "Genome Sequencing:\n",
    "\n",
    "DNA Sequence Alignment: Quick Sort can help in sorting and aligning DNA sequences, which is crucial in bioinformatics for genetic research and disease analysis.\n",
    "E-commerce and Online Marketplaces:\n",
    "\n",
    "Product Sorting: E-commerce platforms use Quick Sort to allow users to sort products by price, popularity, rating, or other attributes.\n",
    "Banking and Financial Services:\n",
    "\n",
    "Transaction Processing: Quick Sort is used in banking and financial systems to sort and process transactions based on criteria like date, amount, or account.\n",
    "Logistics and Supply Chain Management:\n",
    "\n",
    "Inventory Management: In supply chain systems, Quick Sort is employed to manage inventory efficiently, ensuring that products are ordered, tracked, and delivered in the right sequence.\n",
    "Compiler Design:\n",
    "\n",
    "Optimization: Compilers use Quick Sort in optimization phases to reorder code instructions for better performance.\n",
    "Operating Systems:\n",
    "\n",
    "File System Allocation: Quick Sort is used in file allocation algorithms to manage file storage blocks efficiently.\n",
    "Data Deduplication:\n",
    "\n",
    "Data Storage: Quick Sort assists in identifying duplicate data entries in large datasets, which is essential for data storage and backup systems.\n",
    "Machine Learning and Data Mining:\n",
    "\n",
    "Feature Selection: Quick Sort can be used for sorting and selecting relevant features or attributes in datasets used for machine learning and data mining.\n",
    "Quick Sort's efficiency and average-case time complexity of O(n log n) make it a popular choice in various real-world scenarios where sorting large datasets quickly is necessary for system performance and user experience."
   ]
  },
  {
   "cell_type": "code",
   "execution_count": null,
   "id": "c96d5a96",
   "metadata": {
    "vscode": {
     "languageId": "plaintext"
    }
   },
   "outputs": [],
   "source": [
    "Quick Sort is a widely used sorting algorithm in computer science, but it's typically implemented as part of the standard library or as a low-level sorting routine rather than exposed as a standalone library or database feature. Python itself uses Quick Sort (or variants like Timsort, which is a hybrid sorting algorithm that incorporates elements of Quick Sort) for its built-in sorting functions. Here are some examples:\n",
    "\n",
    "Python Standard Library:\n",
    "\n",
    "Python's built-in sorted() function and the .sort() method for lists use an algorithm that combines elements of Quick Sort with other sorting techniques to optimize performance. In recent Python versions, this algorithm is known as Timsort, which is a hybrid sorting algorithm.\n",
    "NumPy:\n",
    "\n",
    "NumPy, a popular library for numerical and scientific computing in Python, provides its own sorting functions, such as numpy.sort() and numpy.argsort(). These functions often use Quick Sort as part of their sorting process.\n",
    "pandas:\n",
    "\n",
    "pandas, a data manipulation and analysis library, uses sorting extensively when working with DataFrames and Series. While the specific sorting algorithm may vary based on the data and context, Quick Sort is one of the algorithms that pandas can employ.\n",
    "Cython:\n",
    "\n",
    "Cython, a superset of Python that allows for the creation of C extensions, can use Quick Sort as part of its sorting operations when working with arrays and data structures.\n",
    "C/C++ Standard Library:\n",
    "\n",
    "Python's C API allows Python code to call functions from the C and C++ standard libraries. These libraries often use Quick Sort or other efficient sorting algorithms internally.\n",
    "Databases:\n",
    "\n",
    "Databases like PostgreSQL, MySQL, and SQLite offer sorting capabilities for query results. While these databases may not explicitly expose Quick Sort as a feature, they use efficient sorting algorithms under the hood to optimize query performance. The choice of sorting algorithm may depend on the database engine and configuration.\n",
    "While Quick Sort is a foundational algorithm, its implementation details are often abstracted away from higher-level libraries and databases. Instead, these libraries and databases focus on providing high-level sorting interfaces and optimizing the overall performance of their sorting operations."
   ]
  }
 ],
 "metadata": {
  "kernelspec": {
   "display_name": "Python 3 (ipykernel)",
   "language": "python",
   "name": "python3"
  },
  "language_info": {
   "codemirror_mode": {
    "name": "ipython",
    "version": 3
   },
   "file_extension": ".py",
   "mimetype": "text/x-python",
   "name": "python",
   "nbconvert_exporter": "python",
   "pygments_lexer": "ipython3",
   "version": "3.11.4"
  }
 },
 "nbformat": 4,
 "nbformat_minor": 5
}
