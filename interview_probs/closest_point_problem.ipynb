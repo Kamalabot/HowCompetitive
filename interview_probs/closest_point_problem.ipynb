{
 "cells": [
  {
   "cell_type": "markdown",
   "id": "79a27626-aac8-456e-b7ce-a9a3c2066bf7",
   "metadata": {},
   "source": [
    "### Problem:\n",
    "\n",
    "Find the points that are closest to each other, given n number of points.\n"
   ]
  },
  {
   "cell_type": "code",
   "execution_count": 27,
   "id": "dd7d0fb0",
   "metadata": {},
   "outputs": [],
   "source": [
    "import math\n",
    "\n",
    "def dist(p1, p2):\n",
    "    #print(p1, p2)\n",
    "    return math.sqrt(\n",
    "        abs(\n",
    "            (p2[0]-p1[0])**2\n",
    "            +\n",
    "            (p2[1]-p1[1])**2\n",
    "        )\n",
    "    )"
   ]
  },
  {
   "cell_type": "code",
   "execution_count": 28,
   "id": "f89183ec",
   "metadata": {},
   "outputs": [],
   "source": [
    "def closest_brute_force(points):\n",
    "    min_dist = float('inf')\n",
    "    p1 = None\n",
    "    p2 = None\n",
    "    for i in range(len(points)):\n",
    "        for j in range(i+1, len(points)):\n",
    "            d = dist(points[i],points[j])\n",
    "            if d < min_dist:\n",
    "                min_dist = d\n",
    "                p1 = points[i]\n",
    "                p2 = points[j]\n",
    "    return p1, p2, min_dist"
   ]
  },
  {
   "cell_type": "code",
   "execution_count": 29,
   "id": "09fb9221",
   "metadata": {},
   "outputs": [],
   "source": [
    "def closest_dist_math(points):\n",
    "    min_dist = float('inf')\n",
    "    p1 = None\n",
    "    p2 = None\n",
    "    for i in range(len(points)):\n",
    "        for j in range(i+1, len(points)):\n",
    "            d = math.dist(points[i],points[j])\n",
    "            if d < min_dist:\n",
    "                min_dist = d\n",
    "                p1 = points[i]\n",
    "                p2 = points[j]\n",
    "    return p1, p2, min_dist"
   ]
  },
  {
   "cell_type": "code",
   "execution_count": 30,
   "id": "20e3c017",
   "metadata": {},
   "outputs": [
    {
     "data": {
      "text/plain": [
       "3.605551275463989"
      ]
     },
     "execution_count": 30,
     "metadata": {},
     "output_type": "execute_result"
    }
   ],
   "source": [
    "dist((5,8),(2,6))"
   ]
  },
  {
   "cell_type": "code",
   "execution_count": 31,
   "id": "912666b6",
   "metadata": {},
   "outputs": [],
   "source": [
    "points = [(2, 5),\n",
    "    (7, 3),\n",
    "    (1, 8),\n",
    "    (4, 6),\n",
    "    (9, 2),\n",
    "    (3, 7),\n",
    "    (6, 4),\n",
    "    (10, 1),\n",
    "    (5, 9),\n",
    "    (8, 5),\n",
    "    (11, 3),\n",
    "    (4, 10),\n",
    "    (7, 6),\n",
    "    (12, 2),\n",
    "    (3, 11)]"
   ]
  },
  {
   "cell_type": "code",
   "execution_count": 32,
   "id": "ea003975",
   "metadata": {},
   "outputs": [
    {
     "name": "stdout",
     "output_type": "stream",
     "text": [
      "CPU times: total: 0 ns\n",
      "Wall time: 3.7 ms\n"
     ]
    },
    {
     "data": {
      "text/plain": [
       "((7, 3), (6, 4), 1.4142135623730951)"
      ]
     },
     "execution_count": 32,
     "metadata": {},
     "output_type": "execute_result"
    }
   ],
   "source": [
    "%%time\n",
    "\n",
    "closest_brute_force(points)"
   ]
  },
  {
   "cell_type": "code",
   "execution_count": 33,
   "id": "d7354e90",
   "metadata": {},
   "outputs": [
    {
     "name": "stdout",
     "output_type": "stream",
     "text": [
      "CPU times: total: 0 ns\n",
      "Wall time: 0 ns\n"
     ]
    },
    {
     "data": {
      "text/plain": [
       "((7, 3), (6, 4), 1.4142135623730951)"
      ]
     },
     "execution_count": 33,
     "metadata": {},
     "output_type": "execute_result"
    }
   ],
   "source": [
    "%%time\n",
    "\n",
    "closest_dist_math(points)"
   ]
  },
  {
   "cell_type": "markdown",
   "id": "81fd53c1-022a-4497-b7b0-7a22dfa3a12c",
   "metadata": {},
   "source": [
    "### Ideas / Solutions:\n",
    "\n",
    "Step 1: traverse each point, and then find the distance between itself \n",
    "and rest of all the other points. O(n^2) problem...\n",
    "\n",
    "![Alt text](image-21.png)\n",
    "\n",
    "In the above figure the dist function is calculated as below\n",
    "def dist(p1,p2):\n",
    "    return math.sqrt(((p2[1]-p1[1])**2)+((p2[2]-p1[2])**2))\n",
    "\n",
    "Idea from Video:\n",
    "\n",
    "Using the divide and conquering the points. In pic below, the highlighted pairs are from two different part of the problem space \n",
    "\n",
    "step 1: Start by dividing the space using the mid point \n",
    "\n",
    "step 2: Start by recursively finding the minimum distance between two points\n",
    "\n",
    "step 3: Create a rectangle search space around the mid point y-axis\n",
    "![Alt text](image-22.png)\n",
    "\n",
    "work on reducing the search space using the rectangle, and there can  \n",
    "be only 6 points inside the rectangle\n",
    "\n",
    "![Alt text](image-23.png)\n",
    "\n",
    "In the above solution, we can achieve O(nlogn) time complexity, which is very fast..."
   ]
  },
  {
   "cell_type": "markdown",
   "id": "3547dc5b-3276-4981-b212-507b333e82e2",
   "metadata": {},
   "source": [
    "### Implementation Challenges\n",
    "\n",
    "Ch_1 : Understanding that inside the minimum rectangle band there can be only six points, or else the rectangle will become smaller\n",
    "\n",
    "Ch_2 : "
   ]
  },
  {
   "cell_type": "markdown",
   "id": "3737b48b-67f4-4e1f-a4bf-5f2c88be72f1",
   "metadata": {},
   "source": [
    "### Where can be used in real world?\n",
    "\n",
    "Finding the distance between two points given a set of n points has various real-world applications in different domains. This problem is often referred to as the \"nearest neighbor problem\" or \"closest pair problem.\" Here are some practical applications:\n",
    "\n",
    "Geographical Information Systems (GIS):\n",
    "\n",
    "Map Navigation: In GPS-based navigation systems, finding the distance between two coordinates (latitude and longitude) among a set of n points helps users determine the shortest route between locations.\n",
    "Location-based Services: Location-based apps use this problem to provide users with nearby restaurants, shops, or services.\n",
    "Robotics and Autonomous Vehicles:\n",
    "\n",
    "Path Planning: Robots, drones, and autonomous vehicles use nearest neighbor algorithms to avoid obstacles and find the shortest path between two points in an environment.\n",
    "Object Recognition: In computer vision, finding the nearest neighbor point in a database can help identify and classify objects.\n",
    "Data Clustering:\n",
    "\n",
    "K-Means Clustering: In machine learning and data analysis, the nearest neighbor problem is used in K-means clustering algorithms to group data points based on their proximity to cluster centers.\n",
    "Density-Based Clustering: Algorithms like DBSCAN (Density-Based Spatial Clustering of Applications with Noise) use nearest neighbors to identify dense regions in datasets.\n",
    "Recommendation Systems:\n",
    "\n",
    "Collaborative Filtering: Recommender systems use the nearest neighbor problem to identify users or items similar to a target user or item for personalized recommendations.\n",
    "Network Design:\n",
    "\n",
    "Facility Location: In supply chain and logistics, companies use the nearest neighbor problem to determine the optimal location for warehouses, distribution centers, and delivery routes.\n",
    "Molecular Biology:\n",
    "\n",
    "Protein Structure Prediction: In computational biology, finding the nearest neighbors of atoms or amino acids in proteins helps predict their 3D structures and understand protein interactions.\n",
    "Social Networking:\n",
    "\n",
    "Friend Recommendations: Social media platforms use the nearest neighbor problem to suggest friends or connections based on common interests or interactions.\n",
    "Customer Analytics:\n",
    "\n",
    "Customer Segmentation: Retailers and e-commerce platforms use nearest neighbor algorithms to group customers with similar purchase histories or behaviors.\n",
    "Anomaly Detection:\n",
    "\n",
    "Outlier Detection: Identifying anomalies or outliers in datasets often involves finding data points that are farthest from their nearest neighbors.\n",
    "Natural Language Processing (NLP):\n",
    "\n",
    "Document Retrieval: In information retrieval, finding the nearest neighbors of a query document helps retrieve relevant documents from a large corpus.\n",
    "Recommendations for Mobile Apps:\n",
    "\n",
    "App Recommendations: Mobile app stores use the nearest neighbor problem to suggest apps to users based on their interests and usage patterns.\n",
    "Traffic Engineering:\n",
    "\n",
    "Traffic Signal Synchronization: Traffic engineers use this problem to optimize traffic signal timings and reduce congestion on road networks.\n",
    "Disaster Management:\n",
    "\n",
    "Emergency Response: Emergency responders use the nearest neighbor problem to locate the nearest resources, such as medical facilities or fire stations, during disasters or crises.\n",
    "These are just a few examples of how finding the distance between two points among a set of n points has practical applications in diverse fields. Nearest neighbor algorithms are versatile tools for solving proximity-related problems and enabling data-driven decision-making."
   ]
  },
  {
   "cell_type": "markdown",
   "id": "1486a539-b785-473a-83ac-7fc8fb620e8f",
   "metadata": {},
   "source": [
    "![Alt text](image-24.png)"
   ]
  },
  {
   "cell_type": "markdown",
   "id": "bfb5f68b-dd4f-4ad2-9d5d-eb216f4a0c66",
   "metadata": {},
   "source": [
    "![Alt text](image-26.png)"
   ]
  },
  {
   "cell_type": "code",
   "execution_count": 34,
   "id": "ec9c26f1-ca2d-4419-aff1-810a2664b08c",
   "metadata": {},
   "outputs": [],
   "source": [
    "def rec(xsorted, ysorted):\n",
    "    n = len(xsorted)\n",
    "\n",
    "    if n <= 3:\n",
    "        return closest_brute_force(xsorted)\n",
    "\n",
    "    else:\n",
    "        midpoint = xsorted[n // 2]\n",
    "        xsorted_left = xsorted[: n//2]\n",
    "        xsorted_right = xsorted[n//2: ]\n",
    "        ysorted_left = []\n",
    "        ysorted_right = []\n",
    "        \n",
    "        for point in ysorted:\n",
    "            ysorted_left.append(point) if (point[0] <= midpoint[0]) else ysorted_right.append(point)\n",
    "\n",
    "        (p1_left, p2_left, delta_left) = rec(xsorted_left, ysorted_left)\n",
    "\n",
    "        (p1_right, p2_right, delta_right) = rec(xsorted_right, ysorted_right)\n",
    "\n",
    "        (p1, p2, delta) = (p1_left, p2_left, delta_left) if (delta_left < delta_right) else (p1_right, p2_right, delta_right) \n",
    "\n",
    "        in_band = [point for point in ysorted if midpoint[0]-delta < point[0] < midpoint[0]+delta]\n",
    "\n",
    "        for i in range(len(in_band)):\n",
    "            for j in range(i+1, min(i+7, len(in_band))):\n",
    "                d = dist(in_band[i], in_band[j])\n",
    "                if d < delta:\n",
    "                    (p1, p2, delta) = (in_band[i], in_band[j], d)\n",
    "        \n",
    "        return p1, p2, delta"
   ]
  },
  {
   "cell_type": "code",
   "execution_count": 26,
   "id": "d9d3a512",
   "metadata": {},
   "outputs": [],
   "source": [
    "def closest(points):\n",
    "    xsort = sorted(points, key= lambda point: point[0])\n",
    "    ysort = sorted(points, key= lambda point: point[1])\n",
    "    return rec(xsort, ysort)"
   ]
  },
  {
   "cell_type": "code",
   "execution_count": 35,
   "id": "0d9b80fc-cb30-479d-b851-5dfea6709aa2",
   "metadata": {},
   "outputs": [
    {
     "data": {
      "text/plain": [
       "((11, 3), (12, 2), 1.4142135623730951)"
      ]
     },
     "execution_count": 35,
     "metadata": {},
     "output_type": "execute_result"
    }
   ],
   "source": [
    "closest(points=points)\n",
    "\n",
    "# There can be more than one set of closest points..."
   ]
  },
  {
   "cell_type": "code",
   "execution_count": null,
   "id": "0b670b79-e9ad-4c25-aae9-9b6bf615f1b7",
   "metadata": {},
   "outputs": [],
   "source": []
  }
 ],
 "metadata": {
  "kernelspec": {
   "display_name": "Python 3 (ipykernel)",
   "language": "python",
   "name": "python3"
  },
  "language_info": {
   "codemirror_mode": {
    "name": "ipython",
    "version": 3
   },
   "file_extension": ".py",
   "mimetype": "text/x-python",
   "name": "python",
   "nbconvert_exporter": "python",
   "pygments_lexer": "ipython3",
   "version": "3.11.4"
  }
 },
 "nbformat": 4,
 "nbformat_minor": 5
}
