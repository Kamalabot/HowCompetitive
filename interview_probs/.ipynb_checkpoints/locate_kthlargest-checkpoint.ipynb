{
 "cells": [
  {
   "cell_type": "markdown",
   "id": "79a27626-aac8-456e-b7ce-a9a3c2066bf7",
   "metadata": {},
   "source": [
    "### Problem 1:\n",
    "\n",
    "Given sorted array and a target integer, return the index of first and last position of the target inside the array"
   ]
  },
  {
   "cell_type": "markdown",
   "id": "81fd53c1-022a-4497-b7b0-7a22dfa3a12c",
   "metadata": {},
   "source": [
    "### Ideas / Solutions:\n",
    "\n",
    "Step 1: Locate all the indices of target inside the array\n",
    "\n",
    "Step 2: Return the lowest and highest indices\n",
    "\n"
   ]
  },
  {
   "cell_type": "markdown",
   "id": "3547dc5b-3276-4981-b212-507b333e82e2",
   "metadata": {},
   "source": [
    "### Implementation Challenges\n",
    "\n",
    "Ch_1 : \n",
    "\n",
    "Ch_2: "
   ]
  },
  {
   "cell_type": "markdown",
   "id": "3737b48b-67f4-4e1f-a4bf-5f2c88be72f1",
   "metadata": {},
   "source": [
    "### Where can be used in real world?\n",
    "\n",
    "**Data Retrieval in Databases:** searching for specific values in a dataset (e.g., SQL queries) often involves finding the indices or positions of records that match certain criteria.\n",
    "\n",
    "**Search Engines**: like Google use indexing techniques to quickly locate web pages or documents that contain specific keywords or phrases.\n",
    "Text Processing:\n",
    "\n",
    "**NLP**: indexing can be used to locate the positions of specific words or phrases within a text, enabling tasks like sentiment analysis, named entity recognition, and text summarization.\n",
    "Image Processing:\n",
    "\n",
    "**Image recognition**: often involve locating the position of specific objects, patterns, or features within an image, which requires indexing.\n",
    "Genomic Data Analysis:\n",
    "\n",
    "**Bioinformatics**: relies on indexing techniques to locate specific DNA sequences or genes within large genome datasets.\n",
    "Data Compression:\n",
    "\n",
    "Indexing is used in **compression algorithms** to represent data more efficiently by referencing positions within a dataset.\n",
    "Web Development:\n",
    "\n",
    "**web development**: indices are used in various applications, including locating elements in HTML documents, finding elements in arrays (e.g., JavaScript), and implementing search functionality on websites.\n",
    "\n",
    "**Network Routing:** routing algorithms may involve locating the indices or positions of nodes or devices in a network topology to determine the optimal path for data transmission.\n",
    "Resource Allocation and Scheduling:\n",
    "\n",
    "In scheduling and **resource allocation problems**, finding the indices of available resources or time slots can help optimize various processes, such as project scheduling or job allocation.\n",
    "\n",
    "**Inventory Management:**\n",
    "In supply chain and inventory management, locating items within a warehouse or tracking the availability of products in a store involves indexing.\n",
    "Machine Learning:\n",
    "\n",
    "In **machine learning**, indexing can be used in feature extraction, where the positions of important features within data samples are identified and used for model training.\n",
    "\n",
    "**Security systems** may use indexing to detect anomalies or intrusions by identifying patterns or sequences of events within log data or network traffic.\n",
    "Geographical Information Systems (GIS):\n",
    "\n",
    "**GIS applications** use indexing to locate geographical features, such as landmarks, addresses, or coordinates, on maps or in spatial databases.\n",
    "\n",
    "**Compilers use indexing** to efficiently locate and manipulate variables and functions within source code during the compilation process.\n",
    "\n",
    "E-commerce platforms and **recommendation systems** use indexing to match user preferences with products or content."
   ]
  },
  {
   "cell_type": "code",
   "execution_count": 4,
   "id": "43593663-4641-447b-80e4-426ca7dfd631",
   "metadata": {},
   "outputs": [],
   "source": [
    "sample = [2,3,7,6,6,5,6,6,8,9,0]\n",
    "tgt = 6\n",
    "loc = [3,7]"
   ]
  },
  {
   "cell_type": "code",
   "execution_count": 26,
   "id": "bb101dd9-5485-4aa1-9f48-4329bd1a709c",
   "metadata": {},
   "outputs": [
    {
     "data": {
      "text/plain": [
       "[0, 2, 3, 5, 6, 6, 6, 6, 7, 8, 9]"
      ]
     },
     "execution_count": 26,
     "metadata": {},
     "output_type": "execute_result"
    }
   ],
   "source": [
    "sorted(sample)"
   ]
  },
  {
   "cell_type": "code",
   "execution_count": 2,
   "id": "7fda4506-15e6-4f07-b16f-2523ab74707c",
   "metadata": {},
   "outputs": [],
   "source": [
    "# Implementing the solution\n",
    "\n",
    "def track_loc(arr,tgt):\n",
    "    #need to check if the tgt is in arr\n",
    "    if tgt not in arr:\n",
    "        return [-1,-1]\n",
    "\n",
    "    indices = []\n",
    "    \n",
    "    for ind, val in enumerate(arr):\n",
    "        if val == tgt:\n",
    "            indices.append(ind)\n",
    "\n",
    "    return [indices[0],indices[-1]]\n",
    "    "
   ]
  },
  {
   "cell_type": "code",
   "execution_count": 5,
   "id": "ce5a1468-7c20-452c-9e9f-bfe92c8f0938",
   "metadata": {},
   "outputs": [
    {
     "data": {
      "text/plain": [
       "[3, 7]"
      ]
     },
     "execution_count": 5,
     "metadata": {},
     "output_type": "execute_result"
    }
   ],
   "source": [
    "track_loc(sample,tgt)"
   ]
  },
  {
   "cell_type": "code",
   "execution_count": 9,
   "id": "c81dbc82-9734-404b-b1b9-128d291be21c",
   "metadata": {},
   "outputs": [],
   "source": [
    "# implementing the above algo using for & while loops\n",
    "\n",
    "def track_loc(arr,tgt):\n",
    "    for i in range(len(arr)):\n",
    "        if arr[i] == tgt:\n",
    "            start = i\n",
    "            while i + 1 < len(arr) and arr[i+1] == tgt: #algo assumes the tgt is located in\n",
    "                i += 1                                  #the list consequtively\n",
    "            return [start, i]\n",
    "    return [-1,-1]"
   ]
  },
  {
   "cell_type": "code",
   "execution_count": 10,
   "id": "50c8ccea-0fb0-4ee4-a899-0f0a2e7d0ced",
   "metadata": {},
   "outputs": [
    {
     "data": {
      "text/plain": [
       "[3, 4]"
      ]
     },
     "execution_count": 10,
     "metadata": {},
     "output_type": "execute_result"
    }
   ],
   "source": [
    "track_loc(sample,tgt)"
   ]
  },
  {
   "cell_type": "code",
   "execution_count": 21,
   "id": "1486a539-b785-473a-83ac-7fc8fb620e8f",
   "metadata": {},
   "outputs": [],
   "source": [
    "# implementing the above algo using binary search. The array is assumed to be sorted\n",
    "\n",
    "def find_start(arr,tgt):\n",
    "    arr = sorted(arr) #ensure the array is sorted\n",
    "    if arr[0] == tgt:\n",
    "        return 0\n",
    "\n",
    "    left, right = 0, len(arr) - 1\n",
    "\n",
    "    #initial assumption, is mid is the start position, and number before that is checked\n",
    "    #because the number has to be smaller \n",
    "    while left <= right:\n",
    "        mid = (left + right) // 2\n",
    "\n",
    "        if arr[mid] == tgt and arr[mid - 1] < tgt:\n",
    "\n",
    "            return mid\n",
    "        \n",
    "        elif arr[mid] < tgt:\n",
    "            left = mid + 1\n",
    "\n",
    "        else:\n",
    "            right = mid - 1\n",
    "\n",
    "    return -1"
   ]
  },
  {
   "cell_type": "code",
   "execution_count": 22,
   "id": "bfb5f68b-dd4f-4ad2-9d5d-eb216f4a0c66",
   "metadata": {},
   "outputs": [],
   "source": [
    "def find_end(arr,tgt):\n",
    "    arr = sorted(arr) #ensure the array is sorted\n",
    "    if arr[-1] == tgt:\n",
    "        return len(arr) - 1\n",
    "\n",
    "    left, right = 0, len(arr) - 1\n",
    "\n",
    "    # each of the condition is first simulated and then implemented step by step\n",
    "    while left <= right:\n",
    "        mid = (left + right) // 2 # the // returns the integer\n",
    "\n",
    "        if arr[mid] == tgt and arr[mid + 1] > tgt:\n",
    "            return mid\n",
    "\n",
    "        elif arr[mid] > tgt:\n",
    "            right = mid - 1\n",
    "\n",
    "        else:\n",
    "            left = mid + 1\n",
    "    \n",
    "    return -1"
   ]
  },
  {
   "cell_type": "code",
   "execution_count": 25,
   "id": "36e680ac-78bd-4b80-a152-e470f9018bbc",
   "metadata": {},
   "outputs": [
    {
     "data": {
      "text/plain": [
       "7"
      ]
     },
     "execution_count": 25,
     "metadata": {},
     "output_type": "execute_result"
    }
   ],
   "source": [
    "find_end(arr=sample,tgt=tgt)"
   ]
  },
  {
   "cell_type": "code",
   "execution_count": 24,
   "id": "58ede25e-78ab-4506-b5b5-71736903d1f2",
   "metadata": {},
   "outputs": [
    {
     "data": {
      "text/plain": [
       "4"
      ]
     },
     "execution_count": 24,
     "metadata": {},
     "output_type": "execute_result"
    }
   ],
   "source": [
    "find_start(arr=sample,tgt=tgt)"
   ]
  },
  {
   "cell_type": "code",
   "execution_count": 33,
   "id": "6ee5ecb6-4bd9-4f68-9e7f-aa53847202d9",
   "metadata": {},
   "outputs": [],
   "source": [
    "def fnl(arr,tgt):\n",
    "    arr = sorted(arr) #the assumption is, array is sorted\n",
    "    if len(arr) == 0 or arr[0] > tgt or arr[-1] < tgt:\n",
    "        return [-1,-1]\n",
    "    \n",
    "    start = find_start(arr,tgt)\n",
    "    \n",
    "    end = find_end(arr,tgt)\n",
    "    \n",
    "    return [start, end]"
   ]
  },
  {
   "cell_type": "code",
   "execution_count": 34,
   "id": "84e6b036-cc75-499d-9947-e7e77d85399f",
   "metadata": {},
   "outputs": [
    {
     "data": {
      "text/plain": [
       "[4, 7]"
      ]
     },
     "execution_count": 34,
     "metadata": {},
     "output_type": "execute_result"
    }
   ],
   "source": [
    "fnl(arr=sample,tgt=tgt)"
   ]
  },
  {
   "cell_type": "code",
   "execution_count": null,
   "id": "ec9c26f1-ca2d-4419-aff1-810a2664b08c",
   "metadata": {},
   "outputs": [],
   "source": []
  },
  {
   "cell_type": "code",
   "execution_count": null,
   "id": "0d9b80fc-cb30-479d-b851-5dfea6709aa2",
   "metadata": {},
   "outputs": [],
   "source": []
  },
  {
   "cell_type": "code",
   "execution_count": null,
   "id": "0b670b79-e9ad-4c25-aae9-9b6bf615f1b7",
   "metadata": {},
   "outputs": [],
   "source": []
  }
 ],
 "metadata": {
  "kernelspec": {
   "display_name": "Python 3 (ipykernel)",
   "language": "python",
   "name": "python3"
  },
  "language_info": {
   "codemirror_mode": {
    "name": "ipython",
    "version": 3
   },
   "file_extension": ".py",
   "mimetype": "text/x-python",
   "name": "python",
   "nbconvert_exporter": "python",
   "pygments_lexer": "ipython3",
   "version": "3.11.4"
  }
 },
 "nbformat": 4,
 "nbformat_minor": 5
}
