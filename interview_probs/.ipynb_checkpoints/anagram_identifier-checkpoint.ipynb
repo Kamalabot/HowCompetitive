{
 "cells": [
  {
   "cell_type": "markdown",
   "id": "79a27626-aac8-456e-b7ce-a9a3c2066bf7",
   "metadata": {},
   "source": [
    "### Problem 1:\n",
    "\n",
    "Given 2 strings s1 and s2 check if they are anagrams\n",
    "\n",
    "#### Anagrams :\n",
    "Two strings are anagrams if they are made of same characters with same frequencies"
   ]
  },
  {
   "cell_type": "markdown",
   "id": "81fd53c1-022a-4497-b7b0-7a22dfa3a12c",
   "metadata": {},
   "source": [
    "### Ideas / Solutions:\n",
    "\n",
    "Step 1: Need to extract the letters in the string and then count them\n",
    "\n",
    "Step 2: Check the count of each characters are same in both the strings \n",
    "\n",
    "If they are same then return true, else return false"
   ]
  },
  {
   "cell_type": "markdown",
   "id": "3547dc5b-3276-4981-b212-507b333e82e2",
   "metadata": {},
   "source": [
    "### Implementation Challenges\n",
    "\n",
    "Ch_1 : There are multiple ways to count the characters inside the string, and then store them. Since there can be any character inside the string, we have to resort to a **dictionary** \n",
    "\n",
    "Ch_2: If there are many characters, then enumerating over the characters can take time, so we need time efficient algo to compare"
   ]
  },
  {
   "cell_type": "markdown",
   "id": "3737b48b-67f4-4e1f-a4bf-5f2c88be72f1",
   "metadata": {},
   "source": [
    "### Where can be used in real world?\n",
    "\n",
    "**Cryptography**:\n",
    "Anagramming can be used as a basic form of encryption or data obfuscation, where a message is rearranged to hide its meaning from unauthorized readers.\n",
    "\n",
    "**Text analysis**: Anagram checking can be used in textual analysis to identify hidden meanings or authorship attribution by analyzing an author's unique anagrammatic style.\n",
    "Data Validation:\n",
    "\n",
    "**Spellcheckers**: Anagram checking helps in verifying the validity of a word by comparing it to a known set of valid words.\n",
    "Password validation: Anagrams can be used to check if a user's password is a simple rearrangement of common words, making it easier to crack.\n",
    "\n",
    "**Search engines**: Anagram algorithms can help search engines find relevant results when a user misspells a word or enters a jumbled query.\n",
    "Medical Research:\n",
    "\n",
    "**Genetic sequencing**: In bioinformatics, anagrams can be used to identify anagrams of gene sequences, which might have significant biological implications.\n",
    "Game Development:\n",
    "\n",
    "**Brand names and slogans**: Anagram checking can be used to verify if a proposed brand name or slogan unintentionally spells something undesirable in another language.\n",
    "Entertainment and Social Media:\n",
    "\n",
    "**Anagram-based compression** algorithms can be explored to reduce the size of text data.\n",
    "Computational Linguistics:"
   ]
  },
  {
   "cell_type": "code",
   "execution_count": 8,
   "id": "43593663-4641-447b-80e4-426ca7dfd631",
   "metadata": {},
   "outputs": [
    {
     "data": {
      "text/plain": [
       "[('a', 1), ('b', 2)]"
      ]
     },
     "execution_count": 8,
     "metadata": {},
     "output_type": "execute_result"
    }
   ],
   "source": [
    "trial = dict({'a':1,'b':2})\n",
    "list(trial.items())"
   ]
  },
  {
   "cell_type": "code",
   "execution_count": 9,
   "id": "7fda4506-15e6-4f07-b16f-2523ab74707c",
   "metadata": {},
   "outputs": [],
   "source": [
    "# Implementing the solution\n",
    "\n",
    "def are_anags(s1,s2):\n",
    "    #if length is unequal, then strings cannot be anagrams\n",
    "    if len(s1) != len(s2):\n",
    "        return False\n",
    "    #Creating the hash table for frequency storing\n",
    "    freq1 = {} #Each variable and its traversing by the logic has to be \n",
    "    freq2 = {} #considered in the complexity analysis\n",
    "\n",
    "    for c in s1:\n",
    "        if c in freq1:\n",
    "            freq1[c] = freq1[c] + 1\n",
    "        else:\n",
    "            freq1[c] = 1\n",
    "\n",
    "    for c in s2:\n",
    "        if c in freq2:\n",
    "            freq2[c] = freq2[c] + 1\n",
    "        else:\n",
    "            freq2[c] = 1\n",
    "\n",
    "    #Comparison: Each key needs to be searched, then its value compared. Even if \n",
    "    #one key is not there in the other hashtable, then return false\n",
    "\n",
    "    for k, v in freq1.items():\n",
    "        if k not in freq2:\n",
    "            return False\n",
    "        elif freq2[k] != freq1[k]:\n",
    "            return False\n",
    "        else:\n",
    "            return True\n",
    "    "
   ]
  },
  {
   "cell_type": "code",
   "execution_count": 10,
   "id": "ce5a1468-7c20-452c-9e9f-bfe92c8f0938",
   "metadata": {},
   "outputs": [
    {
     "data": {
      "text/plain": [
       "True"
      ]
     },
     "execution_count": 10,
     "metadata": {},
     "output_type": "execute_result"
    }
   ],
   "source": [
    "st1 = 'alpha'\n",
    "st2 = 'lapha'\n",
    "\n",
    "are_anags(st1,st2)"
   ]
  },
  {
   "cell_type": "code",
   "execution_count": 11,
   "id": "c81dbc82-9734-404b-b1b9-128d291be21c",
   "metadata": {},
   "outputs": [
    {
     "data": {
      "text/plain": [
       "True"
      ]
     },
     "execution_count": 11,
     "metadata": {},
     "output_type": "execute_result"
    }
   ],
   "source": [
    "# implementing the above algo using collections' Counter\n",
    "from collections import Counter\n",
    "def are_colanags(s1,s2):\n",
    "    if len(s1) != len(s2):\n",
    "        return False\n",
    "\n",
    "    return Counter(s1) == Counter(s2)\n",
    "\n",
    "are_colanags(st1,st2)"
   ]
  },
  {
   "cell_type": "code",
   "execution_count": 12,
   "id": "50c8ccea-0fb0-4ee4-a899-0f0a2e7d0ced",
   "metadata": {},
   "outputs": [
    {
     "data": {
      "text/plain": [
       "True"
      ]
     },
     "execution_count": 12,
     "metadata": {},
     "output_type": "execute_result"
    }
   ],
   "source": [
    "# implementing the above algo using sorted function\n",
    "# because the sorted strings that are same, will be anagrams\n",
    "from collections import Counter\n",
    "\n",
    "def are_sortanags(s1,s2):\n",
    "    if len(s1) != len(s2):\n",
    "        return False\n",
    "\n",
    "    return sorted(s1) == sorted(s2)\n",
    "\n",
    "are_colanags(st1,st2)"
   ]
  },
  {
   "cell_type": "code",
   "execution_count": null,
   "id": "1486a539-b785-473a-83ac-7fc8fb620e8f",
   "metadata": {},
   "outputs": [],
   "source": []
  },
  {
   "cell_type": "code",
   "execution_count": null,
   "id": "bfb5f68b-dd4f-4ad2-9d5d-eb216f4a0c66",
   "metadata": {},
   "outputs": [],
   "source": []
  },
  {
   "cell_type": "code",
   "execution_count": null,
   "id": "ec9c26f1-ca2d-4419-aff1-810a2664b08c",
   "metadata": {},
   "outputs": [],
   "source": []
  },
  {
   "cell_type": "code",
   "execution_count": null,
   "id": "0d9b80fc-cb30-479d-b851-5dfea6709aa2",
   "metadata": {},
   "outputs": [],
   "source": []
  },
  {
   "cell_type": "code",
   "execution_count": null,
   "id": "0b670b79-e9ad-4c25-aae9-9b6bf615f1b7",
   "metadata": {},
   "outputs": [],
   "source": []
  }
 ],
 "metadata": {
  "kernelspec": {
   "display_name": "Python 3 (ipykernel)",
   "language": "python",
   "name": "python3"
  },
  "language_info": {
   "codemirror_mode": {
    "name": "ipython",
    "version": 3
   },
   "file_extension": ".py",
   "mimetype": "text/x-python",
   "name": "python",
   "nbconvert_exporter": "python",
   "pygments_lexer": "ipython3",
   "version": "3.11.4"
  }
 },
 "nbformat": 4,
 "nbformat_minor": 5
}
