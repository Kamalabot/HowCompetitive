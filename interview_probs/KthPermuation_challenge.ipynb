{
 "cells": [
  {
   "cell_type": "markdown",
   "metadata": {},
   "source": [
    "### Problem 8: Kth Permuation Problem \n",
    "\n",
    "With the range of numbers from 1 to n inclusive, we can make n! permutations. Go ahead find each permutation, and label them from 1, and then you are asked to return the kth permuation.\n",
    "\n",
    "### Understanding requirement:\n",
    "\n",
    "The brute force logic will call for permutating and finding each one, and then returning the one asked. To my knowledge, it will be O(n^2) time complexity challenge\n",
    "\n",
    "![Alt text](image-2.png)"
   ]
  },
  {
   "cell_type": "markdown",
   "metadata": {},
   "source": [
    "### Ideas / Solutions:\n",
    "\n",
    "Step 1: We have to swap the position of the number inside the list \n",
    "\n",
    "Step 2: Swap a number to the start of the list, and then swap the next two numbers. You can visualise this in the above 3 number case easily\n",
    "\n",
    "[There can be a specific process that needs to be followed, so look out]\n",
    "\n",
    "Step 3: Return the requested permutation. \n",
    "\n",
    "Time complexity is O(n * n!) which is staggeringly slow\n",
    "\n",
    "![Thts neat is it not](image-3.png)\n",
    "\n",
    "The idea is by looking at the permutations in the above way, we can get the combination w/o doing permuations\n",
    "\n",
    "![visualising the numbers this way gives better idea](image-4.png)"
   ]
  },
  {
   "cell_type": "code",
   "execution_count": 2,
   "metadata": {},
   "outputs": [
    {
     "data": {
      "text/plain": [
       "<itertools.permutations at 0x7fe28828de40>"
      ]
     },
     "execution_count": 2,
     "metadata": {},
     "output_type": "execute_result"
    }
   ],
   "source": [
    "import itertools\n",
    "\n",
    "x = [5,7,8,6]\n",
    "\n",
    "itertools.permutations(range(2),1)"
   ]
  },
  {
   "cell_type": "code",
   "execution_count": null,
   "metadata": {},
   "outputs": [],
   "source": [
    "\n",
    "def kth_perm(n,k):\n",
    "    perms = list(itertools.permutations(range(1,n+1)))\n",
    "    return ''.join(map(str,kth_perm[k-1]))"
   ]
  },
  {
   "cell_type": "markdown",
   "metadata": {},
   "source": [
    "### Implementation Challenges\n",
    "\n",
    "Ch_1: One can mis-understand the problem. The array that is required to be permutated is not any list of arrays, but a simple list of range(n)\n",
    "\n",
    "Ch_2: its a recursive problem, as the part where the permutation is found is located then we need to work on that part, and the initial problem changes. Learning to change the problem is another challenge\n",
    "\n",
    "![Its a tree problem...](image-5.png)"
   ]
  },
  {
   "cell_type": "markdown",
   "metadata": {},
   "source": [
    "### Where can be used in real world?\n",
    "\n",
    "Identifying and returning the Kth permutation of a set or sequence is a problem that has various real-world applications, especially in computer science, mathematics, and related fields. Here are a few practical applications where finding the Kth permutation is relevant:\n",
    "\n",
    "Combinatorial Algorithms: In combinatorial mathematics and discrete optimization, the Kth permutation can be used to generate unique arrangements or combinations of elements. For example, when designing experiments or simulations, you might need to generate different trial orders.\n",
    "\n",
    "Cryptography: In some cryptographic applications, specific permutations are used to encrypt or scramble data. Finding the Kth permutation can be relevant in decryption processes or cryptanalysis.\n",
    "\n",
    "Random Sampling: In statistical sampling and Monte Carlo simulations, generating random permutations can be used for random sampling. Knowing the Kth permutation allows you to systematically sample from a large population.\n",
    "\n",
    "Shuffling Algorithms: In card games, board games, and applications involving randomization (e.g., online quizzes), shuffling algorithms use permutations to shuffle and randomize elements. The Kth permutation can help recreate a specific shuffle.\n",
    "\n",
    "Password Generation: When generating secure passwords, you might use permutations of characters to create unique and complex passwords. The Kth permutation can be used to select a specific password pattern.\n",
    "\n",
    "Puzzle Solving: Solving puzzles, such as Rubik's Cube or Sudoku, often involves permutations. Finding the Kth permutation can be useful in puzzle-solving algorithms and strategies.\n",
    "\n",
    "Error-Correcting Codes: In coding theory and error detection/correction, permutations play a role in designing codes with specific properties. Knowing the Kth permutation can aid in code design and analysis.\n",
    "\n",
    "Genetics and DNA Sequencing: In bioinformatics and genetics, permutations can represent different sequences of genetic elements (e.g., nucleotides). Analyzing Kth permutations can be relevant in studying genetic variations.\n",
    "\n",
    "String Matching Algorithms: Certain string matching and pattern matching algorithms, such as the Knuth-Morris-Pratt algorithm, involve permutations. Finding the Kth permutation can have applications in text processing and searching.\n",
    "\n",
    "Resource Allocation: In resource allocation problems, permutations can represent different orders or allocations of resources. The Kth permutation might be relevant in optimizing resource allocation strategies.\n"
   ]
  },
  {
   "cell_type": "markdown",
   "metadata": {},
   "source": [
    "![Alt text](image-6.png)"
   ]
  },
  {
   "cell_type": "markdown",
   "metadata": {},
   "source": [
    "![Alt text](image-7.png)"
   ]
  },
  {
   "cell_type": "code",
   "execution_count": null,
   "metadata": {},
   "outputs": [],
   "source": []
  },
  {
   "cell_type": "code",
   "execution_count": null,
   "metadata": {},
   "outputs": [],
   "source": []
  },
  {
   "cell_type": "code",
   "execution_count": null,
   "metadata": {},
   "outputs": [],
   "source": []
  }
 ],
 "metadata": {
  "kernelspec": {
   "display_name": "jupyter_env",
   "language": "python",
   "name": "python3"
  },
  "language_info": {
   "codemirror_mode": {
    "name": "ipython",
    "version": 3
   },
   "file_extension": ".py",
   "mimetype": "text/x-python",
   "name": "python",
   "nbconvert_exporter": "python",
   "pygments_lexer": "ipython3",
   "version": "3.11.4"
  },
  "orig_nbformat": 4
 },
 "nbformat": 4,
 "nbformat_minor": 2
}
