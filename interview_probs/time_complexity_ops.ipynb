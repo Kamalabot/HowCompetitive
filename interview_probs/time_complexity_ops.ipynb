{
 "cells": [
  {
   "cell_type": "markdown",
   "id": "1cc648e5-9ea8-41e3-878a-6e2591e6c137",
   "metadata": {},
   "source": [
    "## Time complexity in Python"
   ]
  },
  {
   "cell_type": "markdown",
   "id": "91938c91-5220-4f26-a089-71674922b997",
   "metadata": {},
   "source": [
    "**O(1) - Constant Time:**\n",
    "\n",
    "Constant time complexity means that the algorithm's runtime does not depend on the size of the input.\n",
    "\n",
    "It's the fastest time complexity.\n",
    "\n",
    "Example: Accessing an element in an array by its index.\n"
   ]
  },
  {
   "cell_type": "code",
   "execution_count": 2,
   "id": "469e6e06-c824-4c87-ba9d-29365f26a82c",
   "metadata": {},
   "outputs": [],
   "source": [
    "def access_element(arr, index):\n",
    "    return arr[index]\n",
    "\n",
    "# This operation takes constant time regardless of the size of the array."
   ]
  },
  {
   "cell_type": "markdown",
   "id": "1ae78993-c1a8-44e6-82d8-4edf36fb7535",
   "metadata": {},
   "source": [
    "**O(n) - Linear Time:**\n",
    "\n",
    "Linear time complexity means that the algorithm's runtime grows linearly with the size of the input.\n",
    "\n",
    "Example: Searching for a specific element in an unsorted list using linear search."
   ]
  },
  {
   "cell_type": "code",
   "execution_count": 3,
   "id": "0c992e1f-114e-4341-8db3-a21c09cf8645",
   "metadata": {},
   "outputs": [],
   "source": [
    "def linear_search(arr, target):\n",
    "    for i, element in enumerate(arr):\n",
    "        if element == target:\n",
    "            return i\n",
    "    return -1\n",
    "\n",
    "# In the worst case, this operation may have to go through all n elements."
   ]
  },
  {
   "cell_type": "markdown",
   "id": "46e5aa7c-1acf-4fca-b666-9306b580781b",
   "metadata": {},
   "source": [
    "**O(log n) - Logarithmic Time:**\n",
    "\n",
    "Logarithmic time complexity means that the algorithm's runtime increases slowly as the input size grows.\n",
    "\n",
    "Example: Binary search in a sorted list."
   ]
  },
  {
   "cell_type": "code",
   "execution_count": 4,
   "id": "a0a6e3be-fb3a-4bbd-ad11-05462ea8eea5",
   "metadata": {},
   "outputs": [],
   "source": [
    "def binary_search(arr, target):\n",
    "    \n",
    "    left, right = 0, len(arr) - 1\n",
    "    \n",
    "    while left <= right:\n",
    "        mid = (left + right) // 2\n",
    "        if arr[mid] == target:\n",
    "            return mid\n",
    "        elif arr[mid] < target:\n",
    "            left = mid + 1\n",
    "        else:\n",
    "            right = mid - 1\n",
    "    \n",
    "    return -1"
   ]
  },
  {
   "cell_type": "markdown",
   "id": "7a7ae93f-d685-4fef-8ac3-a58e5a54b093",
   "metadata": {},
   "source": [
    "**O(n log n) - Linearithmic Time:**\n",
    "\n",
    "Linearithmic time complexity is often seen in efficient sorting algorithms.\n",
    "\n",
    "Example: Merge Sort, which divides the array into smaller parts and then merges them."
   ]
  },
  {
   "cell_type": "code",
   "execution_count": 5,
   "id": "77b5670a-1841-4fdc-b301-eedcbd5759dc",
   "metadata": {},
   "outputs": [],
   "source": [
    "def merge_sort(arr):\n",
    "    if len(arr) <= 1:\n",
    "        return arr\n",
    "\n",
    "    mid = len(arr) // 2\n",
    "    left = merge_sort(arr[:mid])\n",
    "    right = merge_sort(arr[mid:])\n",
    "\n",
    "    return merge(left, right)  # Merging takes O(n) time\n",
    "\n",
    "# Merge Sort divides the array into halves, so it's O(n log n)."
   ]
  },
  {
   "cell_type": "markdown",
   "id": "6afd98b8-3213-42f6-ac2e-beea7c33bcca",
   "metadata": {},
   "source": [
    "**O(n^2) - Quadratic Time:**\n",
    "\n",
    "Quadratic time complexity means that the algorithm's runtime grows quadratically with the input size.\n",
    "\n",
    "Example: Nested loops iterating over all pairs of elements in a list."
   ]
  },
  {
   "cell_type": "code",
   "execution_count": 6,
   "id": "3dda7393-cd3e-4d65-b779-1dde193b8d56",
   "metadata": {},
   "outputs": [],
   "source": [
    "def find_pairs(arr):\n",
    "    pairs = []\n",
    "    for i in range(len(arr)):\n",
    "        for j in range(i + 1, len(arr)):\n",
    "            pairs.append((arr[i], arr[j]))\n",
    "    return pairs"
   ]
  },
  {
   "cell_type": "markdown",
   "id": "d3c29db1-3a53-441a-b015-c53c479e1967",
   "metadata": {},
   "source": [
    "**O(2^n) - Exponential Time:**\n",
    "\n",
    "Exponential time complexity grows rapidly with input size and is generally considered inefficient for large inputs.\n",
    "\n",
    "Example: Generating all subsets of a set."
   ]
  },
  {
   "cell_type": "code",
   "execution_count": 7,
   "id": "4085fe78-59e4-46eb-a346-768f62782e5f",
   "metadata": {},
   "outputs": [],
   "source": [
    "def generate_subsets(arr):\n",
    "    if not arr:\n",
    "        return [[]]\n",
    "    subsets = generate_subsets(arr[:-1])\n",
    "    item = arr[-1]\n",
    "    new_subsets = [subset + [item] for subset in subsets]\n",
    "    return subsets + new_subsets\n",
    "\n",
    "# The number of subsets doubles with each element, resulting in O(2^n) complexity."
   ]
  },
  {
   "cell_type": "markdown",
   "id": "71c04104-bf5e-4205-829c-625a348d4c00",
   "metadata": {},
   "source": [
    "**List Operations**:\n",
    "\n",
    "Accessing an element by index: O(1)\n",
    "\n",
    "Appending an element to the end: O(1) on average, amortized time\n",
    "\n",
    "Inserting or deleting an element (not at the end): O(n), where n is the number of elements shifted\n",
    "\n",
    "Searching for an element (linear search): O(n)\n",
    "\n",
    "Sorting a list (using the built-in sorted() or list.sort()): O(n log n) for the average and \n",
    "worst-case scenarios (Timsort, which combines merge sort and insertion sort)\n"
   ]
  },
  {
   "cell_type": "markdown",
   "id": "cc50cc1f-555d-40be-ab6c-90d8f73bee3f",
   "metadata": {},
   "source": [
    "**Dictionary (dict) Operations:**\n",
    "\n",
    "Accessing a value by key: O(1) on average, but can degrade to O(n) in rare cases\n",
    "\n",
    "Inserting or deleting a key-value pair: O(1) on average, but can degrade to O(n) in rare cases\n",
    "\n",
    "Iterating through keys or values: O(n)\n"
   ]
  },
  {
   "cell_type": "markdown",
   "id": "d1953149-1b36-4f3d-ad0c-69fec1c83cb6",
   "metadata": {},
   "source": [
    "**Set Operations:**\n",
    "\n",
    "Adding an element to a set: O(1) on average\n",
    "\n",
    "Removing an element from a set: O(1) on average\n",
    "\n",
    "Checking if an element is in a set: O(1) on average\n",
    "\n",
    "Set intersection, union, and difference: O(len(s)) where len(s) is the size of the smaller set\n"
   ]
  },
  {
   "cell_type": "markdown",
   "id": "b3963c45-da20-4fe6-b15d-ca247124128c",
   "metadata": {},
   "source": [
    "**String Operations:**\n",
    "\n",
    "Accessing a character by index: O(1)\n",
    "\n",
    "Concatenating two strings with the + operator: O(n), where n is the total length of the strings being concatenated\n",
    "\n",
    "Slicing a string: O(k), where k is the size of the slice\n",
    "\n",
    "Searching for a substring (e.g., using str.find()): O(n)\n",
    "\n",
    "String interpolation (e.g., f-strings or str.format()): O(n), where n is the length of the resulting string\n"
   ]
  },
  {
   "cell_type": "markdown",
   "id": "b6643372-dcd7-4d53-ae9d-95804f742448",
   "metadata": {},
   "source": [
    "**Queue (deque) Operations:**\n",
    "\n",
    "Adding or removing an element from the front or back of a deque: O(1)\n",
    "Sorting:\n",
    "\n",
    "Sorting algorithms like quicksort or mergesort have an average and worst-case time complexity of O(n log n).\n",
    "                                                                                                   \n",
    "Python's built-in sorted() function uses Timsort, which is a hybrid sorting algorithm and has an average-case time complexity of O(n log n).\n",
    "\n",
    "**Dictionary Keys or Set Membership Testing:**\n",
    "\n",
    "Testing whether a key exists in a dictionary or an element is in a set: O(1) on average, but can degrade to O(n) in rare cases for hash collisions.\n",
    "Iterating Through Collections:\n",
    "\n",
    "Iterating through a list, dictionary, or set with a for loop: O(n), where n is the size of the collection.\n",
    "m"
   ]
  },
  {
   "cell_type": "markdown",
   "id": "981b392d-e080-47fa-93b6-1c0ddd8c63c8",
   "metadata": {},
   "source": [
    "**Worst-case vs. Average-case vs. Best-case Time Complexity:**\n",
    "\n",
    "Algorithms can have different time complexities under different scenarios. It's essential to consider the worst-case, average-case, and best-case time complexities to have a comprehensive understanding of an algorithm's performance.\n",
    "\n",
    "**Big O Notation as an Upper Bound:**\n",
    "\n",
    "Big O notation provides an upper bound on an algorithm's runtime. It describes how an algorithm's performance scales with input size, focusing on the most significant factors.\n",
    "\n",
    "**Hidden Constants and Lower Bounds:**\n",
    "\n",
    "Big O notation abstracts away constant factors and lower-order terms. It provides a simplified view of an algorithm's growth rate but may not capture fine-grained differences between algorithms with the same notation.\n",
    "\n",
    "**Space Complexity:**\n",
    "\n",
    "Time complexity focuses on how an algorithm's runtime scales with input size. Space complexity, on the other hand, analyzes how the algorithm's memory usage grows with input size.\n",
    "\n",
    "**Trade-offs Between Time and Space:**\n",
    "\n",
    "Some algorithms optimize for time complexity at the cost of increased space complexity, and vice versa. Understanding these trade-offs is crucial when choosing algorithms for specific applications.\n",
    "\n",
    "**Asymptotic Analysis:**\n",
    "\n",
    "Time complexity calculations are concerned with how an algorithm performs as the input size approaches infinity. Asymptotic analysis provides insights into an algorithm's behavior for large inputs.\n",
    "\n",
    "**Real-world vs. Theoretical Performance:**\n",
    "\n",
    "In practice, an algorithm's actual performance can be influenced by various factors, including hardware, compiler optimizations, and specific input data. Empirical testing is often needed to assess real-world performance accurately.\n",
    "\n",
    "**Comparative Analysis:**\n",
    "\n",
    "When selecting an algorithm for a particular task, it's essential to compare the time complexities of available algorithms to choose the most efficient one for the specific problem and input size.\n",
    "\n",
    "**Algorithmic Paradigms:**\n",
    "\n",
    "Different types of algorithms (e.g., divide and conquer, dynamic programming, greedy algorithms) have characteristic time complexities. Understanding these paradigms can help in selecting appropriate strategies for solving specific problems.\n",
    "\n",
    "**Practical Considerations:**\n",
    "\n",
    "While time complexity provides valuable insights, practical considerations such as ease of implementation, maintainability, and available libraries or tools may also influence algorithm selection.\n",
    "\n",
    "**Optimization and Profiling:**\n",
    "\n",
    "Profiling tools can help measure an algorithm's actual runtime for specific inputs, identifying bottlenecks and areas for optimization.\n",
    "\n",
    "**Trade-offs with Complexity:**\n",
    "\n",
    "Increasing the complexity of an algorithm (e.g., switching from O(n) to O(n log n)) may be justified if it leads to substantial improvements in practical performance, such as reducing memory usage or improving cache efficiency.\n",
    "\n",
    "**Algorithmic Efficiency:**\n",
    "\n",
    "Achieving optimal time complexity is not always necessary or practical. Striking a balance between algorithmic efficiency and other considerations (e.g., code readability, maintainability) is often important in software development."
   ]
  },
  {
   "cell_type": "markdown",
   "id": "78cb7ac8-9c4f-4f42-ae20-9d64c3261e1e",
   "metadata": {},
   "source": [
    "Certainly! Here are several algorithmic paradigms along with two common example problems for each:\n",
    "\n",
    "**Divide and Conquer:**\n",
    "\n",
    "Common Example Problems:\n",
    "Merge Sort: Sorting a list efficiently.\n",
    "Binary Search: Finding a target element in a sorted list.\n",
    "\n",
    "**Dynamic Programming:**\n",
    "\n",
    "Common Example Problems:\n",
    "Fibonacci Sequence: Calculating the nth Fibonacci number.\n",
    "Longest Common Subsequence: Finding the longest subsequence shared by two sequences.\n",
    "\n",
    "**Greedy Algorithms:**\n",
    "\n",
    "Common Example Problems:\n",
    "Fractional Knapsack Problem: Maximizing the value of items placed in a knapsack with limited capacity.\n",
    "Huffman Coding: Constructing a variable-length prefix coding for data compression.\n",
    "\n",
    "**Backtracking:**\n",
    "\n",
    "Common Example Problems:\n",
    "N-Queens Problem: Placing N queens on an NxN chessboard without attacking each other.\n",
    "Sudoku Solver: Filling in a partially completed Sudoku puzzle.\n",
    "\n",
    "**Brute Force:**\n",
    "\n",
    "Common Example Problems:\n",
    "Subset Sum: Determining if there exists a subset of elements in an array that adds up to a given target sum.\n",
    "Traveling Salesman Problem: Finding the shortest possible route that visits a set of cities and returns to the starting city.\n",
    "\n",
    "**Graph Algorithms:**\n",
    "\n",
    "Common Example Problems:\n",
    "Dijkstra's Algorithm: Finding the shortest path in a weighted graph.\n",
    "Depth-First Search (DFS): Traversing and exploring all nodes in a graph.\n",
    "\n",
    "**Breadth-First Search (BFS):**\n",
    "\n",
    "Common Example Problems:\n",
    "Shortest Path in Unweighted Graph: Finding the shortest path between two nodes in an unweighted graph.\n",
    "Minimum Spanning Tree: Finding the minimum weight set of edges that connects all nodes in a graph.\n",
    "\n",
    "**Tree Algorithms:**\n",
    "\n",
    "Common Example Problems:\n",
    "Binary Tree Traversal: Inorder, Preorder, Postorder traversal of a binary tree.\n",
    "Lowest Common Ancestor (LCA): Finding the lowest common ancestor of two nodes in a tree.\n",
    "\n",
    "**Sorting Algorithms:**\n",
    "\n",
    "Common Example Problems:\n",
    "Quick Sort: Sorting an array or list efficiently.\n",
    "Radix Sort: Sorting integers or strings by processing digits or characters from the least significant to the most significant.\n",
    "\n",
    "**Bit Manipulation:**\n",
    "\n",
    "Common Example Problems:\n",
    "Bitwise XOR Operation: Finding the XOR of all elements in an array.\n",
    "Counting Set Bits (Hamming Weight): Counting the number of 1s in the binary representation of an integer.\n",
    "\n",
    "**Network Flow Algorithms:**\n",
    "\n",
    "Common Example Problems:\n",
    "Max Flow Min Cut: Finding the maximum flow from a source to a sink in a flow network.\n",
    "Bipartite Matching: Finding the largest possible set of mutually compatible elements between two sets.\n",
    "\n",
    "**Linear Programming:**\n",
    "\n",
    "Common Example Problems:\n",
    "Linear Optimization: Maximizing or minimizing a linear objective function subject to linear constraints.\n",
    "Simplex Method: Solving linear programming problems by iteratively moving to the optimal solution.\n",
    "\n",
    "These algorithmic paradigms provide a structured approach to solving a wide range of computational problems. Depending on the nature of the problem and its requirements, one or more of these paradigms can be applied to design efficient algorithms."
   ]
  },
  {
   "cell_type": "code",
   "execution_count": null,
   "id": "1d95b038-005c-4465-9bc8-7443f7f958e0",
   "metadata": {},
   "outputs": [],
   "source": []
  }
 ],
 "metadata": {
  "kernelspec": {
   "display_name": "Python 3 (ipykernel)",
   "language": "python",
   "name": "python3"
  },
  "language_info": {
   "codemirror_mode": {
    "name": "ipython",
    "version": 3
   },
   "file_extension": ".py",
   "mimetype": "text/x-python",
   "name": "python",
   "nbconvert_exporter": "python",
   "pygments_lexer": "ipython3",
   "version": "3.11.4"
  }
 },
 "nbformat": 4,
 "nbformat_minor": 5
}
