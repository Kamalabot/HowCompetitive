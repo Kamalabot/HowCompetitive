{
 "cells": [
  {
   "cell_type": "markdown",
   "id": "79a27626-aac8-456e-b7ce-a9a3c2066bf7",
   "metadata": {},
   "source": [
    "### Problem 3:\n",
    "\n",
    "Given an arry of integers arr and int k, find the \"kth\" largest element"
   ]
  },
  {
   "cell_type": "markdown",
   "id": "81fd53c1-022a-4497-b7b0-7a22dfa3a12c",
   "metadata": {},
   "source": [
    "### Ideas / Solutions:\n",
    "\n",
    "Step 1: Remove the duplicates in the array, by passing it into set() and convert back to list\n",
    "\n",
    "Skip step 1 if repeated values are acceptabled\n",
    "\n",
    "Step 2: Sort the array  \n",
    "\n",
    "Step 3: Return the kth value of the array\n",
    "\n",
    "### Another solution:\n",
    "\n",
    "Removing the max element, for the k - 1 number of times, and then looking for the max\n",
    "\n",
    "### Using Priority queue with Heaps"
   ]
  },
  {
   "cell_type": "markdown",
   "id": "3547dc5b-3276-4981-b212-507b333e82e2",
   "metadata": {},
   "source": [
    "### Implementation Challenges\n",
    "\n",
    "Ch_1: In case of the max finding and removing solution the time complexity is O(kn)   \n",
    "\n",
    "Ch_2: Sorting has the O(nlogn) time, which is worse\n",
    "\n",
    "ch_3: need to understand heapq"
   ]
  },
  {
   "cell_type": "markdown",
   "id": "3737b48b-67f4-4e1f-a4bf-5f2c88be72f1",
   "metadata": {},
   "source": [
    "### Where can be used in real world?\n",
    "\n",
    "Order Statistics:\n",
    "\n",
    "One of the most direct applications is finding the kth largest element to determine the kth order statistic in a dataset. This is used in statistical analysis and decision-making.\n",
    "\n",
    "Median Calculation:\n",
    "\n",
    "Finding the median (kth element where k is the middle position) of a dataset is a special case of finding the kth largest element. Median calculation is essential in statistics, data analysis, and even in some sorting algorithms like quicksort.\n",
    "\n",
    "Top-K Queries in Databases:\n",
    "\n",
    "In database systems, finding the kth largest element can be applied to top-k queries, where you retrieve the top k records or values from a dataset based on a specific criterion, such as sales, ratings, or scores.\n",
    "\n",
    "Financial Analysis:\n",
    "\n",
    "In finance, finding the kth largest value can be used to identify outliers or extreme values in a dataset. This is important in risk assessment and portfolio management.\n",
    "\n",
    "Recommendation Systems:\n",
    "\n",
    "Recommender systems often need to identify the top-k items or products to recommend to users based on their preferences or historical interactions.\n",
    "\n",
    "Data Stream Processing:\n",
    "\n",
    "In stream processing applications, finding the kth largest element in a sliding window of data can be used for real-time analytics, such as identifying trending topics in social media or monitoring network traffic.\n",
    "\n",
    "Selection Algorithms:\n",
    "\n",
    "Selection algorithms, which find the kth largest element efficiently (e.g., Quickselect), are used as building blocks in various other algorithms and data structures.\n",
    "\n",
    "Machine Learning and Feature Selection:\n",
    "\n",
    "In machine learning, finding the kth largest feature or weight in a model can be important for feature selection or interpretability.\n",
    "\n",
    "Quality Control in Manufacturing:\n",
    "\n",
    "Identifying the kth largest measurement in a set of product quality data can help detect defects or anomalies in a manufacturing process.\n",
    "\n",
    "Network Analysis:\n",
    "\n",
    "In social network analysis, finding the kth largest degree centrality or other network metrics can help identify influential nodes in a network.\n",
    "\n",
    "Healthcare and Medical Research:\n",
    "\n",
    "In medical research, identifying extreme values, such as the kth highest patient health metric, can be important for studying outliers and anomalies in data.\n",
    "\n",
    "Competitive Programming and Coding Challenges:\n",
    "\n",
    "Many coding challenges and programming contests involve finding the kth largest element as part of the problem statement."
   ]
  },
  {
   "cell_type": "code",
   "execution_count": 20,
   "id": "43593663-4641-447b-80e4-426ca7dfd631",
   "metadata": {},
   "outputs": [],
   "source": [
    "sample = [4,2,9,5,8,10,18,21,6,10]\n",
    "k = 4\n",
    "lar = 10 #(4th largest... repetition is accepted)"
   ]
  },
  {
   "cell_type": "code",
   "execution_count": 5,
   "id": "bb101dd9-5485-4aa1-9f48-4329bd1a709c",
   "metadata": {},
   "outputs": [
    {
     "data": {
      "text/plain": [
       "[2, 4, 5, 6, 8, 9, 10, 10, 18, 21]"
      ]
     },
     "execution_count": 5,
     "metadata": {},
     "output_type": "execute_result"
    }
   ],
   "source": [
    "sorted(sample)"
   ]
  },
  {
   "cell_type": "code",
   "execution_count": 10,
   "id": "7fda4506-15e6-4f07-b16f-2523ab74707c",
   "metadata": {},
   "outputs": [],
   "source": [
    "# Implementing the solution\n",
    "\n",
    "def kth_larg00(arr,k):\n",
    "    #need to check if the tgt is in arr\n",
    "    sort_arr = sorted(arr,reverse=True)\n",
    "\n",
    "    return sort_arr[k - 1]"
   ]
  },
  {
   "cell_type": "code",
   "execution_count": 11,
   "id": "ce5a1468-7c20-452c-9e9f-bfe92c8f0938",
   "metadata": {},
   "outputs": [
    {
     "data": {
      "text/plain": [
       "10"
      ]
     },
     "execution_count": 11,
     "metadata": {},
     "output_type": "execute_result"
    }
   ],
   "source": [
    "kth_larg00(sample,4)"
   ]
  },
  {
   "cell_type": "code",
   "execution_count": 22,
   "id": "bc33d35f-e8a9-4fac-9740-372237035bb4",
   "metadata": {},
   "outputs": [
    {
     "data": {
      "text/plain": [
       "21"
      ]
     },
     "execution_count": 22,
     "metadata": {},
     "output_type": "execute_result"
    }
   ],
   "source": [
    "max(sample)"
   ]
  },
  {
   "cell_type": "code",
   "execution_count": 23,
   "id": "c81dbc82-9734-404b-b1b9-128d291be21c",
   "metadata": {},
   "outputs": [],
   "source": [
    "# implementing the max num removal method\n",
    "\n",
    "def kth_larg01(arr,k):\n",
    "    while True:\n",
    "        mx = max(arr)\n",
    "        ind = arr.index(mx)\n",
    "        arr.pop(ind)\n",
    "        k -= 1\n",
    "        if k == 1: #the last max value has to be returned, so no need pop it\n",
    "            break\n",
    "    return max(arr)\n",
    "        "
   ]
  },
  {
   "cell_type": "code",
   "execution_count": 24,
   "id": "50c8ccea-0fb0-4ee4-a899-0f0a2e7d0ced",
   "metadata": {},
   "outputs": [
    {
     "data": {
      "text/plain": [
       "10"
      ]
     },
     "execution_count": 24,
     "metadata": {},
     "output_type": "execute_result"
    }
   ],
   "source": [
    "kth_larg01(arr=sample,k=4)"
   ]
  },
  {
   "cell_type": "code",
   "execution_count": 26,
   "id": "1486a539-b785-473a-83ac-7fc8fb620e8f",
   "metadata": {},
   "outputs": [],
   "source": [
    "# implementing the above algo using binary search. The array is assumed to be sorted\n",
    "\n",
    "def kth_larg02(arr,k):\n",
    "    for i in range(k-1):\n",
    "        arr.remove(max(arr))\n",
    "    return max(arr)"
   ]
  },
  {
   "cell_type": "code",
   "execution_count": 27,
   "id": "bfb5f68b-dd4f-4ad2-9d5d-eb216f4a0c66",
   "metadata": {},
   "outputs": [
    {
     "data": {
      "text/plain": [
       "5"
      ]
     },
     "execution_count": 27,
     "metadata": {},
     "output_type": "execute_result"
    }
   ],
   "source": [
    "kth_larg02(arr=sample,k=5)"
   ]
  },
  {
   "cell_type": "code",
   "execution_count": 29,
   "id": "08fb3e1d-2f1e-47ee-ba70-5e2888ff24e6",
   "metadata": {},
   "outputs": [
    {
     "name": "stdout",
     "output_type": "stream",
     "text": [
      "None\n"
     ]
    }
   ],
   "source": [
    "import heapq\n",
    "\n",
    "print(heapq.heapify(sample))"
   ]
  },
  {
   "cell_type": "code",
   "execution_count": 34,
   "id": "2bbacee9-4e2f-425b-8feb-e0d958b0bf07",
   "metadata": {},
   "outputs": [
    {
     "data": {
      "text/plain": [
       "[5, 4, 2]"
      ]
     },
     "execution_count": 34,
     "metadata": {},
     "output_type": "execute_result"
    }
   ],
   "source": [
    "heapq.nlargest(4,sample)"
   ]
  },
  {
   "cell_type": "code",
   "execution_count": 39,
   "id": "6ee5ecb6-4bd9-4f68-9e7f-aa53847202d9",
   "metadata": {},
   "outputs": [],
   "source": [
    "\n",
    "def kth_larg03(arr,k):\n",
    "    arr = [-ele for ele in arr]\n",
    "    \n",
    "    heapq.heapify(arr)\n",
    "    \n",
    "    for i in range(k - 1):\n",
    "        heapq.heappop(arr)\n",
    "\n",
    "    return -heapq.heappop(arr)"
   ]
  },
  {
   "cell_type": "code",
   "execution_count": 43,
   "id": "84e6b036-cc75-499d-9947-e7e77d85399f",
   "metadata": {},
   "outputs": [
    {
     "data": {
      "text/plain": [
       "5"
      ]
     },
     "execution_count": 43,
     "metadata": {},
     "output_type": "execute_result"
    }
   ],
   "source": [
    "kth_larg03(sample,1)"
   ]
  },
  {
   "cell_type": "code",
   "execution_count": null,
   "id": "ec9c26f1-ca2d-4419-aff1-810a2664b08c",
   "metadata": {},
   "outputs": [],
   "source": []
  },
  {
   "cell_type": "code",
   "execution_count": null,
   "id": "0d9b80fc-cb30-479d-b851-5dfea6709aa2",
   "metadata": {},
   "outputs": [],
   "source": []
  },
  {
   "cell_type": "code",
   "execution_count": null,
   "id": "0b670b79-e9ad-4c25-aae9-9b6bf615f1b7",
   "metadata": {},
   "outputs": [],
   "source": []
  }
 ],
 "metadata": {
  "kernelspec": {
   "display_name": "Python 3 (ipykernel)",
   "language": "python",
   "name": "python3"
  },
  "language_info": {
   "codemirror_mode": {
    "name": "ipython",
    "version": 3
   },
   "file_extension": ".py",
   "mimetype": "text/x-python",
   "name": "python",
   "nbconvert_exporter": "python",
   "pygments_lexer": "ipython3",
   "version": "3.11.4"
  }
 },
 "nbformat": 4,
 "nbformat_minor": 5
}
