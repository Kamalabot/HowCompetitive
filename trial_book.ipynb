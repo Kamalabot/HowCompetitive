{
 "cells": [
  {
   "cell_type": "code",
   "execution_count": 1,
   "metadata": {},
   "outputs": [],
   "source": [
    "word = 'PROHODNIHODNIK'"
   ]
  },
  {
   "cell_type": "markdown",
   "metadata": {},
   "source": [
    "Logic:\n",
    "\n",
    "* Each character check if it is in 'HONI'\n",
    "    yes? check next character in 'HONI'\n",
    "    no? drop the character"
   ]
  },
  {
   "cell_type": "code",
   "execution_count": 3,
   "metadata": {},
   "outputs": [],
   "source": [
    "from typing import List\n",
    "#okay, you don't really need this. list(word) will do!!\n",
    "def word_2List(w: str) ->List[str]:\n",
    "    word = []\n",
    "    for d in w:\n",
    "        word.append(d)\n",
    "    return word"
   ]
  },
  {
   "cell_type": "code",
   "execution_count": 26,
   "metadata": {},
   "outputs": [],
   "source": [
    "for c in word:\n",
    "    if c not in 'HONI':\n",
    "        word = word.replace(c,\"\")"
   ]
  },
  {
   "cell_type": "code",
   "execution_count": 8,
   "metadata": {},
   "outputs": [],
   "source": [
    "#remove the unwanted letters from the word\n",
    "def remove_notwanted(s:str) ->str:\n",
    "    for c in s:\n",
    "        if c not in 'HONI':\n",
    "            s = s.replace(c,\"\")\n",
    "    return s"
   ]
  },
  {
   "cell_type": "code",
   "execution_count": 2,
   "metadata": {},
   "outputs": [],
   "source": [
    "word = 'HHHHOOOONNNNIIIIHONI'"
   ]
  },
  {
   "cell_type": "code",
   "execution_count": 1,
   "metadata": {},
   "outputs": [],
   "source": [
    "def removeDuplicates(s):\n",
    "    chars = []\n",
    "    prev = None\n",
    " \n",
    "    for c in s:\n",
    "        if prev != c:\n",
    "            chars.append(c)\n",
    "            prev = c\n",
    " \n",
    "    return ''.join(chars) "
   ]
  },
  {
   "cell_type": "code",
   "execution_count": 33,
   "metadata": {},
   "outputs": [],
   "source": [
    "word = 'HONHI'\n",
    "word2 = 'HONHIOHONHIHIONI'\n",
    "word3 = 'HNONI'\n",
    "word4 = 'HOINI'\n",
    "word6 = 'HONHI' \n",
    "word7 = 'HIONHI'"
   ]
  },
  {
   "cell_type": "code",
   "execution_count": 37,
   "metadata": {},
   "outputs": [],
   "source": [
    "word = 'HIONHI'\n",
    "#Start from left\n",
    "#Assign None as previous\n",
    "#Get the character\n",
    "   #if first character then assign it to prev and append in array\n",
    "#Go to next character\n",
    "    #Based on prev character\n",
    "        # check if the current character is acceptable or not\n",
    "        # if acceptable, then append to array          \n",
    "\n",
    "def wrong_char(s: str)-> str:\n",
    "    char = []\n",
    "    prev = None\n",
    "    for c in word:\n",
    "        if prev == 'H':\n",
    "            if c != 'N' and c != 'I':\n",
    "                char.append(c)\n",
    "                prev = callable\n",
    "        elif prev == 'O':\n",
    "            if c != 'H' and c != 'I':\n",
    "                char.append(c)\n",
    "                prev = c\n",
    "        elif prev == 'N':\n",
    "            if c != 'H' and c != 'O':\n",
    "                char.append(c)\n",
    "                prev = c\n",
    "        elif prev == 'O':\n",
    "            if c != 'N' and c != 'I':\n",
    "                char.append(c)\n",
    "                prev = c\n",
    "        else:\n",
    "            char.append(c)\n",
    "            prev = c\n",
    "    return \"\".join(char)"
   ]
  },
  {
   "cell_type": "code",
   "execution_count": 51,
   "metadata": {},
   "outputs": [
    {
     "data": {
      "text/plain": [
       "'A'"
      ]
     },
     "execution_count": 51,
     "metadata": {},
     "output_type": "execute_result"
    }
   ],
   "source": [
    "temp = 'A'\n",
    "temp = temp.translate({'A': 'B', 'B': 'BA'})\n",
    "temp "
   ]
  },
  {
   "cell_type": "code",
   "execution_count": 56,
   "metadata": {},
   "outputs": [
    {
     "name": "stdout",
     "output_type": "stream",
     "text": [
      "BBABYBB\n"
     ]
    }
   ],
   "source": [
    "intab = [\"A\",\"B\"]\n",
    "outtab = [\"B\",\"BA\"]\n",
    "#trantab = str.maketrans(intab, outtab)\n",
    "\n",
    "strnw = \"ABAYAA\";\n",
    "print (strnw.translate({ord(x):y for (x,  y) in zip(intab, outtab)}))"
   ]
  },
  {
   "cell_type": "code",
   "execution_count": 137,
   "metadata": {},
   "outputs": [],
   "source": [
    "data = 'zepelepenapa papapripikapa'\n",
    "data = data.split(' ')\n",
    "get_word = len(data)"
   ]
  },
  {
   "cell_type": "code",
   "execution_count": 1,
   "metadata": {},
   "outputs": [],
   "source": [
    "text = ['+++===!!!!',\n",
    "'777777......TTTTTTTTTTTT',\n",
    "'(AABBC)',\n",
    "'3.1415555']"
   ]
  },
  {
   "cell_type": "code",
   "execution_count": 2,
   "metadata": {},
   "outputs": [
    {
     "data": {
      "text/plain": [
       "[Counter({'+': 3, '=': 3, '!': 4}),\n",
       " Counter({'7': 6, '.': 6, 'T': 12}),\n",
       " Counter({'(': 1, 'A': 2, 'B': 2, 'C': 1, ')': 1}),\n",
       " Counter({'3': 1, '.': 1, '1': 2, '4': 1, '5': 4})]"
      ]
     },
     "execution_count": 2,
     "metadata": {},
     "output_type": "execute_result"
    }
   ],
   "source": [
    "from collections import Counter\n",
    "\n",
    "temp = []\n",
    "\n",
    "for x in text:\n",
    "    temp.append(Counter(x))\n",
    "\n",
    "temp"
   ]
  },
  {
   "cell_type": "code",
   "execution_count": 7,
   "metadata": {},
   "outputs": [
    {
     "data": {
      "text/plain": [
       "dict_keys(['+', '=', '!'])"
      ]
     },
     "execution_count": 7,
     "metadata": {},
     "output_type": "execute_result"
    }
   ],
   "source": [
    "temp[0].keys()"
   ]
  },
  {
   "cell_type": "code",
   "execution_count": 11,
   "metadata": {},
   "outputs": [
    {
     "data": {
      "text/plain": [
       "dict_values([3, 3, 4])"
      ]
     },
     "execution_count": 11,
     "metadata": {},
     "output_type": "execute_result"
    }
   ],
   "source": [
    "temp[0].values()"
   ]
  },
  {
   "cell_type": "code",
   "execution_count": null,
   "metadata": {},
   "outputs": [
    {
     "data": {
      "text/plain": [
       "[2, 6, 10]"
      ]
     },
     "metadata": {},
     "output_type": "display_data"
    }
   ],
   "source": [
    "import re\n",
    "#get the location of p\n",
    "data = data[0]\n",
    "result = [_.start() for _ in re.finditer('p', data)]\n",
    "result "
   ]
  },
  {
   "cell_type": "code",
   "execution_count": 83,
   "metadata": {},
   "outputs": [
    {
     "data": {
      "text/plain": [
       "'zepelepenapa'"
      ]
     },
     "execution_count": 83,
     "metadata": {},
     "output_type": "execute_result"
    }
   ],
   "source": [
    "\n",
    "#Pseudocode\n",
    "#get the location of p where there is vowels before\n",
    "    #find location of p first\n",
    "        #then check if there is vowel before it\n",
    "            #if yes, then remove the p and its next char\n",
    "\n",
    "            # pepper    pepeppeper    "
   ]
  },
  {
   "cell_type": "code",
   "execution_count": null,
   "metadata": {},
   "outputs": [],
   "source": []
  },
  {
   "cell_type": "code",
   "execution_count": null,
   "metadata": {},
   "outputs": [],
   "source": []
  },
  {
   "cell_type": "code",
   "execution_count": null,
   "metadata": {},
   "outputs": [],
   "source": []
  }
 ],
 "metadata": {
  "interpreter": {
   "hash": "a42c93b5eee6b56421653baa65deacde473063d5c4965d27c7a75f4e31a8d403"
  },
  "kernelspec": {
   "display_name": "Python 3.7.12 64-bit (system)",
   "language": "python",
   "name": "python3"
  },
  "language_info": {
   "codemirror_mode": {
    "name": "ipython",
    "version": 3
   },
   "file_extension": ".py",
   "mimetype": "text/x-python",
   "name": "python",
   "nbconvert_exporter": "python",
   "pygments_lexer": "ipython3",
   "version": "3.7.12"
  },
  "orig_nbformat": 4
 },
 "nbformat": 4,
 "nbformat_minor": 2
}
