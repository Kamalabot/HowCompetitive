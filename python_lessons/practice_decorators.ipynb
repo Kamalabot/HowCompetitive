{
 "cells": [
  {
   "cell_type": "code",
   "execution_count": 1,
   "metadata": {},
   "outputs": [],
   "source": [
    "### Notebook that introduces the decorators in Python, and its use-cases"
   ]
  },
  {
   "cell_type": "code",
   "execution_count": 2,
   "metadata": {},
   "outputs": [],
   "source": [
    "### A decorator takes another function & extends the behavior of the latter function without modifying it"
   ]
  },
  {
   "cell_type": "code",
   "execution_count": 3,
   "metadata": {},
   "outputs": [
    {
     "name": "stdout",
     "output_type": "stream",
     "text": [
      "3\n"
     ]
    }
   ],
   "source": [
    "### A function returns a value based on the argument\n",
    "def add_one(number):\n",
    "    return number + 1\n",
    "print(add_one(2))"
   ]
  },
  {
   "cell_type": "code",
   "execution_count": 4,
   "metadata": {},
   "outputs": [],
   "source": [
    "### function can be passed as arguments\n",
    "def say_hello(name):\n",
    "    return f\"Hi there {name}\"\n",
    "\n",
    "def be_awesome(name):\n",
    "    return f\"lets make things super fast... yo {name}\"\n",
    "\n",
    "def greet_bob(greeter_func):\n",
    "    # Function is written for doing a particular activity for particular object/ instance\n",
    "    return greeter_func(\"Bob\")"
   ]
  },
  {
   "cell_type": "code",
   "execution_count": 5,
   "metadata": {},
   "outputs": [
    {
     "data": {
      "text/plain": [
       "'lets make things super fast... yo Bob'"
      ]
     },
     "execution_count": 5,
     "metadata": {},
     "output_type": "execute_result"
    }
   ],
   "source": [
    "greet_bob(be_awesome)"
   ]
  },
  {
   "cell_type": "code",
   "execution_count": 6,
   "metadata": {},
   "outputs": [
    {
     "data": {
      "text/plain": [
       "'Hi there Bob'"
      ]
     },
     "execution_count": 6,
     "metadata": {},
     "output_type": "execute_result"
    }
   ],
   "source": [
    "greet_bob(say_hello)"
   ]
  },
  {
   "cell_type": "code",
   "execution_count": 7,
   "metadata": {},
   "outputs": [],
   "source": [
    "def parent():\n",
    "    print(\"Parent function is printing...\")\n",
    "\n",
    "    def first_child():\n",
    "        print(\"Printing from the first child function\")\n",
    "    \n",
    "    def second_child():\n",
    "        print(\"Printing from the second child function\")\n",
    "    \n",
    "    first_child()\n",
    "    second_child()"
   ]
  },
  {
   "cell_type": "code",
   "execution_count": 8,
   "metadata": {},
   "outputs": [
    {
     "name": "stdout",
     "output_type": "stream",
     "text": [
      "Parent function is printing...\n",
      "Printing from the first child function\n",
      "Printing from the second child function\n"
     ]
    }
   ],
   "source": [
    "parent()"
   ]
  },
  {
   "cell_type": "code",
   "execution_count": 10,
   "metadata": {},
   "outputs": [],
   "source": [
    "# function with () means the function is evaluated, while without () means the reference of the function\n",
    "\n",
    "def parent(num):\n",
    "    def first_child():\n",
    "        return \"hi.. child 1 here\"\n",
    "\n",
    "    def second():\n",
    "        return \"No 2 reporting\"\n",
    "\n",
    "    if num == 1:\n",
    "        return first_child\n",
    "\n",
    "    else:\n",
    "        return second\n",
    "    \n",
    "one = parent(1)  # the function is returned and assigned to variable one & two\n",
    "two = parent(2)"
   ]
  },
  {
   "cell_type": "code",
   "execution_count": 11,
   "metadata": {},
   "outputs": [
    {
     "data": {
      "text/plain": [
       "'No 2 reporting'"
      ]
     },
     "execution_count": 11,
     "metadata": {},
     "output_type": "execute_result"
    }
   ],
   "source": [
    "two()"
   ]
  },
  {
   "cell_type": "code",
   "execution_count": 13,
   "metadata": {},
   "outputs": [
    {
     "data": {
      "text/plain": [
       "<function __main__.decorator.<locals>.wrapper()>"
      ]
     },
     "execution_count": 13,
     "metadata": {},
     "output_type": "execute_result"
    }
   ],
   "source": [
    "def decorator(func):\n",
    "    \"\"\"Function that takes another function as argument, and does some processing before and after\n",
    "    calling it. It has internal function\"\"\"\n",
    "    # declare a wrapper function\n",
    "    def wrapper():\n",
    "        # do before op\n",
    "        print(\"operation before\")\n",
    "        func()  # call function\n",
    "        # do after op\n",
    "        print(\"operation after\")\n",
    "    # return wrapper \n",
    "    return wrapper\n",
    "\n",
    "def say_whee():\n",
    "    # print something\n",
    "    print('whee')\n",
    "    # return None\n",
    "\n",
    "say_whee = decorator(say_whee)\n",
    "say_whee"
   ]
  },
  {
   "cell_type": "code",
   "execution_count": 14,
   "metadata": {},
   "outputs": [
    {
     "name": "stdout",
     "output_type": "stream",
     "text": [
      "operation before\n",
      "whee\n",
      "operation after\n"
     ]
    }
   ],
   "source": [
    "say_whee()"
   ]
  },
  {
   "cell_type": "code",
   "execution_count": 23,
   "metadata": {},
   "outputs": [],
   "source": [
    "from datetime import datetime\n",
    "\n",
    "def not_during_the_night(func):\n",
    "    def wrapper():\n",
    "        #  if the time is between 7 to 10, then execute function\n",
    "        if 7 <= datetime.now().hour < 22:\n",
    "            func()\n",
    "        else:\n",
    "            pass\n",
    "    return wrapper\n",
    "\n",
    "def say_whee():\n",
    "    print(\"whee!\")\n",
    "\n",
    "say_whee = not_during_the_night(say_whee)"
   ]
  },
  {
   "cell_type": "code",
   "execution_count": 19,
   "metadata": {},
   "outputs": [],
   "source": [
    "say_whee()"
   ]
  },
  {
   "cell_type": "code",
   "execution_count": 24,
   "metadata": {},
   "outputs": [
    {
     "name": "stdout",
     "output_type": "stream",
     "text": [
      "Nice\n"
     ]
    }
   ],
   "source": [
    "@not_during_the_night\n",
    "def say_whee():\n",
    "    print('Nice')\n",
    "\n",
    "x = say_whee()\n",
    "x"
   ]
  },
  {
   "cell_type": "code",
   "execution_count": 27,
   "metadata": {},
   "outputs": [
    {
     "name": "stdout",
     "output_type": "stream",
     "text": [
      "this is decorated\n",
      "this is decorated\n"
     ]
    }
   ],
   "source": [
    "def twice_do(func):\n",
    "    def wrapper_do():\n",
    "        func()\n",
    "        func()\n",
    "    return wrapper_do\n",
    "\n",
    "@twice_do\n",
    "def say_hello():\n",
    "    print(f\"this is decorated\")\n",
    "\n",
    "say_hello()"
   ]
  },
  {
   "cell_type": "code",
   "execution_count": 28,
   "metadata": {},
   "outputs": [
    {
     "ename": "TypeError",
     "evalue": "twice_do.<locals>.wrapper_do() takes 0 positional arguments but 1 was given",
     "output_type": "error",
     "traceback": [
      "\u001b[1;31m---------------------------------------------------------------------------\u001b[0m",
      "\u001b[1;31mTypeError\u001b[0m                                 Traceback (most recent call last)",
      "\u001b[1;32md:\\gitFolders\\HowCompetitive\\python_lessons\\practice_decorators.ipynb Cell 17\u001b[0m line \u001b[0;36m1\n\u001b[1;32m----> <a href='vscode-notebook-cell:/d%3A/gitFolders/HowCompetitive/python_lessons/practice_decorators.ipynb#X22sZmlsZQ%3D%3D?line=0'>1</a>\u001b[0m say_hello(\u001b[39m'\u001b[39;49m\u001b[39mhero here\u001b[39;49m\u001b[39m'\u001b[39;49m)\n",
      "\u001b[1;31mTypeError\u001b[0m: twice_do.<locals>.wrapper_do() takes 0 positional arguments but 1 was given"
     ]
    }
   ],
   "source": [
    "say_hello('hero here')\n",
    "\n",
    "## The solution is to use *args and **kwargs in the inner wrapper function. Then it will accept an arbitrary number of positional and keyword arguments. "
   ]
  },
  {
   "cell_type": "code",
   "execution_count": 29,
   "metadata": {},
   "outputs": [],
   "source": [
    "def do_twice_args(func):\n",
    "    def twice_args(*args, **kwargs):\n",
    "        func(*args, **kwargs)\n",
    "        func(*args, **kwargs)\n",
    "    return twice_args"
   ]
  },
  {
   "cell_type": "code",
   "execution_count": 31,
   "metadata": {},
   "outputs": [
    {
     "name": "stdout",
     "output_type": "stream",
     "text": [
      "The name is: newYork\n",
      "The name is: newYork\n"
     ]
    }
   ],
   "source": [
    "@do_twice_args\n",
    "def say_args(name):\n",
    "    print(f\"The name is: {name}\")\n",
    "\n",
    "say_args('newYork')"
   ]
  },
  {
   "cell_type": "markdown",
   "metadata": {},
   "source": [
    "### Oops, your decorator ate the return value from the function.\n",
    "\n",
    "Introspection is the ability of an object to know about its own attributes at runtime."
   ]
  },
  {
   "cell_type": "code",
   "execution_count": 3,
   "metadata": {},
   "outputs": [],
   "source": [
    "# Outer decorator function, that takes a function\n",
    "def once_return(func):\n",
    "    # No operation on func, another process function created\n",
    "    def process(*args, **kwargs):\n",
    "        # call the func with *args\n",
    "        func(*args)\n",
    "        # can return like regular function\n",
    "        return func(*args)\n",
    "    # return the interal process function\n",
    "    return process"
   ]
  },
  {
   "cell_type": "code",
   "execution_count": 4,
   "metadata": {},
   "outputs": [
    {
     "name": "stdout",
     "output_type": "stream",
     "text": [
      "my name is: Corsica\n",
      "my name is: Corsica\n"
     ]
    },
    {
     "data": {
      "text/plain": [
       "'Corsica'"
      ]
     },
     "execution_count": 4,
     "metadata": {},
     "output_type": "execute_result"
    }
   ],
   "source": [
    "@once_return\n",
    "def say_ret(name):\n",
    "    print(f'my name is: {name}')\n",
    "    return name\n",
    "\n",
    "say_ret('Corsica')"
   ]
  },
  {
   "cell_type": "code",
   "execution_count": 1,
   "metadata": {},
   "outputs": [
    {
     "data": {
      "text/plain": [
       "<function print(*args, sep=' ', end='\\n', file=None, flush=False)>"
      ]
     },
     "execution_count": 1,
     "metadata": {},
     "output_type": "execute_result"
    }
   ],
   "source": [
    "print"
   ]
  },
  {
   "cell_type": "code",
   "execution_count": 6,
   "metadata": {},
   "outputs": [
    {
     "name": "stdout",
     "output_type": "stream",
     "text": [
      "process\n",
      "Help on function process in module __main__:\n",
      "\n",
      "process(*args, **kwargs)\n",
      "    # No operation on func, another process function created\n",
      "\n"
     ]
    }
   ],
   "source": [
    "print(say_ret.__name__)\n",
    "\n",
    "help(say_ret)"
   ]
  },
  {
   "cell_type": "code",
   "execution_count": 8,
   "metadata": {},
   "outputs": [],
   "source": [
    "import functools\n",
    "\n",
    "def do_twice(func):\n",
    "    @functools.wraps(func)\n",
    "    def wrapper_do_twice(*args, **kwargs):\n",
    "        func(*args, **kwargs)\n",
    "        return func(*args, **kwargs)\n",
    "\n",
    "    return wrapper_do_twice"
   ]
  },
  {
   "cell_type": "code",
   "execution_count": 9,
   "metadata": {},
   "outputs": [],
   "source": [
    "import functools\n",
    "import time\n",
    "\n",
    "def timer(func):\n",
    "    \"\"\"Print the runtime of the decorated function\"\"\"\n",
    "    @functools.wraps(func)\n",
    "    def wrapper_timer(*args, **kwargs):\n",
    "        start_time = time.perf_counter()    # 1\n",
    "        value = func(*args, **kwargs)\n",
    "        end_time = time.perf_counter()      # 2\n",
    "        run_time = end_time - start_time    # 3\n",
    "        print(f\"Finished {func.__name__!r} in {run_time:.4f} secs\")\n",
    "        return value\n",
    "    return wrapper_timer"
   ]
  },
  {
   "cell_type": "code",
   "execution_count": 11,
   "metadata": {},
   "outputs": [
    {
     "name": "stdout",
     "output_type": "stream",
     "text": [
      "Finished 'waste_some_time' in 0.2306 secs\n"
     ]
    }
   ],
   "source": [
    "@timer\n",
    "def waste_some_time(num_times):\n",
    "    for _ in range(num_times):\n",
    "        sum([i**2 for i in range(10000)])\n",
    "\n",
    "waste_some_time(100)"
   ]
  },
  {
   "cell_type": "code",
   "execution_count": 12,
   "metadata": {},
   "outputs": [],
   "source": [
    "import functools\n",
    "\n",
    "def debug(func):\n",
    "    \"\"\"Print the function signature and return value\"\"\"\n",
    "    @functools.wraps(func)\n",
    "    def wrapper_debug(*args, **kwargs):\n",
    "        args_repr = [repr(a) for a in args]                      # 1\n",
    "        kwargs_repr = [f\"{k}={v!r}\" for k, v in kwargs.items()]  # 2\n",
    "        signature = \", \".join(args_repr + kwargs_repr)           # 3\n",
    "        print(f\"Calling {func.__name__}({signature})\")\n",
    "        value = func(*args, **kwargs)\n",
    "        print(f\"{func.__name__!r} returned {value!r}\")           # 4\n",
    "        return value\n",
    "    return wrapper_debug"
   ]
  },
  {
   "cell_type": "code",
   "execution_count": 13,
   "metadata": {},
   "outputs": [],
   "source": [
    "@debug\n",
    "def make_greeting(name, age=None):\n",
    "    if age is None:\n",
    "        return f\"Howdy {name}!\"\n",
    "    else:\n",
    "        return f\"Whoa {name}! {age} already, you are growing up!\""
   ]
  },
  {
   "cell_type": "code",
   "execution_count": 14,
   "metadata": {},
   "outputs": [
    {
     "name": "stdout",
     "output_type": "stream",
     "text": [
      "Calling make_greeting('Benjamin')\n",
      "'make_greeting' returned 'Howdy Benjamin!'\n"
     ]
    },
    {
     "data": {
      "text/plain": [
       "'Howdy Benjamin!'"
      ]
     },
     "execution_count": 14,
     "metadata": {},
     "output_type": "execute_result"
    }
   ],
   "source": [
    "make_greeting(\"Benjamin\")"
   ]
  },
  {
   "cell_type": "code",
   "execution_count": 20,
   "metadata": {},
   "outputs": [],
   "source": [
    "import math\n",
    "\n",
    "math.fact = debug(math.factorial)\n",
    "\n",
    "def approx_e(terms = 10):\n",
    "    return sum(1 / math.fact(n) for n in range(terms))"
   ]
  },
  {
   "cell_type": "code",
   "execution_count": 21,
   "metadata": {},
   "outputs": [
    {
     "name": "stdout",
     "output_type": "stream",
     "text": [
      "Calling factorial(0)\n",
      "'factorial' returned 1\n",
      "Calling factorial(1)\n",
      "'factorial' returned 1\n",
      "Calling factorial(2)\n",
      "'factorial' returned 2\n",
      "Calling factorial(3)\n",
      "'factorial' returned 6\n",
      "Calling factorial(4)\n",
      "'factorial' returned 24\n"
     ]
    },
    {
     "data": {
      "text/plain": [
       "2.708333333333333"
      ]
     },
     "execution_count": 21,
     "metadata": {},
     "output_type": "execute_result"
    }
   ],
   "source": [
    "approx_e(5)"
   ]
  },
  {
   "cell_type": "code",
   "execution_count": 22,
   "metadata": {},
   "outputs": [],
   "source": [
    "def slow_down(func):\n",
    "    \"\"\"Sleep 1 second before calling the function\"\"\"\n",
    "    @functools.wraps(func)\n",
    "    def wrapper_slow_down(*args, **kwargs):\n",
    "        time.sleep(1)\n",
    "        return func(*args, **kwargs)\n",
    "    return wrapper_slow_down"
   ]
  },
  {
   "cell_type": "code",
   "execution_count": 23,
   "metadata": {},
   "outputs": [],
   "source": [
    "@slow_down\n",
    "def countdown(from_number):\n",
    "    if from_number < 1:\n",
    "        print(\"Liftoff!\")\n",
    "    else:\n",
    "        print(from_number)\n",
    "        countdown(from_number - 1)"
   ]
  },
  {
   "cell_type": "code",
   "execution_count": 24,
   "metadata": {},
   "outputs": [
    {
     "name": "stdout",
     "output_type": "stream",
     "text": [
      "2\n",
      "1\n",
      "Liftoff!\n"
     ]
    }
   ],
   "source": [
    "countdown(2)"
   ]
  },
  {
   "cell_type": "code",
   "execution_count": 25,
   "metadata": {},
   "outputs": [
    {
     "data": {
      "text/plain": [
       "{'__name__': '__main__',\n",
       " '__doc__': 'Automatically created module for IPython interactive environment',\n",
       " '__package__': None,\n",
       " '__loader__': None,\n",
       " '__spec__': None,\n",
       " '__builtin__': <module 'builtins' (built-in)>,\n",
       " '__builtins__': <module 'builtins' (built-in)>,\n",
       " '_ih': ['',\n",
       "  'print',\n",
       "  'say_ret.__name__',\n",
       "  '# Outer decorator function, that takes a function\\ndef once_return(func):\\n    # No operation on func, another process function created\\n    def process(*args, **kwargs):\\n        # call the func with *args\\n        func(*args)\\n        # can return like regular function\\n        return func(*args)\\n    # return the interal process function\\n    return process',\n",
       "  \"@once_return\\ndef say_ret(name):\\n    print(f'my name is: {name}')\\n    return name\\n\\nsay_ret('Corsica')\",\n",
       "  'say_ret.__name__',\n",
       "  'print(say_ret.__name__)\\n\\nhelp(say_ret)',\n",
       "  'import functools\\n\\ndef do_twice(func):\\n    @functools.wraps(func)\\n    def wrapper_do_twice(*args, **kwargs):\\n        func(*args, **kwargs)\\n        return func(*args, **kwargs)\\n\\n    return wrapper_do_twice',\n",
       "  'import functools\\n\\ndef do_twice(func):\\n    @functools.wraps(func)\\n    def wrapper_do_twice(*args, **kwargs):\\n        func(*args, **kwargs)\\n        return func(*args, **kwargs)\\n\\n    return wrapper_do_twice',\n",
       "  'import functools\\nimport time\\n\\ndef timer(func):\\n    \"\"\"Print the runtime of the decorated function\"\"\"\\n    @functools.wraps(func)\\n    def wrapper_timer(*args, **kwargs):\\n        start_time = time.perf_counter()    # 1\\n        value = func(*args, **kwargs)\\n        end_time = time.perf_counter()      # 2\\n        run_time = end_time - start_time    # 3\\n        print(f\"Finished {func.__name__!r} in {run_time:.4f} secs\")\\n        return value\\n    return wrapper_timer',\n",
       "  '@timer\\ndef waste_some_time(num_times):\\n    for _ in range(num_times):\\n        sum([i**2 for i in range(10000)])\\n\\nwaste_some_time(1)',\n",
       "  '@timer\\ndef waste_some_time(num_times):\\n    for _ in range(num_times):\\n        sum([i**2 for i in range(10000)])\\n\\nwaste_some_time(100)',\n",
       "  'import functools\\n\\ndef debug(func):\\n    \"\"\"Print the function signature and return value\"\"\"\\n    @functools.wraps(func)\\n    def wrapper_debug(*args, **kwargs):\\n        args_repr = [repr(a) for a in args]                      # 1\\n        kwargs_repr = [f\"{k}={v!r}\" for k, v in kwargs.items()]  # 2\\n        signature = \", \".join(args_repr + kwargs_repr)           # 3\\n        print(f\"Calling {func.__name__}({signature})\")\\n        value = func(*args, **kwargs)\\n        print(f\"{func.__name__!r} returned {value!r}\")           # 4\\n        return value\\n    return wrapper_debug',\n",
       "  '@debug\\ndef make_greeting(name, age=None):\\n    if age is None:\\n        return f\"Howdy {name}!\"\\n    else:\\n        return f\"Whoa {name}! {age} already, you are growing up!\"',\n",
       "  'make_greeting(\"Benjamin\")',\n",
       "  'approx_e(5)',\n",
       "  'import math\\n\\nmath.fact = debug(math.factorial)\\n\\ndef approx_e(terms = 10):\\n    return sum(1 / math.factorial(n) for n in range(terms))',\n",
       "  'approx_e(5)',\n",
       "  'import math\\n\\nmath.fact = debug(math.factorial)\\n\\ndef approx_e(terms = 10):\\n    return sum(1 / math.factorial(n) for n in range(terms))',\n",
       "  'approx_e(5)',\n",
       "  'import math\\n\\nmath.fact = debug(math.factorial)\\n\\ndef approx_e(terms = 10):\\n    return sum(1 / math.fact(n) for n in range(terms))',\n",
       "  'approx_e(5)',\n",
       "  'def slow_down(func):\\n    \"\"\"Sleep 1 second before calling the function\"\"\"\\n    @functools.wraps(func)\\n    def wrapper_slow_down(*args, **kwargs):\\n        time.sleep(1)\\n        return func(*args, **kwargs)\\n    return wrapper_slow_down',\n",
       "  '@slow_down\\ndef countdown(from_number):\\n    if from_number < 1:\\n        print(\"Liftoff!\")\\n    else:\\n        print(from_number)\\n        countdown(from_number - 1)',\n",
       "  'countdown(2)',\n",
       "  'globals()'],\n",
       " '_oh': {1: <function print(*args, sep=' ', end='\\n', file=None, flush=False)>,\n",
       "  4: 'Corsica',\n",
       "  5: 'process',\n",
       "  14: 'Howdy Benjamin!',\n",
       "  17: 2.708333333333333,\n",
       "  19: 2.708333333333333,\n",
       "  21: 2.708333333333333},\n",
       " '_dh': [WindowsPath('d:/gitFolders/HowCompetitive/python_lessons'),\n",
       "  WindowsPath('d:/gitFolders/HowCompetitive/python_lessons')],\n",
       " 'In': ['',\n",
       "  'print',\n",
       "  'say_ret.__name__',\n",
       "  '# Outer decorator function, that takes a function\\ndef once_return(func):\\n    # No operation on func, another process function created\\n    def process(*args, **kwargs):\\n        # call the func with *args\\n        func(*args)\\n        # can return like regular function\\n        return func(*args)\\n    # return the interal process function\\n    return process',\n",
       "  \"@once_return\\ndef say_ret(name):\\n    print(f'my name is: {name}')\\n    return name\\n\\nsay_ret('Corsica')\",\n",
       "  'say_ret.__name__',\n",
       "  'print(say_ret.__name__)\\n\\nhelp(say_ret)',\n",
       "  'import functools\\n\\ndef do_twice(func):\\n    @functools.wraps(func)\\n    def wrapper_do_twice(*args, **kwargs):\\n        func(*args, **kwargs)\\n        return func(*args, **kwargs)\\n\\n    return wrapper_do_twice',\n",
       "  'import functools\\n\\ndef do_twice(func):\\n    @functools.wraps(func)\\n    def wrapper_do_twice(*args, **kwargs):\\n        func(*args, **kwargs)\\n        return func(*args, **kwargs)\\n\\n    return wrapper_do_twice',\n",
       "  'import functools\\nimport time\\n\\ndef timer(func):\\n    \"\"\"Print the runtime of the decorated function\"\"\"\\n    @functools.wraps(func)\\n    def wrapper_timer(*args, **kwargs):\\n        start_time = time.perf_counter()    # 1\\n        value = func(*args, **kwargs)\\n        end_time = time.perf_counter()      # 2\\n        run_time = end_time - start_time    # 3\\n        print(f\"Finished {func.__name__!r} in {run_time:.4f} secs\")\\n        return value\\n    return wrapper_timer',\n",
       "  '@timer\\ndef waste_some_time(num_times):\\n    for _ in range(num_times):\\n        sum([i**2 for i in range(10000)])\\n\\nwaste_some_time(1)',\n",
       "  '@timer\\ndef waste_some_time(num_times):\\n    for _ in range(num_times):\\n        sum([i**2 for i in range(10000)])\\n\\nwaste_some_time(100)',\n",
       "  'import functools\\n\\ndef debug(func):\\n    \"\"\"Print the function signature and return value\"\"\"\\n    @functools.wraps(func)\\n    def wrapper_debug(*args, **kwargs):\\n        args_repr = [repr(a) for a in args]                      # 1\\n        kwargs_repr = [f\"{k}={v!r}\" for k, v in kwargs.items()]  # 2\\n        signature = \", \".join(args_repr + kwargs_repr)           # 3\\n        print(f\"Calling {func.__name__}({signature})\")\\n        value = func(*args, **kwargs)\\n        print(f\"{func.__name__!r} returned {value!r}\")           # 4\\n        return value\\n    return wrapper_debug',\n",
       "  '@debug\\ndef make_greeting(name, age=None):\\n    if age is None:\\n        return f\"Howdy {name}!\"\\n    else:\\n        return f\"Whoa {name}! {age} already, you are growing up!\"',\n",
       "  'make_greeting(\"Benjamin\")',\n",
       "  'approx_e(5)',\n",
       "  'import math\\n\\nmath.fact = debug(math.factorial)\\n\\ndef approx_e(terms = 10):\\n    return sum(1 / math.factorial(n) for n in range(terms))',\n",
       "  'approx_e(5)',\n",
       "  'import math\\n\\nmath.fact = debug(math.factorial)\\n\\ndef approx_e(terms = 10):\\n    return sum(1 / math.factorial(n) for n in range(terms))',\n",
       "  'approx_e(5)',\n",
       "  'import math\\n\\nmath.fact = debug(math.factorial)\\n\\ndef approx_e(terms = 10):\\n    return sum(1 / math.fact(n) for n in range(terms))',\n",
       "  'approx_e(5)',\n",
       "  'def slow_down(func):\\n    \"\"\"Sleep 1 second before calling the function\"\"\"\\n    @functools.wraps(func)\\n    def wrapper_slow_down(*args, **kwargs):\\n        time.sleep(1)\\n        return func(*args, **kwargs)\\n    return wrapper_slow_down',\n",
       "  '@slow_down\\ndef countdown(from_number):\\n    if from_number < 1:\\n        print(\"Liftoff!\")\\n    else:\\n        print(from_number)\\n        countdown(from_number - 1)',\n",
       "  'countdown(2)',\n",
       "  'globals()'],\n",
       " 'Out': {1: <function print(*args, sep=' ', end='\\n', file=None, flush=False)>,\n",
       "  4: 'Corsica',\n",
       "  5: 'process',\n",
       "  14: 'Howdy Benjamin!',\n",
       "  17: 2.708333333333333,\n",
       "  19: 2.708333333333333,\n",
       "  21: 2.708333333333333},\n",
       " 'get_ipython': <bound method InteractiveShell.get_ipython of <ipykernel.zmqshell.ZMQInteractiveShell object at 0x0000020A37B84510>>,\n",
       " 'exit': <IPython.core.autocall.ZMQExitAutocall at 0x20a37ba9490>,\n",
       " 'quit': <IPython.core.autocall.ZMQExitAutocall at 0x20a37ba9490>,\n",
       " 'open': <function io.open(file, mode='r', buffering=-1, encoding=None, errors=None, newline=None, closefd=True, opener=None)>,\n",
       " '_': 2.708333333333333,\n",
       " '__': 2.708333333333333,\n",
       " '___': 2.708333333333333,\n",
       " '__vsc_ipynb_file__': 'd:\\\\gitFolders\\\\HowCompetitive\\\\python_lessons\\\\practice_decorators.ipynb',\n",
       " '_i': 'countdown(2)',\n",
       " '_ii': '@slow_down\\ndef countdown(from_number):\\n    if from_number < 1:\\n        print(\"Liftoff!\")\\n    else:\\n        print(from_number)\\n        countdown(from_number - 1)',\n",
       " '_iii': 'def slow_down(func):\\n    \"\"\"Sleep 1 second before calling the function\"\"\"\\n    @functools.wraps(func)\\n    def wrapper_slow_down(*args, **kwargs):\\n        time.sleep(1)\\n        return func(*args, **kwargs)\\n    return wrapper_slow_down',\n",
       " '_i1': 'print',\n",
       " '_1': <function print(*args, sep=' ', end='\\n', file=None, flush=False)>,\n",
       " '_i2': 'say_ret.__name__',\n",
       " '_i3': '# Outer decorator function, that takes a function\\ndef once_return(func):\\n    # No operation on func, another process function created\\n    def process(*args, **kwargs):\\n        # call the func with *args\\n        func(*args)\\n        # can return like regular function\\n        return func(*args)\\n    # return the interal process function\\n    return process',\n",
       " 'once_return': <function __main__.once_return(func)>,\n",
       " '_i4': \"@once_return\\ndef say_ret(name):\\n    print(f'my name is: {name}')\\n    return name\\n\\nsay_ret('Corsica')\",\n",
       " 'say_ret': <function __main__.once_return.<locals>.process(*args, **kwargs)>,\n",
       " '_4': 'Corsica',\n",
       " '_i5': 'say_ret.__name__',\n",
       " '_5': 'process',\n",
       " '_i6': 'print(say_ret.__name__)\\n\\nhelp(say_ret)',\n",
       " '_i7': 'import functools\\n\\ndef do_twice(func):\\n    @functools.wraps(func)\\n    def wrapper_do_twice(*args, **kwargs):\\n        func(*args, **kwargs)\\n        return func(*args, **kwargs)\\n\\n    return wrapper_do_twice',\n",
       " 'functools': <module 'functools' from 'd:\\\\python_installs\\\\Lib\\\\functools.py'>,\n",
       " 'do_twice': <function __main__.do_twice(func)>,\n",
       " '_i8': 'import functools\\n\\ndef do_twice(func):\\n    @functools.wraps(func)\\n    def wrapper_do_twice(*args, **kwargs):\\n        func(*args, **kwargs)\\n        return func(*args, **kwargs)\\n\\n    return wrapper_do_twice',\n",
       " '_i9': 'import functools\\nimport time\\n\\ndef timer(func):\\n    \"\"\"Print the runtime of the decorated function\"\"\"\\n    @functools.wraps(func)\\n    def wrapper_timer(*args, **kwargs):\\n        start_time = time.perf_counter()    # 1\\n        value = func(*args, **kwargs)\\n        end_time = time.perf_counter()      # 2\\n        run_time = end_time - start_time    # 3\\n        print(f\"Finished {func.__name__!r} in {run_time:.4f} secs\")\\n        return value\\n    return wrapper_timer',\n",
       " 'time': <module 'time' (built-in)>,\n",
       " 'timer': <function __main__.timer(func)>,\n",
       " '_i10': '@timer\\ndef waste_some_time(num_times):\\n    for _ in range(num_times):\\n        sum([i**2 for i in range(10000)])\\n\\nwaste_some_time(1)',\n",
       " 'waste_some_time': <function __main__.waste_some_time(num_times)>,\n",
       " '_i11': '@timer\\ndef waste_some_time(num_times):\\n    for _ in range(num_times):\\n        sum([i**2 for i in range(10000)])\\n\\nwaste_some_time(100)',\n",
       " '_i12': 'import functools\\n\\ndef debug(func):\\n    \"\"\"Print the function signature and return value\"\"\"\\n    @functools.wraps(func)\\n    def wrapper_debug(*args, **kwargs):\\n        args_repr = [repr(a) for a in args]                      # 1\\n        kwargs_repr = [f\"{k}={v!r}\" for k, v in kwargs.items()]  # 2\\n        signature = \", \".join(args_repr + kwargs_repr)           # 3\\n        print(f\"Calling {func.__name__}({signature})\")\\n        value = func(*args, **kwargs)\\n        print(f\"{func.__name__!r} returned {value!r}\")           # 4\\n        return value\\n    return wrapper_debug',\n",
       " 'debug': <function __main__.debug(func)>,\n",
       " '_i13': '@debug\\ndef make_greeting(name, age=None):\\n    if age is None:\\n        return f\"Howdy {name}!\"\\n    else:\\n        return f\"Whoa {name}! {age} already, you are growing up!\"',\n",
       " 'make_greeting': <function __main__.make_greeting(name, age=None)>,\n",
       " '_i14': 'make_greeting(\"Benjamin\")',\n",
       " '_14': 'Howdy Benjamin!',\n",
       " '_i15': 'approx_e(5)',\n",
       " '_i16': 'import math\\n\\nmath.fact = debug(math.factorial)\\n\\ndef approx_e(terms = 10):\\n    return sum(1 / math.factorial(n) for n in range(terms))',\n",
       " 'math': <module 'math' (built-in)>,\n",
       " 'approx_e': <function __main__.approx_e(terms=10)>,\n",
       " '_i17': 'approx_e(5)',\n",
       " '_17': 2.708333333333333,\n",
       " '_i18': 'import math\\n\\nmath.fact = debug(math.factorial)\\n\\ndef approx_e(terms = 10):\\n    return sum(1 / math.factorial(n) for n in range(terms))',\n",
       " '_i19': 'approx_e(5)',\n",
       " '_19': 2.708333333333333,\n",
       " '_i20': 'import math\\n\\nmath.fact = debug(math.factorial)\\n\\ndef approx_e(terms = 10):\\n    return sum(1 / math.fact(n) for n in range(terms))',\n",
       " '_i21': 'approx_e(5)',\n",
       " '_21': 2.708333333333333,\n",
       " '_i22': 'def slow_down(func):\\n    \"\"\"Sleep 1 second before calling the function\"\"\"\\n    @functools.wraps(func)\\n    def wrapper_slow_down(*args, **kwargs):\\n        time.sleep(1)\\n        return func(*args, **kwargs)\\n    return wrapper_slow_down',\n",
       " 'slow_down': <function __main__.slow_down(func)>,\n",
       " '_i23': '@slow_down\\ndef countdown(from_number):\\n    if from_number < 1:\\n        print(\"Liftoff!\")\\n    else:\\n        print(from_number)\\n        countdown(from_number - 1)',\n",
       " 'countdown': <function __main__.countdown(from_number)>,\n",
       " '_i24': 'countdown(2)',\n",
       " '_i25': 'globals()'}"
      ]
     },
     "execution_count": 25,
     "metadata": {},
     "output_type": "execute_result"
    }
   ],
   "source": [
    "globals()"
   ]
  },
  {
   "cell_type": "code",
   "execution_count": 26,
   "metadata": {},
   "outputs": [],
   "source": [
    "# Here the methods of the class is decorated\n",
    "class TimeWaster:\n",
    "    @debug\n",
    "    def __init__(self, max_num):\n",
    "        self.max_num = max_num\n",
    "\n",
    "    @timer\n",
    "    def waste_time(self, num_times):\n",
    "        for _ in range(num_times):\n",
    "            sum([i**2 for i in range(self.max_num)])"
   ]
  },
  {
   "cell_type": "code",
   "execution_count": 27,
   "metadata": {},
   "outputs": [
    {
     "name": "stdout",
     "output_type": "stream",
     "text": [
      "Calling __init__(<__main__.TimeWaster object at 0x0000020A37BB8110>, 1000)\n",
      "'__init__' returned None\n",
      "Finished 'waste_time' in 0.3565 secs\n"
     ]
    }
   ],
   "source": [
    "tw = TimeWaster(1000)\n",
    "\n",
    "tw.waste_time(999)"
   ]
  },
  {
   "cell_type": "markdown",
   "metadata": {},
   "source": [
    "A common use of class decorators is to be a simpler alternative to some use-cases of metaclasses. In both cases, you are changing the definition of a class dynamically."
   ]
  },
  {
   "cell_type": "code",
   "execution_count": 29,
   "metadata": {},
   "outputs": [],
   "source": [
    "class TimeWaster:\n",
    "    @debug\n",
    "    def __init__(self, max_num):\n",
    "        self.max_num = max_num\n",
    "\n",
    "    @timer\n",
    "    def waste_time(self, num_times):\n",
    "        for _ in range(num_times):\n",
    "            sum([i**2 for i in range(self.max_num)])"
   ]
  },
  {
   "cell_type": "code",
   "execution_count": 30,
   "metadata": {},
   "outputs": [],
   "source": [
    "@debug\n",
    "@do_twice\n",
    "def greet(name):\n",
    "    print(f\"Hello {name}\")"
   ]
  },
  {
   "cell_type": "code",
   "execution_count": 31,
   "metadata": {},
   "outputs": [
    {
     "name": "stdout",
     "output_type": "stream",
     "text": [
      "Calling greet('eve')\n",
      "Hello eve\n",
      "Hello eve\n",
      "'greet' returned None\n"
     ]
    }
   ],
   "source": [
    "greet('eve')"
   ]
  },
  {
   "cell_type": "code",
   "execution_count": 34,
   "metadata": {},
   "outputs": [],
   "source": [
    "def repeat(num_times):\n",
    "    def decorator_repeat(func):\n",
    "        @functools.wraps(func)\n",
    "        def wrapper_repeat(*args, **kwargs):\n",
    "            for _ in range(num_times):\n",
    "                value = func(*args, **kwargs)\n",
    "            return value\n",
    "        return wrapper_repeat\n",
    "    return decorator_repeat"
   ]
  },
  {
   "cell_type": "code",
   "execution_count": 37,
   "metadata": {},
   "outputs": [],
   "source": [
    "def repeat(_func=None, *, num_times=2):\n",
    "    def decorator_repeat(func):\n",
    "        @functools.wraps(func)\n",
    "        def wrapper_repeat(*args, **kwargs):\n",
    "            for _ in range(num_times):\n",
    "                value = func(*args, **kwargs)\n",
    "            return value\n",
    "        return wrapper_repeat\n",
    "\n",
    "    if _func is None:\n",
    "        return decorator_repeat\n",
    "    else:\n",
    "        return decorator_repeat(_func)"
   ]
  },
  {
   "cell_type": "code",
   "execution_count": 38,
   "metadata": {},
   "outputs": [],
   "source": [
    "@repeat(num_times=4)\n",
    "def greet(name):\n",
    "    print(f\"Hello {name}\")"
   ]
  },
  {
   "cell_type": "code",
   "execution_count": 39,
   "metadata": {},
   "outputs": [
    {
     "name": "stdout",
     "output_type": "stream",
     "text": [
      "Hello euro\n",
      "Hello euro\n",
      "Hello euro\n",
      "Hello euro\n"
     ]
    }
   ],
   "source": [
    "greet(\"euro\")"
   ]
  },
  {
   "cell_type": "code",
   "execution_count": 36,
   "metadata": {},
   "outputs": [],
   "source": [
    "def wrapper_repeat(*args, **kwargs):\n",
    "    for _ in range(num_times):\n",
    "        value = func(*args, **kwargs)\n",
    "    return value"
   ]
  },
  {
   "cell_type": "markdown",
   "metadata": {},
   "source": [
    "The num_times argument is seemingly not used in repeat() itself. But by passing num_times a closure is created where the value of num_times is stored until it will be used later by wrapper_repeat()."
   ]
  },
  {
   "cell_type": "code",
   "execution_count": 40,
   "metadata": {},
   "outputs": [],
   "source": [
    "import functools\n",
    "\n",
    "def count_calls(func):\n",
    "    @functools.wraps(func)\n",
    "    def wrapper_count_calls(*args, **kwargs):\n",
    "        wrapper_count_calls.num_calls += 1\n",
    "        print(f\"Call {wrapper_count_calls.num_calls} of {func.__name__!r}\")\n",
    "        return func(*args, **kwargs)\n",
    "    wrapper_count_calls.num_calls = 0\n",
    "    return wrapper_count_calls"
   ]
  },
  {
   "cell_type": "code",
   "execution_count": 41,
   "metadata": {},
   "outputs": [],
   "source": [
    "# For a class instance to be callable, you implement the special .__call__() method:\n",
    "\n",
    "class Counter:\n",
    "    def __init__(self, start=0):\n",
    "        self.count = start\n",
    "\n",
    "    def __call__(self):\n",
    "        self.count += 1\n",
    "        print(f\"Current count is {self.count}\")"
   ]
  },
  {
   "cell_type": "code",
   "execution_count": 42,
   "metadata": {},
   "outputs": [],
   "source": [
    "import functools\n",
    "\n",
    "class CountCalls:\n",
    "    def __init__(self, func):\n",
    "        functools.update_wrapper(self, func)\n",
    "        self.func = func\n",
    "        self.num_calls = 0\n",
    "\n",
    "    def __call__(self, *args, **kwargs):\n",
    "        self.num_calls += 1\n",
    "        print(f\"Call {self.num_calls} of {self.func.__name__!r}\")\n",
    "        return self.func(*args, **kwargs)\n",
    "\n",
    "@CountCalls\n",
    "def say_whee():\n",
    "    print(\"Whee!\")"
   ]
  },
  {
   "cell_type": "code",
   "execution_count": 44,
   "metadata": {},
   "outputs": [
    {
     "name": "stdout",
     "output_type": "stream",
     "text": [
      "Call 1 of 'fibonacci'\n",
      "Call 2 of 'fibonacci'\n",
      "Call 3 of 'fibonacci'\n",
      "Call 4 of 'fibonacci'\n",
      "Call 5 of 'fibonacci'\n",
      "Call 6 of 'fibonacci'\n",
      "Call 7 of 'fibonacci'\n",
      "Call 8 of 'fibonacci'\n",
      "Call 9 of 'fibonacci'\n",
      "Call 10 of 'fibonacci'\n",
      "Call 11 of 'fibonacci'\n",
      "Call 12 of 'fibonacci'\n",
      "Call 13 of 'fibonacci'\n",
      "Call 14 of 'fibonacci'\n",
      "Call 15 of 'fibonacci'\n",
      "Call 16 of 'fibonacci'\n",
      "Call 17 of 'fibonacci'\n",
      "Call 18 of 'fibonacci'\n",
      "Call 19 of 'fibonacci'\n",
      "Call 20 of 'fibonacci'\n",
      "Call 21 of 'fibonacci'\n",
      "Call 22 of 'fibonacci'\n",
      "Call 23 of 'fibonacci'\n",
      "Call 24 of 'fibonacci'\n",
      "Call 25 of 'fibonacci'\n",
      "Call 26 of 'fibonacci'\n",
      "Call 27 of 'fibonacci'\n",
      "Call 28 of 'fibonacci'\n",
      "Call 29 of 'fibonacci'\n",
      "Call 30 of 'fibonacci'\n",
      "Call 31 of 'fibonacci'\n",
      "Call 32 of 'fibonacci'\n",
      "Call 33 of 'fibonacci'\n",
      "Call 34 of 'fibonacci'\n",
      "Call 35 of 'fibonacci'\n",
      "Call 36 of 'fibonacci'\n",
      "Call 37 of 'fibonacci'\n",
      "Call 38 of 'fibonacci'\n",
      "Call 39 of 'fibonacci'\n",
      "Call 40 of 'fibonacci'\n",
      "Call 41 of 'fibonacci'\n",
      "Call 42 of 'fibonacci'\n",
      "Call 43 of 'fibonacci'\n",
      "Call 44 of 'fibonacci'\n",
      "Call 45 of 'fibonacci'\n",
      "Call 46 of 'fibonacci'\n",
      "Call 47 of 'fibonacci'\n",
      "Call 48 of 'fibonacci'\n",
      "Call 49 of 'fibonacci'\n",
      "Call 50 of 'fibonacci'\n",
      "Call 51 of 'fibonacci'\n",
      "Call 52 of 'fibonacci'\n",
      "Call 53 of 'fibonacci'\n",
      "Call 54 of 'fibonacci'\n",
      "Call 55 of 'fibonacci'\n",
      "Call 56 of 'fibonacci'\n",
      "Call 57 of 'fibonacci'\n",
      "Call 58 of 'fibonacci'\n",
      "Call 59 of 'fibonacci'\n",
      "Call 60 of 'fibonacci'\n",
      "Call 61 of 'fibonacci'\n",
      "Call 62 of 'fibonacci'\n",
      "Call 63 of 'fibonacci'\n",
      "Call 64 of 'fibonacci'\n",
      "Call 65 of 'fibonacci'\n",
      "Call 66 of 'fibonacci'\n",
      "Call 67 of 'fibonacci'\n",
      "Call 68 of 'fibonacci'\n",
      "Call 69 of 'fibonacci'\n",
      "Call 70 of 'fibonacci'\n",
      "Call 71 of 'fibonacci'\n",
      "Call 72 of 'fibonacci'\n",
      "Call 73 of 'fibonacci'\n",
      "Call 74 of 'fibonacci'\n",
      "Call 75 of 'fibonacci'\n",
      "Call 76 of 'fibonacci'\n",
      "Call 77 of 'fibonacci'\n",
      "Call 78 of 'fibonacci'\n",
      "Call 79 of 'fibonacci'\n",
      "Call 80 of 'fibonacci'\n",
      "Call 81 of 'fibonacci'\n",
      "Call 82 of 'fibonacci'\n",
      "Call 83 of 'fibonacci'\n",
      "Call 84 of 'fibonacci'\n",
      "Call 85 of 'fibonacci'\n",
      "Call 86 of 'fibonacci'\n",
      "Call 87 of 'fibonacci'\n",
      "Call 88 of 'fibonacci'\n",
      "Call 89 of 'fibonacci'\n",
      "Call 90 of 'fibonacci'\n",
      "Call 91 of 'fibonacci'\n",
      "Call 92 of 'fibonacci'\n",
      "Call 93 of 'fibonacci'\n",
      "Call 94 of 'fibonacci'\n",
      "Call 95 of 'fibonacci'\n",
      "Call 96 of 'fibonacci'\n",
      "Call 97 of 'fibonacci'\n",
      "Call 98 of 'fibonacci'\n",
      "Call 99 of 'fibonacci'\n",
      "Call 100 of 'fibonacci'\n",
      "Call 101 of 'fibonacci'\n",
      "Call 102 of 'fibonacci'\n",
      "Call 103 of 'fibonacci'\n",
      "Call 104 of 'fibonacci'\n",
      "Call 105 of 'fibonacci'\n",
      "Call 106 of 'fibonacci'\n",
      "Call 107 of 'fibonacci'\n",
      "Call 108 of 'fibonacci'\n",
      "Call 109 of 'fibonacci'\n",
      "Call 110 of 'fibonacci'\n",
      "Call 111 of 'fibonacci'\n",
      "Call 112 of 'fibonacci'\n",
      "Call 113 of 'fibonacci'\n",
      "Call 114 of 'fibonacci'\n",
      "Call 115 of 'fibonacci'\n",
      "Call 116 of 'fibonacci'\n",
      "Call 117 of 'fibonacci'\n",
      "Call 118 of 'fibonacci'\n",
      "Call 119 of 'fibonacci'\n",
      "Call 120 of 'fibonacci'\n",
      "Call 121 of 'fibonacci'\n",
      "Call 122 of 'fibonacci'\n",
      "Call 123 of 'fibonacci'\n",
      "Call 124 of 'fibonacci'\n",
      "Call 125 of 'fibonacci'\n",
      "Call 126 of 'fibonacci'\n",
      "Call 127 of 'fibonacci'\n",
      "Call 128 of 'fibonacci'\n",
      "Call 129 of 'fibonacci'\n",
      "Call 130 of 'fibonacci'\n",
      "Call 131 of 'fibonacci'\n",
      "Call 132 of 'fibonacci'\n",
      "Call 133 of 'fibonacci'\n",
      "Call 134 of 'fibonacci'\n",
      "Call 135 of 'fibonacci'\n",
      "Call 136 of 'fibonacci'\n",
      "Call 137 of 'fibonacci'\n",
      "Call 138 of 'fibonacci'\n",
      "Call 139 of 'fibonacci'\n",
      "Call 140 of 'fibonacci'\n",
      "Call 141 of 'fibonacci'\n",
      "Call 142 of 'fibonacci'\n",
      "Call 143 of 'fibonacci'\n",
      "Call 144 of 'fibonacci'\n",
      "Call 145 of 'fibonacci'\n",
      "Call 146 of 'fibonacci'\n",
      "Call 147 of 'fibonacci'\n",
      "Call 148 of 'fibonacci'\n",
      "Call 149 of 'fibonacci'\n",
      "Call 150 of 'fibonacci'\n",
      "Call 151 of 'fibonacci'\n",
      "Call 152 of 'fibonacci'\n",
      "Call 153 of 'fibonacci'\n",
      "Call 154 of 'fibonacci'\n",
      "Call 155 of 'fibonacci'\n",
      "Call 156 of 'fibonacci'\n",
      "Call 157 of 'fibonacci'\n",
      "Call 158 of 'fibonacci'\n",
      "Call 159 of 'fibonacci'\n",
      "Call 160 of 'fibonacci'\n",
      "Call 161 of 'fibonacci'\n",
      "Call 162 of 'fibonacci'\n",
      "Call 163 of 'fibonacci'\n",
      "Call 164 of 'fibonacci'\n",
      "Call 165 of 'fibonacci'\n",
      "Call 166 of 'fibonacci'\n",
      "Call 167 of 'fibonacci'\n",
      "Call 168 of 'fibonacci'\n",
      "Call 169 of 'fibonacci'\n",
      "Call 170 of 'fibonacci'\n",
      "Call 171 of 'fibonacci'\n",
      "Call 172 of 'fibonacci'\n",
      "Call 173 of 'fibonacci'\n",
      "Call 174 of 'fibonacci'\n",
      "Call 175 of 'fibonacci'\n",
      "Call 176 of 'fibonacci'\n",
      "Call 177 of 'fibonacci'\n"
     ]
    },
    {
     "data": {
      "text/plain": [
       "55"
      ]
     },
     "execution_count": 44,
     "metadata": {},
     "output_type": "execute_result"
    }
   ],
   "source": [
    "# Using is returns True only for objects that are the exact same instance\n",
    "\n",
    "@count_calls\n",
    "def fibonacci(num):\n",
    "    if num < 2:\n",
    "        return num\n",
    "    return fibonacci(num - 1) + fibonacci(num - 2)\n",
    "\n",
    "fibonacci(10)"
   ]
  },
  {
   "cell_type": "code",
   "execution_count": 45,
   "metadata": {},
   "outputs": [
    {
     "data": {
      "text/plain": [
       "177"
      ]
     },
     "execution_count": 45,
     "metadata": {},
     "output_type": "execute_result"
    }
   ],
   "source": [
    "fibonacci.num_calls"
   ]
  },
  {
   "cell_type": "code",
   "execution_count": 46,
   "metadata": {},
   "outputs": [],
   "source": [
    "def cache(func):\n",
    "    \"\"\"Keep a cache of previous function calls\"\"\"\n",
    "    @functools.wraps(func)\n",
    "    def wrapper_cache(*args, **kwargs):\n",
    "        cache_key = args + tuple(kwargs.items())\n",
    "        if cache_key not in wrapper_cache.cache:\n",
    "            wrapper_cache.cache[cache_key] = func(*args, **kwargs)\n",
    "        return wrapper_cache.cache[cache_key]\n",
    "    wrapper_cache.cache = dict()\n",
    "    return wrapper_cache"
   ]
  },
  {
   "cell_type": "code",
   "execution_count": 47,
   "metadata": {},
   "outputs": [],
   "source": [
    "@cache\n",
    "@count_calls\n",
    "def fibonacci(num):\n",
    "    if num < 2:\n",
    "        return num\n",
    "    return fibonacci(num - 1) + fibonacci(num - 2)"
   ]
  },
  {
   "cell_type": "code",
   "execution_count": 48,
   "metadata": {},
   "outputs": [],
   "source": [
    "import functools\n",
    "\n",
    "@functools.lru_cache(maxsize=4)\n",
    "def fibonacci(num):\n",
    "    print(f\"Calculating fibonacci({num})\")\n",
    "    if num < 2:\n",
    "        return num\n",
    "    return fibonacci(num - 1) + fibonacci(num - 2)"
   ]
  },
  {
   "cell_type": "code",
   "execution_count": 50,
   "metadata": {},
   "outputs": [],
   "source": [
    "def set_unit(unit):\n",
    "    \"\"\"Register a unit on a function\"\"\"\n",
    "    def decorator_set_unit(func):\n",
    "        func.unit = unit\n",
    "        return func\n",
    "    return decorator_set_unit"
   ]
  },
  {
   "cell_type": "code",
   "execution_count": 51,
   "metadata": {},
   "outputs": [],
   "source": [
    "import math\n",
    "\n",
    "@set_unit(\"cm^3\")\n",
    "def volume(radius, height):\n",
    "    return math.pi * radius**2 * height"
   ]
  },
  {
   "cell_type": "code",
   "execution_count": 52,
   "metadata": {},
   "outputs": [],
   "source": [
    "import math\n",
    "\n",
    "def volume(radius, height) -> \"cm^3\":\n",
    "    return math.pi * radius**2 * height"
   ]
  },
  {
   "cell_type": "code",
   "execution_count": 53,
   "metadata": {},
   "outputs": [
    {
     "name": "stdout",
     "output_type": "stream",
     "text": [
      "Collecting pint\n",
      "  Downloading Pint-0.22-py3-none-any.whl.metadata (7.7 kB)\n",
      "Requirement already satisfied: typing-extensions in c:\\python312\\lib\\site-packages (from pint) (4.8.0)\n",
      "Downloading Pint-0.22-py3-none-any.whl (294 kB)\n",
      "   ---------------------------------------- 0.0/294.0 kB ? eta -:--:--\n",
      "   - -------------------------------------- 10.2/294.0 kB ? eta -:--:--\n",
      "   ---- ---------------------------------- 30.7/294.0 kB 330.3 kB/s eta 0:00:01\n",
      "   ----- --------------------------------- 41.0/294.0 kB 245.8 kB/s eta 0:00:02\n",
      "   -------- ------------------------------ 61.4/294.0 kB 328.2 kB/s eta 0:00:01\n",
      "   -------- ------------------------------ 61.4/294.0 kB 328.2 kB/s eta 0:00:01\n",
      "   --------- ----------------------------- 71.7/294.0 kB 245.8 kB/s eta 0:00:01\n",
      "   -------------- ----------------------- 112.6/294.0 kB 312.2 kB/s eta 0:00:01\n",
      "   ------------------ ------------------- 143.4/294.0 kB 370.8 kB/s eta 0:00:01\n",
      "   ------------------ ------------------- 143.4/294.0 kB 370.8 kB/s eta 0:00:01\n",
      "   ------------------- ------------------ 153.6/294.0 kB 316.5 kB/s eta 0:00:01\n",
      "   ------------------------- ------------ 194.6/294.0 kB 347.1 kB/s eta 0:00:01\n",
      "   -------------------------- ----------- 204.8/294.0 kB 356.3 kB/s eta 0:00:01\n",
      "   ------------------------------ ------- 235.5/294.0 kB 369.9 kB/s eta 0:00:01\n",
      "   ----------------------------------- -- 276.5/294.0 kB 405.9 kB/s eta 0:00:01\n",
      "   -------------------------------------  286.7/294.0 kB 393.3 kB/s eta 0:00:01\n",
      "   -------------------------------------  286.7/294.0 kB 393.3 kB/s eta 0:00:01\n",
      "   -------------------------------------  286.7/294.0 kB 393.3 kB/s eta 0:00:01\n",
      "   -------------------------------------- 294.0/294.0 kB 342.8 kB/s eta 0:00:00\n",
      "Installing collected packages: pint\n"
     ]
    },
    {
     "name": "stderr",
     "output_type": "stream",
     "text": [
      "  WARNING: Failed to write executable - trying to use .deleteme logic\n",
      "ERROR: Could not install packages due to an OSError: [WinError 2] The system cannot find the file specified: 'C:\\\\Python312\\\\Scripts\\\\pint-convert.exe' -> 'C:\\\\Python312\\\\Scripts\\\\pint-convert.exe.deleteme'\n",
      "\n"
     ]
    }
   ],
   "source": [
    "!pip install pint"
   ]
  },
  {
   "cell_type": "code",
   "execution_count": null,
   "metadata": {},
   "outputs": [],
   "source": [
    "import pint\n",
    "ureg = pint.UnitRegistry()\n",
    "vol = volume(3, 5) * ureg(volume.unit)\n",
    "\n",
    "vol.to(\"cubic inches\")\n",
    "\n",
    "vol.to(\"gallons\").m  # Magnitude"
   ]
  },
  {
   "cell_type": "code",
   "execution_count": null,
   "metadata": {},
   "outputs": [],
   "source": [
    "def use_unit(unit):\n",
    "    \"\"\"Have a function return a Quantity with given unit\"\"\"\n",
    "    use_unit.ureg = pint.UnitRegistry()\n",
    "    def decorator_use_unit(func):\n",
    "        @functools.wraps(func)\n",
    "        def wrapper_use_unit(*args, **kwargs):\n",
    "            value = func(*args, **kwargs)\n",
    "            return value * use_unit.ureg(unit)\n",
    "        return wrapper_use_unit\n",
    "    return decorator_use_unit\n",
    "\n",
    "@use_unit(\"meters per second\")\n",
    "def average_speed(distance, duration):\n",
    "    return distance / duration"
   ]
  },
  {
   "cell_type": "code",
   "execution_count": null,
   "metadata": {},
   "outputs": [],
   "source": [
    "bolt = average_speed(100, 9.58)\n",
    "\n",
    "bolt.to(\"km per hour\")\n",
    "\n",
    "bolt.to(\"mph\").m  # Magnitude"
   ]
  },
  {
   "cell_type": "code",
   "execution_count": 54,
   "metadata": {},
   "outputs": [
    {
     "ename": "ModuleNotFoundError",
     "evalue": "No module named 'flask'",
     "output_type": "error",
     "traceback": [
      "\u001b[1;31m---------------------------------------------------------------------------\u001b[0m",
      "\u001b[1;31mModuleNotFoundError\u001b[0m                       Traceback (most recent call last)",
      "\u001b[1;32md:\\gitFolders\\HowCompetitive\\python_lessons\\practice_decorators.ipynb Cell 63\u001b[0m line \u001b[0;36m1\n\u001b[1;32m----> <a href='vscode-notebook-cell:/d%3A/gitFolders/HowCompetitive/python_lessons/practice_decorators.ipynb#Y122sZmlsZQ%3D%3D?line=0'>1</a>\u001b[0m \u001b[39mfrom\u001b[39;00m \u001b[39mflask\u001b[39;00m \u001b[39mimport\u001b[39;00m Flask, request, abort\n\u001b[0;32m      <a href='vscode-notebook-cell:/d%3A/gitFolders/HowCompetitive/python_lessons/practice_decorators.ipynb#Y122sZmlsZQ%3D%3D?line=1'>2</a>\u001b[0m \u001b[39mimport\u001b[39;00m \u001b[39mfunctools\u001b[39;00m\n\u001b[0;32m      <a href='vscode-notebook-cell:/d%3A/gitFolders/HowCompetitive/python_lessons/practice_decorators.ipynb#Y122sZmlsZQ%3D%3D?line=2'>3</a>\u001b[0m app \u001b[39m=\u001b[39m Flask(\u001b[39m__name__\u001b[39m)\n",
      "\u001b[1;31mModuleNotFoundError\u001b[0m: No module named 'flask'"
     ]
    }
   ],
   "source": [
    "from flask import Flask, request, abort\n",
    "import functools\n",
    "app = Flask(__name__)\n",
    "\n",
    "def validate_json(*expected_args):                  # 1\n",
    "    def decorator_validate_json(func):\n",
    "        @functools.wraps(func)\n",
    "        def wrapper_validate_json(*args, **kwargs):\n",
    "            json_object = request.get_json()\n",
    "            for expected_arg in expected_args:      # 2\n",
    "                if expected_arg not in json_object:\n",
    "                    abort(400)\n",
    "            return func(*args, **kwargs)\n",
    "        return wrapper_validate_json\n",
    "    return decorator_validate_json"
   ]
  },
  {
   "cell_type": "code",
   "execution_count": null,
   "metadata": {},
   "outputs": [],
   "source": []
  },
  {
   "cell_type": "code",
   "execution_count": null,
   "metadata": {},
   "outputs": [],
   "source": []
  }
 ],
 "metadata": {
  "kernelspec": {
   "display_name": "Python 3",
   "language": "python",
   "name": "python3"
  },
  "language_info": {
   "codemirror_mode": {
    "name": "ipython",
    "version": 3
   },
   "file_extension": ".py",
   "mimetype": "text/x-python",
   "name": "python",
   "nbconvert_exporter": "python",
   "pygments_lexer": "ipython3",
   "version": "3.11.4"
  }
 },
 "nbformat": 4,
 "nbformat_minor": 2
}
