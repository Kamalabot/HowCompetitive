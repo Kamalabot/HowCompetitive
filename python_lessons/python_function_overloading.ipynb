{
 "cells": [
  {
   "cell_type": "code",
   "execution_count": 1,
   "metadata": {},
   "outputs": [
    {
     "data": {
      "text/plain": [
       "3"
      ]
     },
     "execution_count": 1,
     "metadata": {},
     "output_type": "execute_result"
    }
   ],
   "source": [
    "### Where function over-riding is used\n",
    "\n",
    "1 + 2"
   ]
  },
  {
   "cell_type": "code",
   "execution_count": 2,
   "metadata": {},
   "outputs": [
    {
     "data": {
      "text/plain": [
       "'three three three '"
      ]
     },
     "execution_count": 2,
     "metadata": {},
     "output_type": "execute_result"
    }
   ],
   "source": [
    "3 * 'three '"
   ]
  },
  {
   "cell_type": "markdown",
   "metadata": {},
   "source": [
    "How the same built-in '*' and '+' ? \n",
    "\n",
    "This is possible with Operator / Function over-loading. These are called special methods, which have double underscores. (dunder methods)\n",
    "\n",
    "These methods like __len__(), __add__() can be included on the Classes written by us. That is the purpose of the Python Data Model"
   ]
  },
  {
   "cell_type": "markdown",
   "metadata": {},
   "source": [
    "If there is a built-in function, func(), and the corresponding special method for the function is __func__(), Python interprets a call to the function as obj.__func__(), where obj is the object. \n",
    "\n",
    "In the case of operators, if you have an operator opr and the corresponding special method for it is __opr__(), Python interprets something like obj1 <opr> obj2 as obj1.__opr__(obj2)."
   ]
  },
  {
   "cell_type": "code",
   "execution_count": 4,
   "metadata": {},
   "outputs": [
    {
     "name": "stdout",
     "output_type": "stream",
     "text": [
      "12\n",
      "rupee\n",
      "rupee\n"
     ]
    }
   ],
   "source": [
    "a = 'Rupee Dollar'\n",
    "b = ['rupee','dollar']\n",
    "\n",
    "print(a.__len__()) #this dunder method is present inside the string / list classes\n",
    "\n",
    "print(b[0])\n",
    "\n",
    "print(b.__getitem__(0))"
   ]
  },
  {
   "cell_type": "markdown",
   "metadata": {},
   "source": [
    "### how can you use special methods in your classes?\n",
    "\n",
    "**Example:** To change the behavior of len(), you need to define the __len__() special method in your class. Whenever you pass an object of your class to len(), your custom definition of __len__() will be used to obtain the result"
   ]
  },
  {
   "cell_type": "code",
   "execution_count": 7,
   "metadata": {},
   "outputs": [
    {
     "data": {
      "text/plain": [
       "'But, when overloading len(), you should keep in mind that Python requires the function to return an integer. If your method were to return anything other than an integer, you would get a TypeError'"
      ]
     },
     "execution_count": 7,
     "metadata": {},
     "output_type": "execute_result"
    }
   ],
   "source": [
    "class Order:\n",
    "    def __init__(self, cart, customer):\n",
    "        self.cart = list(cart)\n",
    "        self.customer = customer\n",
    "\n",
    "    def __len__(self):\n",
    "        return len(self.cart)\n",
    "\"\"\"But, when overloading len(), you should keep in mind that Python requires the function to return an integer. If your method were to return anything other than an integer, you would get a TypeError\"\"\""
   ]
  },
  {
   "cell_type": "code",
   "execution_count": 6,
   "metadata": {},
   "outputs": [
    {
     "data": {
      "text/plain": [
       "2"
      ]
     },
     "execution_count": 6,
     "metadata": {},
     "output_type": "execute_result"
    }
   ],
   "source": [
    "new_rder = Order(['ban','can'],'monkey')\n",
    "\n",
    "#Notice that, we did not use the regular . operator to access the method\n",
    "len(new_rder)"
   ]
  },
  {
   "cell_type": "code",
   "execution_count": 8,
   "metadata": {},
   "outputs": [],
   "source": [
    "class Order:\n",
    "    def __init__(self, cart, customer):\n",
    "        self.cart = list(cart)\n",
    "        self.customer = customer\n",
    "\n",
    "    def __len__(self):\n",
    "        return float(len(self.cart))\n"
   ]
  },
  {
   "cell_type": "code",
   "execution_count": 9,
   "metadata": {},
   "outputs": [
    {
     "ename": "TypeError",
     "evalue": "'float' object cannot be interpreted as an integer",
     "output_type": "error",
     "traceback": [
      "\u001b[1;31m---------------------------------------------------------------------------\u001b[0m",
      "\u001b[1;31mTypeError\u001b[0m                                 Traceback (most recent call last)",
      "\u001b[1;32md:\\gitFolders\\HowCompetitive\\python_lessons\\python_function_overloading.ipynb Cell 10\u001b[0m line \u001b[0;36m2\n\u001b[0;32m      <a href='vscode-notebook-cell:/d%3A/gitFolders/HowCompetitive/python_lessons/python_function_overloading.ipynb#X20sZmlsZQ%3D%3D?line=0'>1</a>\u001b[0m err_rder \u001b[39m=\u001b[39m Order([\u001b[39m'\u001b[39m\u001b[39muan\u001b[39m\u001b[39m'\u001b[39m,\u001b[39m'\u001b[39m\u001b[39mpan\u001b[39m\u001b[39m'\u001b[39m],\u001b[39m'\u001b[39m\u001b[39mTayler\u001b[39m\u001b[39m'\u001b[39m)\n\u001b[1;32m----> <a href='vscode-notebook-cell:/d%3A/gitFolders/HowCompetitive/python_lessons/python_function_overloading.ipynb#X20sZmlsZQ%3D%3D?line=1'>2</a>\u001b[0m \u001b[39mlen\u001b[39;49m(err_rder)\n",
      "\u001b[1;31mTypeError\u001b[0m: 'float' object cannot be interpreted as an integer"
     ]
    }
   ],
   "source": [
    "err_rder = Order(['uan','pan'],'Tayler')\n",
    "#Even though there is length function, the return type is wrong...\n",
    "len(err_rder)"
   ]
  },
  {
   "cell_type": "code",
   "execution_count": 9,
   "metadata": {},
   "outputs": [],
   "source": [
    "class Vector:\n",
    "    def __init__(self, x_comp, y_comp):\n",
    "        self.x_comp = x_comp\n",
    "        self.y_comp = y_comp\n",
    "\n",
    "    def __abs__(self):\n",
    "        return (self.x_comp ** 2 + self.y_comp ** 2) ** 0.5\n",
    "    \n",
    "    def __str__(self):\n",
    "        # By default, sign of +ve number is not displayed\n",
    "        # Using `+` sign is always displayed.\n",
    "        # Idea is, the number can be negative too... so placing a + \n",
    "        # sign as string literal will be wrong\n",
    "        return f'{self.x_comp}i{self.y_comp:+}j'\n",
    "    \n",
    "    def __repr__(self):\n",
    "        return f'Vector({self.x_comp}, {self.y_comp})'\n",
    "    \n",
    "    def __bool__(self):\n",
    "        return self.x_comp > 0"
   ]
  },
  {
   "cell_type": "markdown",
   "metadata": {},
   "source": [
    " In cases where the __str__() method is not defined, Python uses the\n",
    "__repr__() method to print the object, as well as to represent the object when\n",
    "str() is called on it. \n",
    "\n",
    "If both the **methods are missing**, it defaults to\n",
    "<__main__.Vector ...>. \n",
    "\n",
    "But __repr__() is the only method that is used to\n",
    "display the object in an interactive session. Absence of it in the class yields\n",
    "<__main__.Vector ...>"
   ]
  },
  {
   "cell_type": "code",
   "execution_count": 10,
   "metadata": {},
   "outputs": [
    {
     "name": "stdout",
     "output_type": "stream",
     "text": [
      "8.602325267042627\n",
      "5i-7j\n"
     ]
    },
    {
     "data": {
      "text/plain": [
       "True"
      ]
     },
     "execution_count": 10,
     "metadata": {},
     "output_type": "execute_result"
    }
   ],
   "source": [
    "vec = Vector(5,-7)\n",
    "\n",
    "print(abs(vec))\n",
    "\n",
    "print(str(vec))\n",
    "\n",
    "vec\n",
    "\n",
    "bool(vec)"
   ]
  },
  {
   "cell_type": "markdown",
   "metadata": {},
   "source": [
    "The behavior of operators are different from the above special methods in the sense that they need to\n",
    "accept another argument in the definition other than self, generally referred to by\n",
    "the name \"other\"."
   ]
  },
  {
   "cell_type": "code",
   "execution_count": 13,
   "metadata": {},
   "outputs": [
    {
     "name": "stdout",
     "output_type": "stream",
     "text": [
      "Real\n",
      "RealNew\n"
     ]
    }
   ],
   "source": [
    "a = 'Real'\n",
    "\n",
    "a + ' Python' # Creates a new string\n",
    "\n",
    "print(a)\n",
    "\n",
    "a = a + 'New'\n",
    "\n",
    "print(a) # The instance is new"
   ]
  },
  {
   "cell_type": "code",
   "execution_count": 20,
   "metadata": {},
   "outputs": [],
   "source": [
    "#implementing cart appending method\n",
    "\n",
    "class Order:\n",
    "    def __init__(self, cart, customer):\n",
    "        self.cart = list(cart)\n",
    "        self.customer = customer\n",
    "\n",
    "    def __len__(self):\n",
    "        return float(len(self.cart))\n",
    "\n",
    "    def __add__(self, other):\n",
    "        new_cart = self.cart.copy()\n",
    "        new_cart.append(other)\n",
    "        return Order(new_cart, self.customer)\n",
    "\n",
    "    def __iadd__(self, other):\n",
    "        self.cart.append(other)\n",
    "        return self"
   ]
  },
  {
   "cell_type": "code",
   "execution_count": 21,
   "metadata": {},
   "outputs": [
    {
     "data": {
      "text/plain": [
       "['gravy', 'train', 'nail']"
      ]
     },
     "execution_count": 21,
     "metadata": {},
     "output_type": "execute_result"
    }
   ],
   "source": [
    "order = Order(['gravy','train','nail'],'lcuas')\n",
    "\n",
    "order.cart"
   ]
  },
  {
   "cell_type": "code",
   "execution_count": 22,
   "metadata": {},
   "outputs": [
    {
     "ename": "TypeError",
     "evalue": "'Order' object is not subscriptable",
     "output_type": "error",
     "traceback": [
      "\u001b[1;31m---------------------------------------------------------------------------\u001b[0m",
      "\u001b[1;31mTypeError\u001b[0m                                 Traceback (most recent call last)",
      "\u001b[1;32md:\\gitFolders\\HowCompetitive\\python_lessons\\python_function_overloading.ipynb Cell 18\u001b[0m line \u001b[0;36m1\n\u001b[1;32m----> <a href='vscode-notebook-cell:/d%3A/gitFolders/HowCompetitive/python_lessons/python_function_overloading.ipynb#X35sZmlsZQ%3D%3D?line=0'>1</a>\u001b[0m order[\u001b[39m0\u001b[39;49m]\n",
      "\u001b[1;31mTypeError\u001b[0m: 'Order' object is not subscriptable"
     ]
    }
   ],
   "source": [
    "order[0]"
   ]
  },
  {
   "cell_type": "code",
   "execution_count": 23,
   "metadata": {},
   "outputs": [
    {
     "data": {
      "text/plain": [
       "'gravy'"
      ]
     },
     "execution_count": 23,
     "metadata": {},
     "output_type": "execute_result"
    }
   ],
   "source": [
    "order.cart[0]"
   ]
  },
  {
   "cell_type": "code",
   "execution_count": 16,
   "metadata": {},
   "outputs": [
    {
     "data": {
      "text/plain": [
       "['gravy', 'train', 'nail', 'Bingo']"
      ]
     },
     "execution_count": 16,
     "metadata": {},
     "output_type": "execute_result"
    }
   ],
   "source": [
    "order = order + 'Bingo'\n",
    "\n",
    "order.cart"
   ]
  },
  {
   "cell_type": "markdown",
   "metadata": {},
   "source": [
    "The += operator stands as a shortcut to the expression obj1 = obj1 + obj2. The\n",
    "special method corresponding to it is __iadd__(). \n",
    "\n",
    "The __iadd__() method should make changes directly to the self argument and return the result, which may or may not be self.\n",
    "\n",
    "It can lead to surprising behavior if you forget to return something in your implementation."
   ]
  },
  {
   "cell_type": "code",
   "execution_count": 18,
   "metadata": {},
   "outputs": [
    {
     "data": {
      "text/plain": [
       "['bangle', 'nameplate', 'new fangs']"
      ]
     },
     "execution_count": 18,
     "metadata": {},
     "output_type": "execute_result"
    }
   ],
   "source": [
    "order = Order(['bangle','nameplate'],'Gore Al')\n",
    "\n",
    "order += 'new fangs'\n",
    "\n",
    "order.cart"
   ]
  },
  {
   "cell_type": "markdown",
   "metadata": {},
   "source": [
    "Similar to __iadd__(), you have __isub__(), __imul__(), __idiv__() and other special\n",
    "methods which define the behavior of -=, *=, /=, and others alike"
   ]
  },
  {
   "cell_type": "code",
   "execution_count": 24,
   "metadata": {},
   "outputs": [],
   "source": [
    "class Order:\n",
    "    def __init__(self, cart, customer):\n",
    "        self.cart = list(cart)\n",
    "        self.customer = customer\n",
    "\n",
    "    def __getitem__(self, key):\n",
    "        return self.cart[key]\n",
    "\n",
    "# The key can have mainly three forms: an integer value, in\n",
    "# which case it is either an index or a dictionary key, a string value, in which case it is\n",
    "# a dictionary key, and a slice object, in which case it will slice the sequence used by\n",
    "# the class."
   ]
  },
  {
   "cell_type": "code",
   "execution_count": 25,
   "metadata": {},
   "outputs": [
    {
     "data": {
      "text/plain": [
       "'bangle'"
      ]
     },
     "execution_count": 25,
     "metadata": {},
     "output_type": "execute_result"
    }
   ],
   "source": [
    "order = Order(['bangle','nameplate'],'Gore Al')\n",
    "\n",
    "order[0]"
   ]
  },
  {
   "cell_type": "markdown",
   "metadata": {},
   "source": [
    "Make your classes mathematically correct, Python provides you with\n",
    "reverse special methods such as __radd__(), __rsub__(), __rmul__(), and so on.\n",
    "\n",
    "Let’s reinvent the wheel and implement our own class to represent complex\n",
    "numbers, CustomComplex"
   ]
  },
  {
   "cell_type": "code",
   "execution_count": null,
   "metadata": {},
   "outputs": [],
   "source": [
    "from math import hypot, atan, sin, cos\n",
    "class CustomComplex:\n",
    "    def __init__(self, real, imag):\n",
    "        self.real = real\n",
    "        self.imag = imag\n",
    "\n",
    "    def conjugate(self):\n",
    "        return self.__class__(self.real, -self.imag)\n",
    "\n",
    "    def argz(self):\n",
    "        return atan(self.imag / self.real)\n",
    "\n",
    "    def __abs__(self):\n",
    "        return hypot(self.real, self.imag)\n",
    "\n",
    "    def __repr__(self):\n",
    "        return f\"{self.__class__.__name__}({self.real}, {self.imag})\"\n",
    "    \n",
    "    def __str__(self):\n",
    "        return f\"({self.real}{self.imag:+})\"\n",
    "    \n",
    "    def __add__(self, other):\n",
    "        if isinstance(other, float) or isinstance(other, int):\n",
    "            real_part = self.real + other\n",
    "            imag_part = self.imag\n",
    "        \n",
    "        if isinstance(other, CustomComplex):\n",
    "            real_part = self.real + other.real\n",
    "            imag_part = self.imag + other.imag\n",
    "        \n",
    "        return self.__class__(real_part, imag_part)\n",
    "\n",
    "    def __sub__(self, other):\n",
    "        if isinstance(other, float) or isinstance(other, int):\n",
    "            real_part = self.real - other\n",
    "            imag_part = self.imag\n",
    "        if isinstance(other, CustomComplex):\n",
    "            real_part = self.real - other.real\n",
    "            imag_part = self.imag - other.imag\n",
    "        \n",
    "        return self.__class__(real_part, imag_part)\n",
    "\n",
    "    def __mul__(self, other):\n",
    "        if isinstance(other, int) or isinstance(other, float):\n",
    "            real_part = self.real * other\n",
    "            imag_part = self.imag * other\n",
    "        if isinstance(other, CustomComplex):\n",
    "            real_part = (self.real * other.real) - (self.imag * other.imag)\n",
    "            imag_part = (self.real * other.imag) + (self.imag * other.real)\n",
    "        \n",
    "        return self.__class__(real_part, imag_part)\n",
    "\n",
    "    def __eq__(self, other):\n",
    "        # Note: generally, floats should not be compared directly\n",
    "        # due to floating-point precision\n",
    "        return (self.real == other.real) and (self.imag == other.imag)\n",
    "    \n",
    "    def __ne__(self, other):\n",
    "        return (self.real != other.real) or (self.imag != other.imag)\n",
    "\n",
    "    def __pow__(self, other):\n",
    "        r_raised = abs(self) ** other\n",
    "        argz_multiplied = self.argz() * other\n",
    "        real_part = round(r_raised * cos(argz_multiplied))\n",
    "        imag_part = round(r_raised * sin(argz_multiplied))\n",
    "        return self.__class__(real_part, imag_part)\n",
    "    \n",
    "\n",
    "    "
   ]
  },
  {
   "cell_type": "code",
   "execution_count": null,
   "metadata": {},
   "outputs": [],
   "source": []
  }
 ],
 "metadata": {
  "kernelspec": {
   "display_name": "Python 3",
   "language": "python",
   "name": "python3"
  },
  "language_info": {
   "codemirror_mode": {
    "name": "ipython",
    "version": 3
   },
   "file_extension": ".py",
   "mimetype": "text/x-python",
   "name": "python",
   "nbconvert_exporter": "python",
   "pygments_lexer": "ipython3",
   "version": "3.11.4"
  }
 },
 "nbformat": 4,
 "nbformat_minor": 2
}
