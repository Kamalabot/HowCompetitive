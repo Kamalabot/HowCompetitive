{
 "cells": [
  {
   "cell_type": "markdown",
   "metadata": {},
   "source": [
    "#### Objective\n",
    "\n",
    "Understand the 8 patterns that is used frequently in Python, which fall under Creational, Structural & Behavioral patterns\n",
    "\n",
    "- Factory (Used for creating different types of instances using the factory Object) \n",
    "- Builder (Doing what the factory object does, with control of the ingredients used)\n",
    "- Singleton (Solves the problem of sharing the object states with other instances) \n",
    "- Observer (Provides the ability to notify / share info to multiple subscribers from a single publisher) \n",
    "- Strategy (Activity / strategy itself is created as a instance, and instantiated over data)\n",
    "- Adapter  (As the name suggest, its kind of API around another object)\n",
    "- Facade (Used for covering/ abstracting the complexity in the system)\n",
    "- Iterator (Use the __iter__ and __next__ methods to implement object iteration)"
   ]
  },
  {
   "cell_type": "code",
   "execution_count": 166,
   "metadata": {},
   "outputs": [],
   "source": [
    "## Factory Pattern\n",
    "## We use the different types of the instances using the methods\n",
    "class Burger:\n",
    "    def __init__(self, ingre):\n",
    "        self.ingre = ingre\n",
    "\n",
    "    def print(self):\n",
    "        print(self.ingre)\n",
    "\n",
    "class BurgerFactory:\n",
    "    \n",
    "    def createCheeseBurger(self):\n",
    "        ingredients = ['bun','cheese','beef-patty']\n",
    "        return Burger(ingredients)\n",
    "    \n",
    "    def createDeluxeBurger(self):\n",
    "        ingredients = ['bun','cheese','beef-patty','tomato','lettuce']\n",
    "        return Burger(ingredients)\n",
    "    \n",
    "    def createVeganBurger(self):\n",
    "        ingredients = ['bun','special-sauce','veg-patty']\n",
    "        return Burger(ingredients)"
   ]
  },
  {
   "cell_type": "code",
   "execution_count": 167,
   "metadata": {},
   "outputs": [
    {
     "name": "stdout",
     "output_type": "stream",
     "text": [
      "['bun', 'cheese', 'beef-patty']\n",
      "['bun', 'cheese', 'beef-patty', 'tomato', 'lettuce']\n",
      "['bun', 'special-sauce', 'veg-patty']\n"
     ]
    }
   ],
   "source": [
    "burgerFactory = BurgerFactory()\n",
    "burgerFactory.createCheeseBurger().print()\n",
    "burgerFactory.createDeluxeBurger().print()\n",
    "burgerFactory.createVeganBurger().print()\n"
   ]
  },
  {
   "cell_type": "code",
   "execution_count": 168,
   "metadata": {},
   "outputs": [],
   "source": [
    "class Burger:\n",
    "    def __init__(self):\n",
    "        self.buns = None\n",
    "        self.patty = None\n",
    "        self.cheese = None\n",
    "\n",
    "    def setBuns(self, bunStyle):\n",
    "        self.buns = bunStyle\n",
    "\n",
    "    def setPatty(self, pattyType):\n",
    "        self.patty = pattyType\n",
    "\n",
    "    def setCheese(self, cheeseVariant):\n",
    "       self.cheese = cheeseVariant\n",
    "    \n",
    "    def __str__(self):\n",
    "        return f'{self.buns} + {self.cheese} + {self.patty}'\n",
    "    \n",
    "    def __repr__(self):\n",
    "        return f'The bun is {self.buns}, cheese is {self.cheese} and patty is {self.patty}'\n",
    "\n",
    "## Builder Pattern. We can use dot operator to initialize and build the instance\n",
    "## Here also different types of instances are built, with better knowledge on the ingredients\n",
    "class BurgerBuilder:\n",
    "    def __init__(self):\n",
    "        self.burger = Burger()\n",
    "\n",
    "    def addBuns(self, bunStyle):\n",
    "        self.burger.setBuns(bunStyle)\n",
    "        return self\n",
    "\n",
    "    def addPatty(self, pattyStyle):\n",
    "        self.burger.setPatty(pattyStyle)\n",
    "        return self\n",
    "\n",
    "    def addCheese(self, cheeseStyle):\n",
    "        self.burger.setCheese(cheeseStyle)\n",
    "        return self\n",
    "\n",
    "    def build(self):\n",
    "        return self.burger\n",
    "    "
   ]
  },
  {
   "cell_type": "code",
   "execution_count": 169,
   "metadata": {},
   "outputs": [],
   "source": [
    "burger = BurgerBuilder() \\\n",
    "            .addBuns('Multi-grain') \\\n",
    "            .addCheese('Cottage') \\\n",
    "            .addPatty('Chicken-Patty') \\\n",
    "            .build()"
   ]
  },
  {
   "cell_type": "code",
   "execution_count": 170,
   "metadata": {},
   "outputs": [
    {
     "data": {
      "text/plain": [
       "The bun is Multi-grain, cheese is Cottage and patty is Chicken-Patty"
      ]
     },
     "execution_count": 170,
     "metadata": {},
     "output_type": "execute_result"
    }
   ],
   "source": [
    "burger"
   ]
  },
  {
   "cell_type": "code",
   "execution_count": 171,
   "metadata": {},
   "outputs": [
    {
     "name": "stdout",
     "output_type": "stream",
     "text": [
      "Multi-grain + Cottage + Chicken-Patty\n"
     ]
    }
   ],
   "source": [
    "print(burger)"
   ]
  },
  {
   "cell_type": "code",
   "execution_count": 172,
   "metadata": {},
   "outputs": [],
   "source": [
    "#Singleton pattern. USeful when a single instance only can be created, or when each \n",
    "#instance created can communicate with each other. \n",
    "# There is a class attribute which get assigned using a static method\n",
    "class ApplicationState:\n",
    "    instance = None\n",
    "\n",
    "    def __init__(self):\n",
    "        self.isLoggedIn = False\n",
    "\n",
    "    @staticmethod\n",
    "    def getAppState():\n",
    "        if not ApplicationState.instance:\n",
    "            ApplicationState.instance = ApplicationState()\n",
    "        return ApplicationState.instance\n",
    "\n",
    "#Never create an instance more than once\n",
    "\n",
    "appState1 = ApplicationState.getAppState()"
   ]
  },
  {
   "cell_type": "code",
   "execution_count": 173,
   "metadata": {},
   "outputs": [
    {
     "data": {
      "text/plain": [
       "False"
      ]
     },
     "execution_count": 173,
     "metadata": {},
     "output_type": "execute_result"
    }
   ],
   "source": [
    "appState1.isLoggedIn"
   ]
  },
  {
   "cell_type": "code",
   "execution_count": 174,
   "metadata": {},
   "outputs": [
    {
     "name": "stdout",
     "output_type": "stream",
     "text": [
      "True\n"
     ]
    }
   ],
   "source": [
    "appState1.isLoggedIn = True\n",
    "print(appState1.isLoggedIn)"
   ]
  },
  {
   "cell_type": "code",
   "execution_count": 175,
   "metadata": {},
   "outputs": [
    {
     "data": {
      "text/plain": [
       "True"
      ]
     },
     "execution_count": 175,
     "metadata": {},
     "output_type": "execute_result"
    }
   ],
   "source": [
    "appState2 = ApplicationState.getAppState()\n",
    "#We did not set isLoggedIn variable...\n",
    "appState2.isLoggedIn"
   ]
  },
  {
   "cell_type": "code",
   "execution_count": 176,
   "metadata": {},
   "outputs": [],
   "source": [
    "## Pubsub or Observer pattern\n",
    "# Youtube is the publisher (subject) and subscribers (observers) are those who get the updates\n",
    "\n",
    "class YoutubeChannel:\n",
    "    def __init__(self, name):\n",
    "        self.name = name\n",
    "        self.subscribers = []\n",
    "\n",
    "    def subscribe(self, sub):\n",
    "        self.subscribers.append(sub)\n",
    "\n",
    "    def notify(self, event):\n",
    "        for sub in self.subscribers:\n",
    "            sub.sendNotification(self.name, event)\n",
    "\n",
    "#One of the use cases of Abstract Base Class\n",
    "from abc import  ABC, abstractmethod\n",
    "\n",
    "class YoutubeSubscriber(ABC):\n",
    "    @abstractmethod\n",
    "    def sendNotification(self, event):\n",
    "        pass\n",
    "\n",
    "class YoutubeUser(YoutubeSubscriber):\n",
    "    def __init__(self, name):\n",
    "        self.name = name\n",
    "\n",
    "    def sendNotification(self, channel, event):\n",
    "        print(f\"User {self.name} recieved notification from channel {channel}: {event}\")\n"
   ]
  },
  {
   "cell_type": "code",
   "execution_count": 177,
   "metadata": {},
   "outputs": [
    {
     "name": "stdout",
     "output_type": "stream",
     "text": [
      "User name1 recieved notification from channel IB: This is neat\n",
      "User name2 recieved notification from channel IB: This is neat\n",
      "User name3 recieved notification from channel IB: This is neat\n"
     ]
    }
   ],
   "source": [
    "channel = YoutubeChannel('IB')\n",
    "\n",
    "channel.subscribe(YoutubeUser('name1'))\n",
    "channel.subscribe(YoutubeUser('name2'))\n",
    "channel.subscribe(YoutubeUser('name3'))\n",
    "\n",
    "# Once the notify method is triggered, all the YT users will recieve notifications\n",
    "channel.notify(event='This is neat')"
   ]
  },
  {
   "cell_type": "code",
   "execution_count": 178,
   "metadata": {},
   "outputs": [
    {
     "name": "stdout",
     "output_type": "stream",
     "text": [
      "1\n",
      "2\n",
      "3\n"
     ]
    }
   ],
   "source": [
    "#Iterator is a pattern that defines how the objects inside an iterator is iterated\n",
    "\n",
    "myList = [1,2,3]\n",
    "\n",
    "#using the in keyword to iterate uses built-in list iterators\n",
    "#When custom obj like binary tree, linked lists the iterator has to be defined\n",
    "\n",
    "for n in myList:\n",
    "    print(n)"
   ]
  },
  {
   "cell_type": "code",
   "execution_count": 179,
   "metadata": {},
   "outputs": [],
   "source": [
    "class ListNode:\n",
    "    def __init__(self,val):\n",
    "        self.val = val\n",
    "        self.next = None\n",
    "\n",
    "class LinkedList:\n",
    "    def __init__(self, head) -> None:\n",
    "        self.head = head\n",
    "        self.cur = None\n",
    "\n",
    "    def __iter__(self):\n",
    "        self.cur = self.head\n",
    "        return self\n",
    "    \n",
    "    def __next__(self):\n",
    "        if self.cur:\n",
    "            val = self.cur.val\n",
    "            self.cur = self.cur.next\n",
    "            return val\n",
    "\n",
    "        else:\n",
    "            raise StopIteration"
   ]
  },
  {
   "cell_type": "code",
   "execution_count": 180,
   "metadata": {},
   "outputs": [
    {
     "name": "stdout",
     "output_type": "stream",
     "text": [
      "1\n",
      "2\n",
      "3\n"
     ]
    }
   ],
   "source": [
    "head = ListNode(1)\n",
    "head.next = ListNode(2)\n",
    "head.next.next = ListNode(3)\n",
    "myList = LinkedList(head)\n",
    "\n",
    "for n in myList:\n",
    "    print(n)"
   ]
  },
  {
   "cell_type": "code",
   "execution_count": 181,
   "metadata": {},
   "outputs": [],
   "source": [
    "# Behavioural Strategy Patterns : Open Closed principle \n",
    "\n",
    "### A class is Open for Extension... Closed for modifications\n",
    "\n",
    "# Ex: We can filter array to remove positive vals in array or odd values. In future some thing else"
   ]
  },
  {
   "cell_type": "code",
   "execution_count": 182,
   "metadata": {},
   "outputs": [],
   "source": [
    "class FilterStrategy(ABC):\n",
    "\n",
    "    @abstractmethod\n",
    "    def removeValue(self, val):\n",
    "        pass\n",
    "\n",
    "class RemoveNegativeStrategy(FilterStrategy):\n",
    "\n",
    "    def removeValue(self, val):\n",
    "        return val < 0\n",
    "\n",
    "class RemoveOddStrategy(FilterStrategy):\n",
    "\n",
    "    def removeValue(self, val):\n",
    "        return abs(val) % 2"
   ]
  },
  {
   "cell_type": "code",
   "execution_count": 183,
   "metadata": {},
   "outputs": [],
   "source": [
    "class Values:\n",
    "    def __init__(self, vals):\n",
    "        self.vals = vals\n",
    "\n",
    "    def filter(self, strategy):\n",
    "        res = []\n",
    "        for n in self.vals:\n",
    "            if not strategy.removeValue(n):\n",
    "                res.append(n)\n",
    "        return res"
   ]
  },
  {
   "cell_type": "code",
   "execution_count": 184,
   "metadata": {},
   "outputs": [
    {
     "name": "stdout",
     "output_type": "stream",
     "text": [
      "[7, 3, 4]\n",
      "[-2, 4, -6]\n"
     ]
    }
   ],
   "source": [
    "values = Values([-5,7,-2,3,4,-6,-9])\n",
    "print(values.filter(RemoveNegativeStrategy()))\n",
    "print(values.filter(RemoveOddStrategy()))\n",
    "\n",
    "# Note the values class is not modified. Its only extended with different strategy using a different \n",
    "# classes"
   ]
  },
  {
   "cell_type": "code",
   "execution_count": 185,
   "metadata": {},
   "outputs": [
    {
     "data": {
      "text/plain": [
       "False"
      ]
     },
     "execution_count": 185,
     "metadata": {},
     "output_type": "execute_result"
    }
   ],
   "source": [
    "#Adapter Pattern, where the screw is modified with adapter to fit\n",
    "\n",
    "class UsbCable:\n",
    "    def __init__(self):\n",
    "        self.isPlugged = False\n",
    "\n",
    "    def plugUsb(self):\n",
    "        self.isPlugged = True\n",
    "\n",
    "class UsbPort:\n",
    "    def __init__(self):\n",
    "        self.portAvbl = True\n",
    "\n",
    "    def plug(self, usb):\n",
    "        if self.portAvbl:\n",
    "            usb.plugUsb()\n",
    "            self.portAvbl = False\n",
    "\n",
    "usbCable = UsbCable()\n",
    "usbPort = UsbPort()\n",
    "usbPort.plug(usbCable)\n",
    "usbPort.portAvbl"
   ]
  },
  {
   "cell_type": "code",
   "execution_count": 186,
   "metadata": {},
   "outputs": [],
   "source": [
    "class MicroUsbCable:\n",
    "    def __init__(self):\n",
    "        self.isPlugged = False\n",
    "\n",
    "    def plugMicroUsb(self):\n",
    "        self.isPlugged = True\n",
    "\n",
    "class MicroToUsbAdapter(UsbCable):\n",
    "    def __init__(self,microUsbCable):\n",
    "        self.microUsbCable = microUsbCable\n",
    "        self.microUsbCable.plugMicroUsb()\n",
    "\n",
    "microToUsbAdapter = MicroToUsbAdapter(MicroUsbCable())\n",
    "\n",
    "usbPort2 = UsbPort()\n",
    "\n",
    "usbPort2.plug(microToUsbAdapter)"
   ]
  },
  {
   "attachments": {
    "image.png": {
     "image/png": "[encoded data removed]"
    }
   },
   "cell_type": "markdown",
   "metadata": {},
   "source": [
    "## Facade Pattern\n",
    "\n",
    "Class iterface is pleasant facade to the more complex and unpleasant reality that is hidden behind it\n",
    "Facade is a usually a wrapper class, around the more complex multi-part systems\n",
    "\n",
    "![image.png](attachment:image.png)"
   ]
  },
  {
   "cell_type": "code",
   "execution_count": 187,
   "metadata": {},
   "outputs": [],
   "source": [
    "# Even dynamic arrays can have complexity, which can be hidden behind the Facade pattern\n",
    "\n",
    "class Array:\n",
    "    def __init__(self):\n",
    "        self.capacity = 2\n",
    "        self.length = 0\n",
    "        self.arr = [0] * 2\n",
    "\n",
    "    def pushback(self, n):\n",
    "        if self.length == self.capacity:\n",
    "            self.resize()\n",
    "\n",
    "        self.arr[self.length] = n\n",
    "        self.length += 1\n",
    "\n",
    "    def resize(self):\n",
    "        self.capacity = 2 * self.capacity\n",
    "        newArr = [0] * self.capacity\n",
    "\n",
    "        for i in range(self.length):\n",
    "            newArr[i] = self.arr[i]\n",
    "        \n",
    "        return newArr"
   ]
  },
  {
   "cell_type": "markdown",
   "metadata": {},
   "source": [
    "### Factory Pattern in-detail\n",
    "\n",
    "Main challenge solved by Factory pattern is to avoid using if/elif/else conditional structures as it makes the code harder to read, harder to understand, and harder to maintain.\n",
    "\n",
    "But why it is hard? \n",
    "Because the code/ method/ module is doing a lot more. Based on Single Responsibility principle, a module, class or method has to do only one thing. (So will this be the case in Python Modules too) \n",
    "\n",
    "When the code with multiple logical path is provided, look for the common interface. What is the input and the expected output?\n",
    "\n",
    "Changing the code, without changing the behaviour is refactoring the code.\n",
    "\n"
   ]
  },
  {
   "cell_type": "code",
   "execution_count": 188,
   "metadata": {},
   "outputs": [],
   "source": [
    "# Base code, that is not readable\n",
    "\n",
    "# In serializer_demo.py\n",
    "\n",
    "import json\n",
    "import xml.etree.ElementTree as et\n",
    "\n",
    "class Song:\n",
    "    def __init__(self, song_id, title, artist):\n",
    "        self.song_id = song_id\n",
    "        self.title = title\n",
    "        self.artist = artist\n",
    "\n",
    "\n",
    "class SongSerializer:\n",
    "    def serialize(self, song, format):\n",
    "        if format == 'JSON':\n",
    "            song_info = {\n",
    "                'id': song.song_id,\n",
    "                'title': song.title,\n",
    "                'artist': song.artist\n",
    "            }\n",
    "            return json.dumps(song_info)\n",
    "        elif format == 'XML':\n",
    "            song_info = et.Element('song', attrib={'id': song.song_id})\n",
    "            title = et.SubElement(song_info, 'title')\n",
    "            title.text = song.title\n",
    "            artist = et.SubElement(song_info, 'artist')\n",
    "            artist.text = song.artist\n",
    "            return et.tostring(song_info, encoding='unicode')\n",
    "        else:\n",
    "            raise ValueError(format)"
   ]
  },
  {
   "cell_type": "code",
   "execution_count": 189,
   "metadata": {},
   "outputs": [],
   "source": [
    "# Improved & refactored serializer class with methods as interface\n",
    "# This code can be still improved...\n",
    "\n",
    "class SongSerializer:\n",
    "    def serialize(self, song, format):\n",
    "        if format == 'JSON':\n",
    "            return self._serialize_to_json(song)\n",
    "        elif format == 'XML':\n",
    "            return self._serialize_to_xml(song)\n",
    "        else:\n",
    "            raise ValueError(format)\n",
    "\n",
    "    def _serialize_to_json(self, song):\n",
    "        payload = {\n",
    "            'id': song.song_id,\n",
    "            'title': song.title,\n",
    "            'artist': song.artist\n",
    "        }\n",
    "        return json.dumps(payload)\n",
    "\n",
    "    def _serialize_to_xml(self, song):\n",
    "        song_element = et.Element('song', attrib={'id': song.song_id})\n",
    "        title = et.SubElement(song_element, 'title')\n",
    "        title.text = song.title\n",
    "        artist = et.SubElement(song_element, 'artist')\n",
    "        artist.text = song.artist\n",
    "        return et.tostring(song_element, encoding='unicode')"
   ]
  },
  {
   "cell_type": "markdown",
   "metadata": {},
   "source": [
    "Central idea in Factory Method is to provide a separate component with the responsibility to decide which concrete implementation should be used based on some specified parameter. That parameter in our example is the format."
   ]
  },
  {
   "cell_type": "code",
   "execution_count": 190,
   "metadata": {},
   "outputs": [],
   "source": [
    "# Two methods are implemented, serialize and _get_serializer\n",
    "\n",
    "class SongSerializer:\n",
    "    def serialize(self, song, format):\n",
    "        serializer = self._get_serializer(format)\n",
    "        return serializer(song)\n",
    "\n",
    "    def _get_serializer(self, format):\n",
    "        if format == 'JSON':\n",
    "            return self._serialize_to_json\n",
    "        elif format == 'XML':\n",
    "            return self._serialize_to_xml\n",
    "        else:\n",
    "            raise ValueError(format)\n",
    "\n",
    "    def _serialize_to_json(self, song):\n",
    "        payload = {\n",
    "            'id': song.song_id,\n",
    "            'title': song.title,\n",
    "            'artist': song.artist\n",
    "        }\n",
    "        return json.dumps(payload)\n",
    "\n",
    "    def _serialize_to_xml(self, song):\n",
    "        song_element = et.Element('song', attrib={'id': song.song_id})\n",
    "        title = et.SubElement(song_element, 'title')\n",
    "        title.text = song.title\n",
    "        artist = et.SubElement(song_element, 'artist')\n",
    "        artist.text = song.artist\n",
    "        return et.tostring(song_element, encoding='unicode')"
   ]
  },
  {
   "cell_type": "markdown",
   "metadata": {},
   "source": [
    "- .serialize() method is the app code, that depends on an interface to complete the task. \n",
    "\n",
    "- The above method becomes the **client** component and the **product** is the function that takes the Song object and returns the string\n",
    "\n",
    "- The serializer methods are **concrete** implementations\n",
    "\n",
    "- .get_serializer() is a **creator** component\n",
    "\n",
    "The mechanics of Factory Method are always the same. A client (SongSerializer.serialize()) depends on a concrete implementation of an interface. It requests the implementation from a creator component (get_serializer()) using some sort of identifier (format)."
   ]
  },
  {
   "cell_type": "code",
   "execution_count": 191,
   "metadata": {},
   "outputs": [],
   "source": [
    "class SongSerializer:\n",
    "    def serialize(self, song, format):\n",
    "        serializer = get_serializer(format)\n",
    "        return serializer(song)\n",
    "\n",
    "\n",
    "def get_serializer(format):\n",
    "    if format == 'JSON':\n",
    "        return _serialize_to_json\n",
    "    elif format == 'XML':\n",
    "        return _serialize_to_xml\n",
    "    else:\n",
    "        raise ValueError(format)\n",
    "\n",
    "\n",
    "def _serialize_to_json(song):\n",
    "    payload = {\n",
    "        'id': song.song_id,\n",
    "        'title': song.title,\n",
    "        'artist': song.artist\n",
    "    }\n",
    "    return json.dumps(payload)\n",
    "\n",
    "\n",
    "def _serialize_to_xml(song):\n",
    "    song_element = et.Element('song', attrib={'id': song.song_id})\n",
    "    title = et.SubElement(song_element, 'title')\n",
    "    title.text = song.title\n",
    "    artist = et.SubElement(song_element, 'artist')\n",
    "    artist.text = song.artist\n",
    "    return et.tostring(song_element, encoding='unicode')"
   ]
  },
  {
   "cell_type": "markdown",
   "metadata": {},
   "source": [
    "Replacing complex logical code: Complex logical structures in the format if/elif/else are hard to maintain because new logical paths are needed as requirements change.\n",
    "\n",
    "Factory Method is a good replacement because you can put the body of each logical path into separate functions or classes with a common interface, and the creator can provide the concrete implementation.\n",
    "\n",
    "The parameter evaluated in the conditions becomes the parameter to identify the concrete implementation. The example above represents this situation.\n",
    "\n",
    "Constructing related objects from external data: Imagine an application that needs to retrieve employee information from a database or other external source.\n",
    "\n",
    "The records represent employees with different roles or types: managers, office clerks, sales associates, and so on. The application may store an identifier representing the type of employee in the record and then use Factory Method to create each concrete Employee object from the rest of the information on the record.\n",
    "\n",
    "Supporting multiple implementations of the same feature: An image processing application needs to transform a satellite image from one coordinate system to another, but there are multiple algorithms with different levels of accuracy to perform the transformation.\n",
    "\n",
    "The application can allow the user to select an option that identifies the concrete algorithm. Factory Method can provide the concrete implementation of the algorithm based on this option.\n",
    "\n",
    "Combining similar features under a common interface: Following the image processing example, an application needs to apply a filter to an image. The specific filter to use can be identified by some user input, and Factory Method can provide the concrete filter implementation.\n",
    "\n",
    "Integrating related external services: A music player application wants to integrate with multiple external services and allow users to select where their music comes from. The application can define a common interface for a music service and use Factory Method to create the correct integration based on a user preference."
   ]
  },
  {
   "cell_type": "code",
   "execution_count": 192,
   "metadata": {},
   "outputs": [],
   "source": [
    "# In serializers.py\n",
    "\n",
    "import json\n",
    "import xml.etree.ElementTree as et\n",
    "\n",
    "class JsonSerializer:\n",
    "    def __init__(self):\n",
    "        self._current_object = None\n",
    "\n",
    "    def start_object(self, object_name, object_id):\n",
    "        self._current_object = {\n",
    "            'id': object_id\n",
    "        }\n",
    "\n",
    "    def add_property(self, name, value):\n",
    "        self._current_object[name] = value\n",
    "\n",
    "    def to_str(self):\n",
    "        return json.dumps(self._current_object)\n",
    "\n",
    "\n",
    "class XmlSerializer:\n",
    "    def __init__(self):\n",
    "        self._element = None\n",
    "\n",
    "    def start_object(self, object_name, object_id):\n",
    "        self._element = et.Element(object_name, attrib={'id': object_id})\n",
    "\n",
    "    def add_property(self, name, value):\n",
    "        prop = et.SubElement(self._element, name)\n",
    "        prop.text = value\n",
    "\n",
    "    def to_str(self):\n",
    "        return et.tostring(self._element, encoding='unicode')"
   ]
  },
  {
   "cell_type": "code",
   "execution_count": 193,
   "metadata": {},
   "outputs": [],
   "source": [
    "class Song:\n",
    "    def __init__(self, song_id, title, artist):\n",
    "        self.song_id = song_id\n",
    "        self.title = title\n",
    "        self.artist = artist\n",
    "\n",
    "    def serialize(self, serializer):\n",
    "        serializer.start_object('song', self.song_id)\n",
    "        serializer.add_property('title', self.title)\n",
    "        serializer.add_property('artist', self.artist)\n",
    "#In the method, the Song class uses the serializer object to write its own information without any knowledge of the format.\n",
    "\n",
    "#As a matter of fact, the Song class doesn’t even know the goal is to convert the data to a string. This is important because you could use this interface to provide a different kind of serializer that converts the Song information to a completely different representation if needed."
   ]
  },
  {
   "cell_type": "code",
   "execution_count": 194,
   "metadata": {},
   "outputs": [],
   "source": [
    "# In serializers.py\n",
    "\n",
    "class SerializerFactory:\n",
    "\n",
    "    def __init__(self):\n",
    "        self._creators = {}\n",
    "\n",
    "    def register_format(self, format, creator):\n",
    "        self._creators[format] = creator\n",
    "\n",
    "    def get_serializer(self, format):\n",
    "        creator = self._creators.get(format)\n",
    "        if not creator:\n",
    "            raise ValueError(format)\n",
    "        return creator()\n",
    "\n",
    "\n",
    "factory = SerializerFactory()\n",
    "factory.register_format('JSON', JsonSerializer)\n",
    "factory.register_format('XML', XmlSerializer)"
   ]
  },
  {
   "cell_type": "code",
   "execution_count": 195,
   "metadata": {},
   "outputs": [],
   "source": [
    "import yaml\n",
    "\n",
    "class YamlSerializer(JsonSerializer):\n",
    "    def to_str(self):\n",
    "        return yaml.dump(self._current_object)\n",
    "\n",
    "\n",
    "factory.register_format('YAML', YamlSerializer)"
   ]
  },
  {
   "cell_type": "markdown",
   "metadata": {},
   "source": [
    "Factory Method can be used to solve a wide range of problems. An Object Factory gives additional flexibility to the design when requirements change. Ideally, you’ll want an implementation of Object Factory that can be reused in any situation without replicating the implementation."
   ]
  },
  {
   "cell_type": "code",
   "execution_count": 196,
   "metadata": {},
   "outputs": [],
   "source": [
    "config = {\n",
    "    'spotify_client_key': 'THE_SPOTIFY_CLIENT_KEY',\n",
    "    'spotify_client_secret': 'THE_SPOTIFY_CLIENT_SECRET',\n",
    "    'pandora_client_key': 'THE_PANDORA_CLIENT_KEY',\n",
    "    'pandora_client_secret': 'THE_PANDORA_CLIENT_SECRET',\n",
    "    'local_music_location': '/usr/data/music'\n",
    "}"
   ]
  },
  {
   "cell_type": "code",
   "execution_count": 197,
   "metadata": {},
   "outputs": [],
   "source": [
    "class SpotifyService:\n",
    "    def __init__(self, access_code):\n",
    "        self._access_code = access_code\n",
    "\n",
    "    def test_connection(self):\n",
    "        print(f'Accessing Spotify with {self._access_code}')\n",
    "\n",
    "\n",
    "class SpotifyServiceBuilder:\n",
    "    def __init__(self):\n",
    "        self._instance = None\n",
    "\n",
    "    def __call__(self, spotify_client_key, spotify_client_secret, **_ignored):\n",
    "        if not self._instance:\n",
    "            access_code = self.authorize(\n",
    "                spotify_client_key, spotify_client_secret)\n",
    "            self._instance = SpotifyService(access_code)\n",
    "        return self._instance\n",
    "\n",
    "    def authorize(self, key, secret):\n",
    "        return 'SPOTIFY_ACCESS_CODE'"
   ]
  },
  {
   "cell_type": "code",
   "execution_count": 198,
   "metadata": {},
   "outputs": [],
   "source": [
    "\n",
    "class PandoraService:\n",
    "    def __init__(self, consumer_key, consumer_secret):\n",
    "        self._key = consumer_key\n",
    "        self._secret = consumer_secret\n",
    "\n",
    "    def test_connection(self):\n",
    "        print(f'Accessing Pandora with {self._key} and {self._secret}')\n",
    "\n",
    "\n",
    "class PandoraServiceBuilder:\n",
    "    def __init__(self):\n",
    "        self._instance = None\n",
    "\n",
    "    def __call__(self, pandora_client_key, pandora_client_secret, **_ignored):\n",
    "        if not self._instance:\n",
    "            consumer_key, consumer_secret = self.authorize(\n",
    "                pandora_client_key, pandora_client_secret)\n",
    "            self._instance = PandoraService(consumer_key, consumer_secret)\n",
    "        return self._instance\n",
    "\n",
    "    def authorize(self, key, secret):\n",
    "        return 'PANDORA_CONSUMER_KEY', 'PANDORA_CONSUMER_SECRET'"
   ]
  },
  {
   "cell_type": "code",
   "execution_count": 199,
   "metadata": {},
   "outputs": [],
   "source": [
    "# In music.py\n",
    "\n",
    "class LocalService:\n",
    "    def __init__(self, location):\n",
    "        self._location = location\n",
    "\n",
    "    def test_connection(self):\n",
    "        print(f'Accessing Local music at {self._location}')\n",
    "\n",
    "\n",
    "def create_local_music_service(local_music_location, **_ignored):\n",
    "    return LocalService(local_music_location)"
   ]
  },
  {
   "cell_type": "code",
   "execution_count": 200,
   "metadata": {},
   "outputs": [],
   "source": [
    "# In object_factory.py\n",
    "\n",
    "class ObjectFactory:\n",
    "    def __init__(self):\n",
    "        self._builders = {}\n",
    "\n",
    "    def register_builder(self, key, builder):\n",
    "        self._builders[key] = builder\n",
    "\n",
    "    def create(self, key, **kwargs):\n",
    "        builder = self._builders.get(key)\n",
    "        if not builder:\n",
    "            raise ValueError(key)\n",
    "        return builder(**kwargs)"
   ]
  },
  {
   "cell_type": "code",
   "execution_count": 201,
   "metadata": {},
   "outputs": [],
   "source": [
    "factory = ObjectFactory()\n",
    "factory.register_builder('SPOTIFY', SpotifyServiceBuilder())\n",
    "factory.register_builder('PANDORA', PandoraServiceBuilder())\n",
    "factory.register_builder('LOCAL', create_local_music_service)"
   ]
  },
  {
   "cell_type": "code",
   "execution_count": 202,
   "metadata": {},
   "outputs": [
    {
     "name": "stdout",
     "output_type": "stream",
     "text": [
      "Accessing Pandora with PANDORA_CONSUMER_KEY and PANDORA_CONSUMER_SECRET\n"
     ]
    }
   ],
   "source": [
    "pandora = factory.create('PANDORA', **config)\n",
    "pandora.test_connection()"
   ]
  },
  {
   "cell_type": "code",
   "execution_count": 204,
   "metadata": {},
   "outputs": [
    {
     "name": "stdout",
     "output_type": "stream",
     "text": [
      "Accessing Spotify with SPOTIFY_ACCESS_CODE\n"
     ]
    }
   ],
   "source": [
    "spotify = factory.create('SPOTIFY', **config)\n",
    "spotify.test_connection()\n"
   ]
  },
  {
   "cell_type": "code",
   "execution_count": 206,
   "metadata": {},
   "outputs": [
    {
     "name": "stdout",
     "output_type": "stream",
     "text": [
      "Accessing Local music at /usr/data/music\n"
     ]
    }
   ],
   "source": [
    "local = factory.create('LOCAL', **config)\n",
    "local.test_connection()"
   ]
  },
  {
   "cell_type": "code",
   "execution_count": 208,
   "metadata": {},
   "outputs": [
    {
     "ename": "NameError",
     "evalue": "name 'services' is not defined",
     "output_type": "error",
     "traceback": [
      "\u001b[1;31m---------------------------------------------------------------------------\u001b[0m",
      "\u001b[1;31mNameError\u001b[0m                                 Traceback (most recent call last)",
      "\u001b[1;32md:\\gitFolders\\HowCompetitive\\python_lessons\\python_patterns.ipynb Cell 47\u001b[0m line \u001b[0;36m1\n\u001b[1;32m----> <a href='vscode-notebook-cell:/d%3A/gitFolders/HowCompetitive/python_lessons/python_patterns.ipynb#X66sZmlsZQ%3D%3D?line=0'>1</a>\u001b[0m pandora2 \u001b[39m=\u001b[39m services\u001b[39m.\u001b[39mget(\u001b[39m'\u001b[39m\u001b[39mPANDORA\u001b[39m\u001b[39m'\u001b[39m, \u001b[39m*\u001b[39m\u001b[39m*\u001b[39mconfig)\n\u001b[0;32m      <a href='vscode-notebook-cell:/d%3A/gitFolders/HowCompetitive/python_lessons/python_patterns.ipynb#X66sZmlsZQ%3D%3D?line=1'>2</a>\u001b[0m \u001b[39mprint\u001b[39m(\u001b[39mf\u001b[39m\u001b[39m'\u001b[39m\u001b[39mid(pandora) == id(pandora2): \u001b[39m\u001b[39m{\u001b[39;00m\u001b[39mid\u001b[39m(pandora)\u001b[39m \u001b[39m\u001b[39m==\u001b[39m\u001b[39m \u001b[39m\u001b[39mid\u001b[39m(pandora2)\u001b[39m}\u001b[39;00m\u001b[39m'\u001b[39m)\n",
      "\u001b[1;31mNameError\u001b[0m: name 'services' is not defined"
     ]
    }
   ],
   "source": [
    "pandora2 = services.get('PANDORA', **config)\n",
    "print(f'id(pandora) == id(pandora2): {id(pandora) == id(pandora2)}')"
   ]
  },
  {
   "cell_type": "code",
   "execution_count": 209,
   "metadata": {},
   "outputs": [],
   "source": [
    "class MusicServiceProvider(ObjectFactory):\n",
    "    def get(self, service_id, **kwargs):\n",
    "        return self.create(service_id, **kwargs)\n",
    "\n",
    "\n",
    "services = MusicServiceProvider()\n",
    "services.register_builder('SPOTIFY', SpotifyServiceBuilder())\n",
    "services.register_builder('PANDORA', PandoraServiceBuilder())\n",
    "services.register_builder('LOCAL', create_local_music_service)"
   ]
  },
  {
   "cell_type": "code",
   "execution_count": 210,
   "metadata": {},
   "outputs": [
    {
     "name": "stdout",
     "output_type": "stream",
     "text": [
      "id(pandora) == id(pandora2): False\n",
      "id(spotify) == id(spotify2): False\n"
     ]
    }
   ],
   "source": [
    "pandora2 = services.get('PANDORA', **config)\n",
    "print(f'id(pandora) == id(pandora2): {id(pandora) == id(pandora2)}')\n",
    "\n",
    "spotify2 = services.get('SPOTIFY', **config)\n",
    "print(f'id(spotify) == id(spotify2): {id(spotify) == id(spotify2)}')"
   ]
  },
  {
   "cell_type": "markdown",
   "metadata": {},
   "source": [
    "What the Factory Method design pattern is and what its components are\n",
    "\n",
    "How to refactor existing code to leverage Factory Method\n",
    "\n",
    "Situations in which Factory Method should be used\n",
    "\n",
    "How Object Factories provide more flexibility to implement Factory Method\n",
    "\n",
    "How to implement a general purpose Object Factory and its challenges\n",
    "\n",
    "How to specialize a general solution to provide a better context"
   ]
  }
 ],
 "metadata": {
  "kernelspec": {
   "display_name": "Python 3",
   "language": "python",
   "name": "python3"
  },
  "language_info": {
   "codemirror_mode": {
    "name": "ipython",
    "version": 3
   },
   "file_extension": ".py",
   "mimetype": "text/x-python",
   "name": "python",
   "nbconvert_exporter": "python",
   "pygments_lexer": "ipython3",
   "version": "3.11.4"
  }
 },
 "nbformat": 4,
 "nbformat_minor": 2
}
