{
 "cells": [
  {
   "cell_type": "code",
   "execution_count": 1,
   "metadata": {},
   "outputs": [],
   "source": [
    "import logging\n",
    "logging.basicConfig(format=\"%(message)s | %(levelname)s\", level=logging.INFO, force=True)"
   ]
  },
  {
   "cell_type": "code",
   "execution_count": 2,
   "metadata": {},
   "outputs": [
    {
     "name": "stderr",
     "output_type": "stream",
     "text": [
      "{'userId': 1, 'id': 1, 'title': 'delectus aut autem', 'completed': False} | INFO\n"
     ]
    }
   ],
   "source": [
    "import requests\n",
    "\n",
    "# working on the get requests\n",
    "\n",
    "url = \"https://jsonplaceholder.typicode.com/todos/1\"\n",
    "raw = requests.get(url)\n",
    "jsonData = raw.json()\n",
    "logging.info(jsonData)"
   ]
  },
  {
   "cell_type": "code",
   "execution_count": 3,
   "metadata": {},
   "outputs": [
    {
     "data": {
      "text/plain": [
       "200"
      ]
     },
     "execution_count": 3,
     "metadata": {},
     "output_type": "execute_result"
    }
   ],
   "source": [
    "raw.status_code"
   ]
  },
  {
   "cell_type": "code",
   "execution_count": 4,
   "metadata": {},
   "outputs": [
    {
     "data": {
      "text/plain": [
       "b'{\\n  \"userId\": 1,\\n  \"id\": 1,\\n  \"title\": \"delectus aut autem\",\\n  \"completed\": false\\n}'"
      ]
     },
     "execution_count": 4,
     "metadata": {},
     "output_type": "execute_result"
    }
   ],
   "source": [
    "raw.content"
   ]
  },
  {
   "cell_type": "code",
   "execution_count": 9,
   "metadata": {},
   "outputs": [
    {
     "data": {
      "text/plain": [
       "[('Date', 'Fri, 15 Dec 2023 14:16:01 GMT'),\n",
       " ('Content-Type', 'application/json; charset=utf-8'),\n",
       " ('Transfer-Encoding', 'chunked'),\n",
       " ('Connection', 'keep-alive'),\n",
       " ('Report-To',\n",
       "  '{\"group\":\"heroku-nel\",\"max_age\":3600,\"endpoints\":[{\"url\":\"https://nel.heroku.com/reports?ts=1702559859&sid=e11707d5-02a7-43ef-b45e-2cf4d2036f7d&s=CrkYX1LEyfyCED%2F0JaS4JsVKMpZfuy7FTKQGgNuMg18%3D\"}]}'),\n",
       " ('Reporting-Endpoints',\n",
       "  'heroku-nel=https://nel.heroku.com/reports?ts=1702559859&sid=e11707d5-02a7-43ef-b45e-2cf4d2036f7d&s=CrkYX1LEyfyCED%2F0JaS4JsVKMpZfuy7FTKQGgNuMg18%3D'),\n",
       " ('Nel',\n",
       "  '{\"report_to\":\"heroku-nel\",\"max_age\":3600,\"success_fraction\":0.005,\"failure_fraction\":0.05,\"response_headers\":[\"Via\"]}'),\n",
       " ('X-Powered-By', 'Express'),\n",
       " ('X-Ratelimit-Limit', '1000'),\n",
       " ('X-Ratelimit-Remaining', '999'),\n",
       " ('X-Ratelimit-Reset', '1702559866'),\n",
       " ('Vary', 'Origin, Accept-Encoding'),\n",
       " ('Access-Control-Allow-Credentials', 'true'),\n",
       " ('Cache-Control', 'max-age=43200'),\n",
       " ('Pragma', 'no-cache'),\n",
       " ('Expires', '-1'),\n",
       " ('X-Content-Type-Options', 'nosniff'),\n",
       " ('Etag', 'W/\"53-hfEnumeNh6YirfjyjaujcOPPT+s\"'),\n",
       " ('Via', '1.1 vegur'),\n",
       " ('CF-Cache-Status', 'HIT'),\n",
       " ('Age', '3423'),\n",
       " ('Server', 'cloudflare'),\n",
       " ('CF-RAY', '835f4d4e4813495f-SIN'),\n",
       " ('Content-Encoding', 'gzip'),\n",
       " ('alt-svc', 'h3=\":443\"; ma=86400')]"
      ]
     },
     "execution_count": 9,
     "metadata": {},
     "output_type": "execute_result"
    }
   ],
   "source": [
    "list(raw.headers.items())"
   ]
  },
  {
   "cell_type": "code",
   "execution_count": 12,
   "metadata": {},
   "outputs": [],
   "source": [
    "# work on POST request: where the data is posted\n",
    "\n",
    "data = {\"userId\": 2,\n",
    "        \"title\": \"Buy Milk\",\n",
    "        \"completed\": False}\n",
    "post_url = \"https://jsonplaceholder.typicode.com/todos\"\n",
    "# resp = requests.post(url=post_url, data=data) # this also works\n",
    "resp = requests.post(url=post_url, json=data)"
   ]
  },
  {
   "cell_type": "code",
   "execution_count": 13,
   "metadata": {},
   "outputs": [
    {
     "data": {
      "text/plain": [
       "201"
      ]
     },
     "execution_count": 13,
     "metadata": {},
     "output_type": "execute_result"
    }
   ],
   "source": [
    "resp.status_code"
   ]
  },
  {
   "cell_type": "code",
   "execution_count": null,
   "metadata": {},
   "outputs": [],
   "source": [
    "# if the json keyword is not used then multiple info"
   ]
  },
  {
   "cell_type": "code",
   "execution_count": null,
   "metadata": {},
   "outputs": [],
   "source": []
  },
  {
   "cell_type": "code",
   "execution_count": null,
   "metadata": {},
   "outputs": [],
   "source": []
  },
  {
   "cell_type": "code",
   "execution_count": null,
   "metadata": {},
   "outputs": [],
   "source": []
  }
 ],
 "metadata": {
  "kernelspec": {
   "display_name": "Python 3",
   "language": "python",
   "name": "python3"
  },
  "language_info": {
   "codemirror_mode": {
    "name": "ipython",
    "version": 3
   },
   "file_extension": ".py",
   "mimetype": "text/x-python",
   "name": "python",
   "nbconvert_exporter": "python",
   "pygments_lexer": "ipython3",
   "version": "3.12.0"
  }
 },
 "nbformat": 4,
 "nbformat_minor": 2
}
