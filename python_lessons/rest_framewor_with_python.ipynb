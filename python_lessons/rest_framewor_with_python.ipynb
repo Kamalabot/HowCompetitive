{
 "cells": [
  {
   "cell_type": "code",
   "execution_count": 1,
   "metadata": {},
   "outputs": [],
   "source": [
    "import logging\n",
    "logging.basicConfig(format=\"%(message)s | %(levelname)s\", level=logging.INFO, force=True)"
   ]
  },
  {
   "cell_type": "code",
   "execution_count": 2,
   "metadata": {},
   "outputs": [
    {
     "name": "stderr",
     "output_type": "stream",
     "text": [
      "{'userId': 1, 'id': 1, 'title': 'delectus aut autem', 'completed': False} | INFO\n"
     ]
    }
   ],
   "source": [
    "import requests\n",
    "\n",
    "# working on the get requests\n",
    "\n",
    "url = \"https://jsonplaceholder.typicode.com/todos/1\"\n",
    "raw = requests.get(url)\n",
    "jsonData = raw.json()\n",
    "logging.info(jsonData)"
   ]
  },
  {
   "cell_type": "code",
   "execution_count": 3,
   "metadata": {},
   "outputs": [
    {
     "data": {
      "text/plain": [
       "200"
      ]
     },
     "execution_count": 3,
     "metadata": {},
     "output_type": "execute_result"
    }
   ],
   "source": [
    "raw.status_code"
   ]
  },
  {
   "cell_type": "code",
   "execution_count": 4,
   "metadata": {},
   "outputs": [
    {
     "data": {
      "text/plain": [
       "b'{\\n  \"userId\": 1,\\n  \"id\": 1,\\n  \"title\": \"delectus aut autem\",\\n  \"completed\": false\\n}'"
      ]
     },
     "execution_count": 4,
     "metadata": {},
     "output_type": "execute_result"
    }
   ],
   "source": [
    "raw.content"
   ]
  },
  {
   "cell_type": "code",
   "execution_count": 9,
   "metadata": {},
   "outputs": [
    {
     "data": {
      "text/plain": [
       "[('Date', 'Fri, 15 Dec 2023 14:16:01 GMT'),\n",
       " ('Content-Type', 'application/json; charset=utf-8'),\n",
       " ('Transfer-Encoding', 'chunked'),\n",
       " ('Connection', 'keep-alive'),\n",
       " ('Report-To',\n",
       "  '{\"group\":\"heroku-nel\",\"max_age\":3600,\"endpoints\":[{\"url\":\"https://nel.heroku.com/reports?ts=1702559859&sid=e11707d5-02a7-43ef-b45e-2cf4d2036f7d&s=CrkYX1LEyfyCED%2F0JaS4JsVKMpZfuy7FTKQGgNuMg18%3D\"}]}'),\n",
       " ('Reporting-Endpoints',\n",
       "  'heroku-nel=https://nel.heroku.com/reports?ts=1702559859&sid=e11707d5-02a7-43ef-b45e-2cf4d2036f7d&s=CrkYX1LEyfyCED%2F0JaS4JsVKMpZfuy7FTKQGgNuMg18%3D'),\n",
       " ('Nel',\n",
       "  '{\"report_to\":\"heroku-nel\",\"max_age\":3600,\"success_fraction\":0.005,\"failure_fraction\":0.05,\"response_headers\":[\"Via\"]}'),\n",
       " ('X-Powered-By', 'Express'),\n",
       " ('X-Ratelimit-Limit', '1000'),\n",
       " ('X-Ratelimit-Remaining', '999'),\n",
       " ('X-Ratelimit-Reset', '1702559866'),\n",
       " ('Vary', 'Origin, Accept-Encoding'),\n",
       " ('Access-Control-Allow-Credentials', 'true'),\n",
       " ('Cache-Control', 'max-age=43200'),\n",
       " ('Pragma', 'no-cache'),\n",
       " ('Expires', '-1'),\n",
       " ('X-Content-Type-Options', 'nosniff'),\n",
       " ('Etag', 'W/\"53-hfEnumeNh6YirfjyjaujcOPPT+s\"'),\n",
       " ('Via', '1.1 vegur'),\n",
       " ('CF-Cache-Status', 'HIT'),\n",
       " ('Age', '3423'),\n",
       " ('Server', 'cloudflare'),\n",
       " ('CF-RAY', '835f4d4e4813495f-SIN'),\n",
       " ('Content-Encoding', 'gzip'),\n",
       " ('alt-svc', 'h3=\":443\"; ma=86400')]"
      ]
     },
     "execution_count": 9,
     "metadata": {},
     "output_type": "execute_result"
    }
   ],
   "source": [
    "list(raw.headers.items())"
   ]
  },
  {
   "cell_type": "code",
   "execution_count": 3,
   "metadata": {},
   "outputs": [],
   "source": [
    "# work on POST request: where the data is posted\n",
    "\n",
    "data = {\"userId\": 2,\n",
    "        \"title\": \"Buy Milk\",\n",
    "        \"completed\": False}\n",
    "post_url = \"https://jsonplaceholder.typicode.com/todos\"\n",
    "# resp = requests.post(url=post_url, data=data) # this also works\n",
    "resp = requests.post(url=post_url, json=data)"
   ]
  },
  {
   "cell_type": "code",
   "execution_count": 13,
   "metadata": {},
   "outputs": [
    {
     "data": {
      "text/plain": [
       "201"
      ]
     },
     "execution_count": 13,
     "metadata": {},
     "output_type": "execute_result"
    }
   ],
   "source": [
    "resp.status_code"
   ]
  },
  {
   "cell_type": "code",
   "execution_count": 4,
   "metadata": {},
   "outputs": [
    {
     "data": {
      "text/plain": [
       "{'userId': 2, 'title': 'Buy Milk', 'completed': False, 'id': 201}"
      ]
     },
     "execution_count": 4,
     "metadata": {},
     "output_type": "execute_result"
    }
   ],
   "source": [
    "resp.json()"
   ]
  },
  {
   "cell_type": "code",
   "execution_count": 6,
   "metadata": {},
   "outputs": [
    {
     "data": {
      "text/plain": [
       "<Response [500]>"
      ]
     },
     "execution_count": 6,
     "metadata": {},
     "output_type": "execute_result"
    }
   ],
   "source": [
    "# if the json keyword is not used then multiple info has to be provide\n",
    "headers = {\"Content-Type\":\"application/json\"}\n",
    "\n",
    "# work on posting\n",
    "new_resp = requests.post(post_url, data=data, headers=headers)\n",
    "# new_resp.json()\n",
    "# got the decode error :  Expecting value: line 1 column 1 (char 0)\n",
    "# reviewing stack overflow https://stackoverflow.com/questions/16573332/jsondecodeerror-expecting-value-line-1-column-1-char-0\n",
    "# gave me idea that, requests is not getting through\n",
    "new_resp"
   ]
  },
  {
   "cell_type": "code",
   "execution_count": 7,
   "metadata": {},
   "outputs": [
    {
     "data": {
      "text/plain": [
       "{'userId': 2, 'title': 'Buy Milk', 'completed': False, 'id': 201}"
      ]
     },
     "execution_count": 7,
     "metadata": {},
     "output_type": "execute_result"
    }
   ],
   "source": [
    "import json\n",
    "# if the json keyword is not used then multiple info has to be provide\n",
    "headers = {\"Content-Type\":\"application/json\"}\n",
    "\n",
    "# work on posting, and the dictionary has to be dumped using json.dumps\n",
    "new_resp = requests.post(post_url, data=json.dumps(data), headers=headers)\n",
    "# Now the requests is getting through\n",
    "new_resp.json()"
   ]
  },
  {
   "cell_type": "code",
   "execution_count": 17,
   "metadata": {},
   "outputs": [
    {
     "data": {
      "text/plain": [
       "{'userId': 1,\n",
       " 'id': 10,\n",
       " 'title': 'illo est ratione doloremque quia maiores aut',\n",
       " 'completed': True}"
      ]
     },
     "execution_count": 17,
     "metadata": {},
     "output_type": "execute_result"
    }
   ],
   "source": [
    "get10 = \"https://jsonplaceholder.typicode.com/todos/10\"\n",
    "resp10 = requests.get(get10)\n",
    "resp10.json()"
   ]
  },
  {
   "cell_type": "code",
   "execution_count": 9,
   "metadata": {},
   "outputs": [],
   "source": [
    "# modifying the data using put\n",
    "updated_data = {'userId': 1,\n",
    " 'id': 10,\n",
    " 'title': 'Make arrangements for the delivery',\n",
    " 'completed': False}"
   ]
  },
  {
   "cell_type": "code",
   "execution_count": 12,
   "metadata": {},
   "outputs": [
    {
     "data": {
      "text/plain": [
       "{'userId': 1,\n",
       " 'id': 10,\n",
       " 'title': 'Make arrangements for the delivery',\n",
       " 'completed': False}"
      ]
     },
     "execution_count": 12,
     "metadata": {},
     "output_type": "execute_result"
    }
   ],
   "source": [
    "resp_put = requests.put(url=get10, json=updated_data)\n",
    "resp_put.json()"
   ]
  },
  {
   "cell_type": "code",
   "execution_count": 13,
   "metadata": {},
   "outputs": [
    {
     "data": {
      "text/plain": [
       "{'userId': 1, 'id': 10, 'title': 'move the vehicle', 'completed': True}"
      ]
     },
     "execution_count": 13,
     "metadata": {},
     "output_type": "execute_result"
    }
   ],
   "source": [
    "part_data = {\"title\":\"move the vehicle\"}\n",
    "patch_resp = requests.patch(get10, json=part_data)\n",
    "patch_resp.json()\n",
    "# in case of the json placeholder, the modifications are not getting \n",
    "# registered in the backend"
   ]
  },
  {
   "cell_type": "code",
   "execution_count": 16,
   "metadata": {},
   "outputs": [
    {
     "data": {
      "text/plain": [
       "{}"
      ]
     },
     "execution_count": 16,
     "metadata": {},
     "output_type": "execute_result"
    }
   ],
   "source": [
    "# deleting\n",
    "resp_delete = requests.delete(url=get10)\n",
    "resp_delete.json()"
   ]
  },
  {
   "cell_type": "markdown",
   "metadata": {},
   "source": [
    "### Process for creating defining APIs\n",
    "\n",
    "- decide the resources that API will be managing\n",
    "\n",
    "- list the endpoints and http methods, get, post, put, patch, and delete\n",
    "\n",
    "HTTP method\t    API endpoint\t                        Description\n",
    "\n",
    "GET\t            /events/<event_id>/guests\t            Get a list of guests.\n",
    "\n",
    "GET\t            /events/<event_id>/guests/<guest_id>\tGet a single guest.\n",
    "\n",
    "POST\t        /events/<event_id>/guests\t            Create a new guest.\n",
    "\n",
    "PUT\t            /events/<event_id>/guests/<guest_id>\tUpdate a guest.\n",
    "\n",
    "PATCH\t        /events/<event_id>/guests/<guest_id>\tPartially update a guest.\n",
    "\n",
    "DELETE\t        /events/<event_id>/guests/<guest_id>\tDelete a guest."
   ]
  },
  {
   "cell_type": "markdown",
   "metadata": {},
   "source": [
    "# HTTP requests format\n",
    "\n",
    "GET /cars HTTP/1.1\n",
    "\n",
    "Host: api.example.com"
   ]
  },
  {
   "cell_type": "markdown",
   "metadata": {},
   "source": [
    "# GET response format\n",
    "\n",
    "HTTP/1.1 200 OK\n",
    "Content-Type: application/json\n",
    "\n",
    "[\n",
    "    {\"Json\": \"data\"}\n",
    "]"
   ]
  },
  {
   "cell_type": "markdown",
   "metadata": {},
   "source": [
    "# HTTP Post request format\n",
    "\n",
    "POST /cars HTTP/1.1\n",
    "\n",
    "Host: api.example.com\n",
    "\n",
    "Content-Type: application/json\n",
    "\n",
    "{\"make\": \"Nissan\",\n",
    "\n",
    "    \"model\": \"240SX\",\n",
    "    \n",
    "    \"year\": 1994,\n",
    "    \n",
    "    \"vin\": \"1N6AD0CU5AC961553\",\n",
    "    \n",
    "    \"color\": \"Violet\"}\n",
    "\n",
    "### Put request also is similar, only difference is the data is updated completely\n",
    "\n",
    "### Patch request also is similar, in which a part of data is updated.\n",
    "\n",
    "### All three methods will send the copy of the data back"
   ]
  },
  {
   "cell_type": "markdown",
   "metadata": {},
   "source": [
    "# HTTP Post Response format\n",
    "\n",
    "Note, a copy of the data is sent back in the response\n",
    "\n",
    "HTTP/1.1 201 Created\n",
    "Content-Type: application/json\n",
    "\n",
    "{\"make\": \"Nissan\",\n",
    "\n",
    "    \"model\": \"240SX\",\n",
    "    \n",
    "    \"year\": 1994,\n",
    "    \n",
    "    \"vin\": \"1N6AD0CU5AC961553\",\n",
    "    \n",
    "    \"color\": \"Violet\"}"
   ]
  },
  {
   "cell_type": "markdown",
   "metadata": {},
   "source": [
    "# HTTP Delete request \n",
    "\n",
    "DELETE /cars/4 HTTP/1.1\n",
    "\n",
    "# HTTP Delete response\n",
    "\n",
    "HTTP/1.1 204 No Content"
   ]
  },
  {
   "cell_type": "markdown",
   "metadata": {},
   "source": [
    "# Some Errors"
   ]
  },
  {
   "cell_type": "code",
   "execution_count": 18,
   "metadata": {},
   "outputs": [
    {
     "data": {
      "text/plain": [
       "{}"
      ]
     },
     "execution_count": 18,
     "metadata": {},
     "output_type": "execute_result"
    }
   ],
   "source": [
    "no_url = \"https://jsonplaceholder.typicode.com/cars/1\"\n",
    "\n",
    "# trying to get a resource that is not available.\n",
    "\n",
    "resp = requests.get(url=no_url)\n",
    "resp.json()"
   ]
  },
  {
   "cell_type": "code",
   "execution_count": 19,
   "metadata": {},
   "outputs": [
    {
     "data": {
      "text/plain": [
       "404"
      ]
     },
     "execution_count": 19,
     "metadata": {},
     "output_type": "execute_result"
    }
   ],
   "source": [
    "resp.status_code"
   ]
  },
  {
   "cell_type": "code",
   "execution_count": 28,
   "metadata": {},
   "outputs": [
    {
     "data": {
      "text/plain": [
       "[('Date', 'Sat, 16 Dec 2023 04:27:55 GMT'),\n",
       " ('Content-Type', 'application/json; charset=utf-8'),\n",
       " ('Content-Length', '2'),\n",
       " ('Connection', 'keep-alive'),\n",
       " ('Report-To',\n",
       "  '{\"group\":\"heroku-nel\",\"max_age\":3600,\"endpoints\":[{\"url\":\"https://nel.heroku.com/reports?ts=1702700875&sid=e11707d5-02a7-43ef-b45e-2cf4d2036f7d&s=ObUSqGwhSWt6%2BU9jo7zGUJ1wmNys0Hj6xqsriBFOFpM%3D\"}]}'),\n",
       " ('Reporting-Endpoints',\n",
       "  'heroku-nel=https://nel.heroku.com/reports?ts=1702700875&sid=e11707d5-02a7-43ef-b45e-2cf4d2036f7d&s=ObUSqGwhSWt6%2BU9jo7zGUJ1wmNys0Hj6xqsriBFOFpM%3D'),\n",
       " ('Nel',\n",
       "  '{\"report_to\":\"heroku-nel\",\"max_age\":3600,\"success_fraction\":0.005,\"failure_fraction\":0.05,\"response_headers\":[\"Via\"]}'),\n",
       " ('X-Powered-By', 'Express'),\n",
       " ('X-Ratelimit-Limit', '1000'),\n",
       " ('X-Ratelimit-Remaining', '999'),\n",
       " ('X-Ratelimit-Reset', '1702700927'),\n",
       " ('Vary', 'Origin, Accept-Encoding'),\n",
       " ('Access-Control-Allow-Credentials', 'true'),\n",
       " ('Cache-Control', 'max-age=43200'),\n",
       " ('Pragma', 'no-cache'),\n",
       " ('Expires', '-1'),\n",
       " ('X-Content-Type-Options', 'nosniff'),\n",
       " ('Etag', 'W/\"2-vyGp6PvFo4RvsFtPoIWeCReyIC8\"'),\n",
       " ('Via', '1.1 vegur'),\n",
       " ('CF-Cache-Status', 'MISS'),\n",
       " ('Server', 'cloudflare'),\n",
       " ('CF-RAY', '83642d30edde5ce2-SIN'),\n",
       " ('alt-svc', 'h3=\":443\"; ma=86400')]"
      ]
     },
     "execution_count": 28,
     "metadata": {},
     "output_type": "execute_result"
    }
   ],
   "source": [
    "list(resp.headers.items())"
   ]
  },
  {
   "cell_type": "code",
   "execution_count": 26,
   "metadata": {},
   "outputs": [
    {
     "data": {
      "text/plain": [
       "404"
      ]
     },
     "execution_count": 26,
     "metadata": {},
     "output_type": "execute_result"
    }
   ],
   "source": [
    "# trying to post wrongly\n",
    "\n",
    "# data_mal = {'id':2, 'title':'lets break stuff'\n",
    "            \n",
    "mal_resp = requests.post(url=no_url, json={'id':2, 'title':'lets break stuff'})\n",
    "mal_resp.status_code"
   ]
  },
  {
   "cell_type": "markdown",
   "metadata": {},
   "source": [
    "#### trying the get request in shell using curl will be \n",
    "\n",
    "curl -i https://jsonplaceholder.typicode.com/todos -X GET\n",
    "\n",
    "\n",
    "curl -i https://jsonplaceholder.typicode.com/todos -X POST \\\n",
    "-H 'Content-Type: application/json' \\\n",
    "-d '{\"id\":10, \"title\":\"using curl\", \"completed\":False} "
   ]
  },
  {
   "cell_type": "code",
   "execution_count": null,
   "metadata": {},
   "outputs": [],
   "source": []
  },
  {
   "cell_type": "code",
   "execution_count": null,
   "metadata": {},
   "outputs": [],
   "source": []
  }
 ],
 "metadata": {
  "kernelspec": {
   "display_name": "Python 3",
   "language": "python",
   "name": "python3"
  },
  "language_info": {
   "codemirror_mode": {
    "name": "ipython",
    "version": 3
   },
   "file_extension": ".py",
   "mimetype": "text/x-python",
   "name": "python",
   "nbconvert_exporter": "python",
   "pygments_lexer": "ipython3",
   "version": "3.12.0"
  }
 },
 "nbformat": 4,
 "nbformat_minor": 2
}
