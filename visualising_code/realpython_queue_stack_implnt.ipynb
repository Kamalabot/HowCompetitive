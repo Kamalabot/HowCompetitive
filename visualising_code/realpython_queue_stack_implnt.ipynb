{
 "cells": [
  {
   "cell_type": "markdown",
   "metadata": {},
   "source": [
    "##### Objective\n",
    "\n",
    "Notebook covers the implementation and notes linked with the Queue and Stack learnt from https://realpython.com/queue-in-python/\n",
    "\n",
    "Most of the implementation might be implemented in multiple cells, and in some cases the code would get written as a file to the drive but the code will be here for review. \n",
    "\n",
    "### Unlike the other implementations, this notebook will contain the usage of existing python module like Collections, Itertools to implement/ understand the logic\n",
    "\n",
    "That means, there will be no seperate Class Type for Node that are pushed into Queue or Stack. "
   ]
  },
  {
   "cell_type": "code",
   "execution_count": 1,
   "metadata": {},
   "outputs": [
    {
     "name": "stderr",
     "output_type": "stream",
     "text": [
      "Pushing the test message out. | 21-Nov | 14-27 | quelog\n"
     ]
    }
   ],
   "source": [
    "### Implementing custom logger for practice\n",
    "import logging\n",
    "\n",
    "quelog = logging.getLogger('quelog')\n",
    "quelog.setLevel(logging.DEBUG)\n",
    "handler = logging.StreamHandler()\n",
    "handler.setLevel(logging.INFO)\n",
    "logf = logging.Formatter(fmt='%(message)s | %(asctime)s | %(name)s', datefmt='%d-%b | %H-%M')\n",
    "handler.setFormatter(logf)\n",
    "quelog.addHandler(handler)\n",
    "\n",
    "# testing the quelog\n",
    "quelog.info(\"Pushing the test message out.\")"
   ]
  },
  {
   "cell_type": "code",
   "execution_count": 40,
   "metadata": {},
   "outputs": [],
   "source": [
    "from collections import deque\n",
    "\n",
    "class Queue:\n",
    "    def __init__(self):\n",
    "        # observe the private element usage\n",
    "        self._elements = deque()\n",
    "\n",
    "    def enqueue(self, elem):\n",
    "        # only used for appending the elements, no return\n",
    "        self._elements.append(elem)\n",
    "\n",
    "    def dequeue(self):\n",
    "        # only returns the element from the left of the queue to \n",
    "        # simulate the fifo config\n",
    "        return self._elements.popleft()"
   ]
  },
  {
   "cell_type": "code",
   "execution_count": 6,
   "metadata": {},
   "outputs": [],
   "source": [
    "# checking the above implementation\n",
    "\n",
    "fifo = Queue()\n",
    "\n",
    "fifo.enqueue('1st')\n",
    "fifo.enqueue('2st')\n",
    "fifo.enqueue('3rd')"
   ]
  },
  {
   "cell_type": "code",
   "execution_count": 7,
   "metadata": {},
   "outputs": [
    {
     "name": "stderr",
     "output_type": "stream",
     "text": [
      "1st | 21-Nov | 06-21 | quelog\n",
      "2st | 21-Nov | 06-21 | quelog\n",
      "3rd | 21-Nov | 06-21 | quelog\n"
     ]
    },
    {
     "ename": "IndexError",
     "evalue": "pop from an empty deque",
     "output_type": "error",
     "traceback": [
      "\u001b[1;31m---------------------------------------------------------------------------\u001b[0m",
      "\u001b[1;31mIndexError\u001b[0m                                Traceback (most recent call last)",
      "\u001b[1;32md:\\gitFolders\\HowCompetitive\\visualising_code\\realpython_queue_stack_implnt.ipynb Cell 5\u001b[0m line \u001b[0;36m4\n\u001b[0;32m      <a href='vscode-notebook-cell:/d%3A/gitFolders/HowCompetitive/visualising_code/realpython_queue_stack_implnt.ipynb#W6sZmlsZQ%3D%3D?line=1'>2</a>\u001b[0m quelog\u001b[39m.\u001b[39mwarning(fifo\u001b[39m.\u001b[39mdequeue())  \u001b[39m# 2nd\u001b[39;00m\n\u001b[0;32m      <a href='vscode-notebook-cell:/d%3A/gitFolders/HowCompetitive/visualising_code/realpython_queue_stack_implnt.ipynb#W6sZmlsZQ%3D%3D?line=2'>3</a>\u001b[0m quelog\u001b[39m.\u001b[39mwarning(fifo\u001b[39m.\u001b[39mdequeue())  \u001b[39m# 3rd\u001b[39;00m\n\u001b[1;32m----> <a href='vscode-notebook-cell:/d%3A/gitFolders/HowCompetitive/visualising_code/realpython_queue_stack_implnt.ipynb#W6sZmlsZQ%3D%3D?line=3'>4</a>\u001b[0m quelog\u001b[39m.\u001b[39mwarning(fifo\u001b[39m.\u001b[39;49mdequeue())  \u001b[39m# must error \u001b[39;00m\n",
      "\u001b[1;32md:\\gitFolders\\HowCompetitive\\visualising_code\\realpython_queue_stack_implnt.ipynb Cell 5\u001b[0m line \u001b[0;36m1\n\u001b[0;32m     <a href='vscode-notebook-cell:/d%3A/gitFolders/HowCompetitive/visualising_code/realpython_queue_stack_implnt.ipynb#W6sZmlsZQ%3D%3D?line=11'>12</a>\u001b[0m \u001b[39mdef\u001b[39;00m \u001b[39mdequeue\u001b[39m(\u001b[39mself\u001b[39m):\n\u001b[0;32m     <a href='vscode-notebook-cell:/d%3A/gitFolders/HowCompetitive/visualising_code/realpython_queue_stack_implnt.ipynb#W6sZmlsZQ%3D%3D?line=12'>13</a>\u001b[0m     \u001b[39m# only returns the element from the left of the queue to \u001b[39;00m\n\u001b[0;32m     <a href='vscode-notebook-cell:/d%3A/gitFolders/HowCompetitive/visualising_code/realpython_queue_stack_implnt.ipynb#W6sZmlsZQ%3D%3D?line=13'>14</a>\u001b[0m     \u001b[39m# simulate the fifo config\u001b[39;00m\n\u001b[1;32m---> <a href='vscode-notebook-cell:/d%3A/gitFolders/HowCompetitive/visualising_code/realpython_queue_stack_implnt.ipynb#W6sZmlsZQ%3D%3D?line=14'>15</a>\u001b[0m     \u001b[39mreturn\u001b[39;00m \u001b[39mself\u001b[39;49m\u001b[39m.\u001b[39;49m_elements\u001b[39m.\u001b[39;49mpopleft()\n",
      "\u001b[1;31mIndexError\u001b[0m: pop from an empty deque"
     ]
    }
   ],
   "source": [
    "quelog.warning(fifo.dequeue())  # 1st\n",
    "quelog.warning(fifo.dequeue())  # 2nd\n",
    "quelog.warning(fifo.dequeue())  # 3rd\n",
    "quelog.warning(fifo.dequeue())  # must throw indexerror "
   ]
  },
  {
   "cell_type": "code",
   "execution_count": 12,
   "metadata": {},
   "outputs": [],
   "source": [
    "# implementing iter and len methods, with optional initial elements\n",
    "\n",
    "from collections import deque\n",
    "\n",
    "class Queue01:\n",
    "    def __init__(self, *elems) -> None:\n",
    "        self._elements = deque(elems)\n",
    "\n",
    "    def __len__(self):\n",
    "        return len(self._elements)\n",
    "\n",
    "    def __iter__(self):\n",
    "        # note, after the __len__ elem is implemented, the len(self) will return length\n",
    "        while len(self) > 0:\n",
    "            yield self.dequeue() # note this dequeue method is implemented below for self\n",
    "\n",
    "    def enqueue(self, elem):\n",
    "        self._elements.append(elem)\n",
    "\n",
    "    def dequeue(self):\n",
    "        return self._elements.popleft()"
   ]
  },
  {
   "cell_type": "code",
   "execution_count": 18,
   "metadata": {},
   "outputs": [],
   "source": [
    "newFifo = Queue01('5th', '7th', '15th')"
   ]
  },
  {
   "cell_type": "code",
   "execution_count": 19,
   "metadata": {},
   "outputs": [
    {
     "name": "stderr",
     "output_type": "stream",
     "text": [
      "5th | 21-Nov | 06-34 | quelog\n",
      "INFO:quelog:5th\n",
      "7th | 21-Nov | 06-34 | quelog\n",
      "INFO:quelog:7th\n",
      "15th | 21-Nov | 06-34 | quelog\n",
      "INFO:quelog:15th\n"
     ]
    }
   ],
   "source": [
    "for elem in newFifo:\n",
    "    quelog.info(elem)"
   ]
  },
  {
   "cell_type": "code",
   "execution_count": 20,
   "metadata": {},
   "outputs": [],
   "source": [
    "# Building the stack is done through inheritance \n",
    "\n",
    "class Stack(Queue01):\n",
    "    def dequeue(self):\n",
    "        # elements are instantiated using the super class _elements\n",
    "        return self._elements.pop()"
   ]
  },
  {
   "cell_type": "code",
   "execution_count": 21,
   "metadata": {},
   "outputs": [
    {
     "name": "stderr",
     "output_type": "stream",
     "text": [
      "10th | 21-Nov | 06-39 | quelog\n",
      "INFO:quelog:10th\n",
      "8th | 21-Nov | 06-39 | quelog\n",
      "INFO:quelog:8th\n",
      "6th | 21-Nov | 06-39 | quelog\n",
      "INFO:quelog:6th\n"
     ]
    }
   ],
   "source": [
    "lifo = Stack(\"6th\", '8th', '10th')\n",
    "\n",
    "for ele in lifo:\n",
    "    quelog.info(ele)"
   ]
  },
  {
   "cell_type": "markdown",
   "metadata": {},
   "source": [
    "### Above inheritance is done only for the code reuse. Stack is not a subtype of Queue.  In the real world, you should probably make both classes inherit from an abstract base class because they share the same interface.\n",
    "\n",
    "Implementing Priority Queue:\n",
    "\n",
    "In a priority queue, it’s an element’s priority and the insertion order that together determine the ultimate position within the queue.\n",
    "So the above Queue or Queue01 cannot be reused\n",
    "\n",
    "An unordered list of elements and their priorities, which you search through every time before dequeuing the element with the highest priority\n",
    "\n",
    "An ordered list of elements and their priorities, which you sort every time you enqueue a new element\n",
    "\n",
    "An ordered list of elements and their priorities, which you keep sorted by finding the right spot for a new element using binary search\n",
    "\n",
    "A binary tree that maintains the heap invariant after the enqueue and dequeue operations"
   ]
  },
  {
   "cell_type": "markdown",
   "metadata": {},
   "source": [
    "Based on the time complexity involved for sorting with different data structure, the heap datastructure is used\n",
    "\n",
    "Python has the heapq module, which conveniently provides a few functions that can turn a regular list into a heap and manipulate it efficiently. The two functions that’ll help you build a priority queue are:\n",
    "\n",
    "heapq.heappush()\n",
    "\n",
    "heapq.heappop()\n",
    "\n",
    "- Heap isn’t so much about sorting elements but rather keeping them in a certain relationship to allow for \"quick lookup\". \n",
    "\n",
    "- first element on a heap always has the smallest (min-heap) or the highest (max-heap) value. "
   ]
  },
  {
   "cell_type": "code",
   "execution_count": 25,
   "metadata": {},
   "outputs": [
    {
     "data": {
      "text/plain": [
       "['apple', 'orange', 'banana']"
      ]
     },
     "execution_count": 25,
     "metadata": {},
     "output_type": "execute_result"
    }
   ],
   "source": [
    "from heapq import heappush\n",
    "\n",
    "fruits = []\n",
    "\n",
    "heappush(fruits, 'orange')\n",
    "heappush(fruits, 'apple')\n",
    "heappush(fruits, 'banana')\n",
    "\n",
    "fruits\n"
   ]
  },
  {
   "cell_type": "code",
   "execution_count": 26,
   "metadata": {},
   "outputs": [
    {
     "name": "stderr",
     "output_type": "stream",
     "text": [
      "apple | 21-Nov | 07-27 | quelog\n",
      "INFO:quelog:apple\n"
     ]
    }
   ],
   "source": [
    "from heapq import heappop\n",
    "\n",
    "quelog.info(heappop(fruits))"
   ]
  },
  {
   "cell_type": "code",
   "execution_count": 28,
   "metadata": {},
   "outputs": [
    {
     "name": "stderr",
     "output_type": "stream",
     "text": [
      "['banana', 'orange'] | 21-Nov | 07-28 | quelog\n",
      "INFO:quelog:['banana', 'orange']\n"
     ]
    }
   ],
   "source": [
    "quelog.info(fruits)  # first element continues to be smaller\n",
    "\n",
    "# character with a lower Unicode code point is considered smaller in Python"
   ]
  },
  {
   "cell_type": "code",
   "execution_count": 30,
   "metadata": {},
   "outputs": [
    {
     "data": {
      "text/plain": [
       "True"
      ]
     },
     "execution_count": 30,
     "metadata": {},
     "output_type": "execute_result"
    }
   ],
   "source": [
    "person_1 = ('Jane', 'doe', 57)\n",
    "person_2 = ('Jane', 'smith', 38)\n",
    "person_3 = ('Noah', 'Smith', 27)\n",
    "\n",
    "person_1 < person_2  # How python decides which tuple to go first? \n",
    "\n",
    "# Once the order is decided (last name in this case), rest of the elements don't matter\n",
    "\n",
    "# You can enforce a prioritized order on the heap by storing tuples whose first element is a priority. "
   ]
  },
  {
   "cell_type": "code",
   "execution_count": 31,
   "metadata": {},
   "outputs": [],
   "source": [
    "# implementing priority queue with deque and heapq\n",
    "\n",
    "class PriorityQueue:\n",
    "    def __init__(self):\n",
    "        self._elements = []\n",
    "\n",
    "    def enqueue_with_priority(self, priority, value):\n",
    "        heappush(self._elements, (priority, value))\n",
    "\n",
    "    def dequeue(self):\n",
    "        return heappop(self._elements)"
   ]
  },
  {
   "cell_type": "code",
   "execution_count": 35,
   "metadata": {},
   "outputs": [],
   "source": [
    "# priority items\n",
    "\n",
    "CRITICAL = 3\n",
    "IMPORTANT = 2\n",
    "NEUTRAL = 1\n",
    "\n",
    "# priority values can be ordered in the way implementation wants. If the order changes a new class can be implemented"
   ]
  },
  {
   "cell_type": "code",
   "execution_count": 33,
   "metadata": {},
   "outputs": [],
   "source": [
    "messages = PriorityQueue()\n",
    "\n",
    "messages.enqueue_with_priority(IMPORTANT, 'windshield wipers')\n",
    "messages.enqueue_with_priority(NEUTRAL, 'Radio station tuning')\n",
    "messages.enqueue_with_priority(CRITICAL, 'Break Pedal depressed')\n",
    "messages.enqueue_with_priority(CRITICAL, 'Airbag infate')"
   ]
  },
  {
   "cell_type": "code",
   "execution_count": 36,
   "metadata": {},
   "outputs": [
    {
     "data": {
      "text/plain": [
       "(2, 'windshield wipers')"
      ]
     },
     "execution_count": 36,
     "metadata": {},
     "output_type": "execute_result"
    }
   ],
   "source": [
    "messages.dequeue()  # observe the neutral element is coming out first... which can be undesirable when priority values are higher"
   ]
  },
  {
   "cell_type": "code",
   "execution_count": 38,
   "metadata": {},
   "outputs": [],
   "source": [
    "# Implementing another variation of the class \n",
    "\n",
    "class PriorityQueue:\n",
    "    def __init__(self) -> None:\n",
    "        self._elements = []\n",
    "\n",
    "    def enqueue_with_priority(self, priority, value):\n",
    "        # making the priority negative changes how it is placed in the heapq\n",
    "        heappush(self._elements, (-priority, value))\n",
    "\n",
    "    def dequeue(self):\n",
    "        return heappop(self._elements)[1] # okay, that tripped me. We are returning a tuple remember"
   ]
  },
  {
   "cell_type": "code",
   "execution_count": 39,
   "metadata": {},
   "outputs": [],
   "source": [
    "messages = PriorityQueue()\n",
    "\n",
    "messages.enqueue_with_priority(IMPORTANT, 'windshield wipers')\n",
    "messages.enqueue_with_priority(NEUTRAL, 'Radio station tuning')\n",
    "messages.enqueue_with_priority(CRITICAL, 'Break Pedal depressed')\n",
    "messages.enqueue_with_priority(CRITICAL, 'Airbag infate')"
   ]
  },
  {
   "cell_type": "code",
   "execution_count": 40,
   "metadata": {},
   "outputs": [
    {
     "data": {
      "text/plain": [
       "'Airbag infate'"
      ]
     },
     "execution_count": 40,
     "metadata": {},
     "output_type": "execute_result"
    }
   ],
   "source": [
    "messages.dequeue()"
   ]
  },
  {
   "cell_type": "code",
   "execution_count": 41,
   "metadata": {},
   "outputs": [
    {
     "data": {
      "text/plain": [
       "'Break Pedal depressed'"
      ]
     },
     "execution_count": 41,
     "metadata": {},
     "output_type": "execute_result"
    }
   ],
   "source": [
    "messages.dequeue()"
   ]
  },
  {
   "cell_type": "markdown",
   "metadata": {},
   "source": [
    "Even though the priority queue above keeps the order correctly, but the sorting is unstable. When messages have the same priority the queue should sort them by their insertion order.\n",
    "This inconsistency happens due to the lexicographic order of comparison between elements in python. So the word Hazard comes before Windshield, which creates the challenge"
   ]
  },
  {
   "cell_type": "code",
   "execution_count": 1,
   "metadata": {},
   "outputs": [
    {
     "ename": "TypeError",
     "evalue": "'<' not supported between instances of 'Message' and 'Message'",
     "output_type": "error",
     "traceback": [
      "\u001b[1;31m---------------------------------------------------------------------------\u001b[0m",
      "\u001b[1;31mTypeError\u001b[0m                                 Traceback (most recent call last)",
      "\u001b[1;32md:\\gitFolders\\HowCompetitive\\visualising_code\\realpython_queue_stack_implnt.ipynb Cell 26\u001b[0m line \u001b[0;36m1\n\u001b[0;32m      <a href='vscode-notebook-cell:/d%3A/gitFolders/HowCompetitive/visualising_code/realpython_queue_stack_implnt.ipynb#X33sZmlsZQ%3D%3D?line=6'>7</a>\u001b[0m wipers \u001b[39m=\u001b[39m Message(\u001b[39m\"\u001b[39m\u001b[39mWindshield On\u001b[39m\u001b[39m\"\u001b[39m)\n\u001b[0;32m      <a href='vscode-notebook-cell:/d%3A/gitFolders/HowCompetitive/visualising_code/realpython_queue_stack_implnt.ipynb#X33sZmlsZQ%3D%3D?line=7'>8</a>\u001b[0m right \u001b[39m=\u001b[39m Message(\u001b[39m\"\u001b[39m\u001b[39mRight light On\u001b[39m\u001b[39m\"\u001b[39m)\n\u001b[1;32m---> <a href='vscode-notebook-cell:/d%3A/gitFolders/HowCompetitive/visualising_code/realpython_queue_stack_implnt.ipynb#X33sZmlsZQ%3D%3D?line=9'>10</a>\u001b[0m wipers \u001b[39m<\u001b[39;49m right\n",
      "\u001b[1;31mTypeError\u001b[0m: '<' not supported between instances of 'Message' and 'Message'"
     ]
    }
   ],
   "source": [
    "from dataclasses import dataclass\n",
    "\n",
    "@dataclass\n",
    "class Message:\n",
    "    event: str\n",
    "\n",
    "wipers = Message(\"Windshield On\")\n",
    "right = Message(\"Right light On\")\n",
    "\n",
    "wipers < right"
   ]
  },
  {
   "cell_type": "markdown",
   "metadata": {},
   "source": [
    "Message objects might be more convenient to work with than plain strings, but unlike strings, they aren’t comparable unless you tell Python how to perform the comparison.\n",
    "\n",
    "To avoid the comparison of strings, the alternate is to use timestamp. A monotonically increasing counter will do the trick. In other words, you want to count the number of enqueue operations performed without considering the potential dequeue operations that might be taking plac"
   ]
  },
  {
   "cell_type": "code",
   "execution_count": 2,
   "metadata": {},
   "outputs": [],
   "source": [
    "from collections import deque\n",
    "from heapq import heappop, heappush\n",
    "from itertools import count\n",
    "\n",
    "class PriorityQueue:\n",
    "    def __init__(self) -> None:\n",
    "        self._elements = []\n",
    "        self._counter = count()\n",
    "\n",
    "    def enqueue_with_priority(self, priority, value):\n",
    "        elem = (-priority, next(self._counter), value)\n",
    "        heappush(self._elements, elem)\n",
    "\n",
    "    def dequeue(self):\n",
    "        return heappop(self._elements)[-1]"
   ]
  },
  {
   "cell_type": "markdown",
   "metadata": {},
   "source": [
    "To reuse the code in Python, you find the least common denominator and then extract that code into a MixinClass"
   ]
  },
  {
   "cell_type": "code",
   "execution_count": 4,
   "metadata": {},
   "outputs": [],
   "source": [
    "class IterableMixin:\n",
    "    def __len__(self):\n",
    "        return len(self._elements)\n",
    "\n",
    "    def __iter__(self):\n",
    "        # note, after the __len__ elem is implemented, the len(self) will return length\n",
    "        while len(self) > 0:\n",
    "            yield self.dequeue() # note this dequeue method is implemented below for self\n",
    "\n",
    "# To emphasize this difference, some people call it the inclusion of a mixin class rather than pure inheritance.\n"
   ]
  },
  {
   "cell_type": "code",
   "execution_count": 5,
   "metadata": {},
   "outputs": [],
   "source": [
    "from collections import deque\n",
    "from heapq import heappop, heappush\n",
    "from itertools import count\n",
    "# Mixins are great for encapsulating behavior rather than state, much like default methods in Java interfaces.\n",
    "class PriorityQueue(IterableMixin):\n",
    "    def __init__(self) -> None:\n",
    "        self._elements = []\n",
    "        self._counter = count()\n",
    "\n",
    "    def enqueue_with_priority(self, priority, value):\n",
    "        elem = (-priority, next(self._counter), value)\n",
    "        heappush(self._elements, elem)\n",
    "\n",
    "    def dequeue(self):\n",
    "        return heappop(self._elements)[-1]"
   ]
  },
  {
   "cell_type": "markdown",
   "metadata": {},
   "source": [
    "python -m pip install networkx pygraphviz"
   ]
  },
  {
   "cell_type": "code",
   "execution_count": 2,
   "metadata": {},
   "outputs": [
    {
     "name": "stderr",
     "output_type": "stream",
     "text": [
      "MultiGraph named 'Cities in the United Kingdom' with 70 nodes and 137 edges | 21-Nov | 14-29 | quelog\n"
     ]
    }
   ],
   "source": [
    "import networkx as nx\n",
    "\n",
    "quelog.info(nx.nx_agraph.read_dot('materials-queue/src/roadmap.dot'))"
   ]
  },
  {
   "cell_type": "code",
   "execution_count": 4,
   "metadata": {},
   "outputs": [
    {
     "data": {
      "text/plain": [
       "{'country': 'England',\n",
       " 'latitude': '51.507222',\n",
       " 'longitude': '-0.1275',\n",
       " 'pos': '80,21!',\n",
       " 'xlabel': 'City of London',\n",
       " 'year': '0'}"
      ]
     },
     "execution_count": 4,
     "metadata": {},
     "output_type": "execute_result"
    }
   ],
   "source": [
    "graph = nx.nx_agraph.read_dot(\"materials-queue/src/roadmap.dot\")\n",
    "graph.nodes[\"london\"]"
   ]
  },
  {
   "cell_type": "code",
   "execution_count": 6,
   "metadata": {},
   "outputs": [],
   "source": [
    "# Creating a NamedTuple as it is hashable out of the box\n",
    "\n",
    "from typing import NamedTuple\n",
    "\n",
    "class City(NamedTuple):\n",
    "    name: str\n",
    "    country: str\n",
    "    year: int | None\n",
    "    latitude: float\n",
    "    longitude: float\n",
    "\n",
    "    @classmethod\n",
    "    def from_dict(cls, attrs):\n",
    "        return cls(\n",
    "            name=attrs['xlabel'],\n",
    "            country=attrs['country'],\n",
    "            year=int(attrs['year']),\n",
    "            latitude=float(attrs['latitude']),\n",
    "            longitude=float(attrs['longitude'])\n",
    "            )"
   ]
  },
  {
   "cell_type": "code",
   "execution_count": 7,
   "metadata": {},
   "outputs": [],
   "source": [
    "# new graph instance and take note of the mapping of node identifiers to city instances.\n",
    "\n",
    "def load_graph(filename, node_factory: City):\n",
    "    # \n",
    "    graph = nx.nx_agraph.read_dot(filename)\n",
    "    nodes = {\n",
    "        name: node_factory(attributes) for name, attributes in graph.nodes(data=True)\n",
    "    }\n",
    "    return nodes, nx.Graph(\n",
    "        (nodes[name1], nodes[name2], weights) for name1, name2, weights in graph.edges(data=True)\n",
    "    )"
   ]
  },
  {
   "cell_type": "code",
   "execution_count": 28,
   "metadata": {},
   "outputs": [],
   "source": [
    "node, graph = load_graph('materials-queue/src/roadmap.dot', City.from_dict)"
   ]
  },
  {
   "cell_type": "code",
   "execution_count": 21,
   "metadata": {},
   "outputs": [
    {
     "data": {
      "text/plain": [
       "City(name='City of London', country='England', year=0, latitude=51.507222, longitude=-0.1275)"
      ]
     },
     "execution_count": 21,
     "metadata": {},
     "output_type": "execute_result"
    }
   ],
   "source": [
    "node['london']"
   ]
  },
  {
   "cell_type": "code",
   "execution_count": 22,
   "metadata": {},
   "outputs": [
    {
     "name": "stdout",
     "output_type": "stream",
     "text": [
      "Graph with 70 nodes and 137 edges\n"
     ]
    }
   ],
   "source": [
    "print(graph)"
   ]
  },
  {
   "cell_type": "code",
   "execution_count": 11,
   "metadata": {},
   "outputs": [
    {
     "name": "stderr",
     "output_type": "stream",
     "text": [
      "Bath | 21-Nov | 14-44 | quelog\n",
      "Brighton & Hove | 21-Nov | 14-44 | quelog\n",
      "Bristol | 21-Nov | 14-44 | quelog\n",
      "Cambridge | 21-Nov | 14-44 | quelog\n",
      "Canterbury | 21-Nov | 14-44 | quelog\n",
      "Chelmsford | 21-Nov | 14-44 | quelog\n",
      "Coventry | 21-Nov | 14-44 | quelog\n",
      "Oxford | 21-Nov | 14-44 | quelog\n",
      "Peterborough | 21-Nov | 14-44 | quelog\n",
      "Portsmouth | 21-Nov | 14-44 | quelog\n",
      "Southampton | 21-Nov | 14-44 | quelog\n",
      "Southend-on-Sea | 21-Nov | 14-44 | quelog\n",
      "St Albans | 21-Nov | 14-44 | quelog\n",
      "Westminster | 21-Nov | 14-44 | quelog\n",
      "Winchester | 21-Nov | 14-44 | quelog\n"
     ]
    }
   ],
   "source": [
    "for neighbor in graph.neighbors(node['london']):\n",
    "    quelog.info(neighbor.name)"
   ]
  },
  {
   "cell_type": "code",
   "execution_count": 24,
   "metadata": {},
   "outputs": [
    {
     "data": {
      "text/plain": [
       "City(name='Edinburgh', country='Scotland', year=1329, latitude=55.953333, longitude=-3.189167)"
      ]
     },
     "execution_count": 24,
     "metadata": {},
     "output_type": "execute_result"
    }
   ],
   "source": [
    "node['edinburgh']"
   ]
  },
  {
   "cell_type": "code",
   "execution_count": 13,
   "metadata": {},
   "outputs": [
    {
     "name": "stderr",
     "output_type": "stream",
     "text": [
      "('115', 'Bath') | 21-Nov | 14-48 | quelog\n",
      "('53', 'Brighton & Hove') | 21-Nov | 14-48 | quelog\n",
      "('118', 'Bristol') | 21-Nov | 14-48 | quelog\n",
      "('61', 'Cambridge') | 21-Nov | 14-48 | quelog\n",
      "('62', 'Canterbury') | 21-Nov | 14-48 | quelog\n",
      "('40', 'Chelmsford') | 21-Nov | 14-48 | quelog\n",
      "('100', 'Coventry') | 21-Nov | 14-48 | quelog\n",
      "('58', 'Oxford') | 21-Nov | 14-48 | quelog\n",
      "('85', 'Peterborough') | 21-Nov | 14-48 | quelog\n",
      "('75', 'Portsmouth') | 21-Nov | 14-48 | quelog\n",
      "('79', 'Southampton') | 21-Nov | 14-48 | quelog\n",
      "('42', 'Southend-on-Sea') | 21-Nov | 14-48 | quelog\n",
      "('25', 'St Albans') | 21-Nov | 14-48 | quelog\n",
      "('1', 'Westminster') | 21-Nov | 14-48 | quelog\n",
      "('68', 'Winchester') | 21-Nov | 14-48 | quelog\n"
     ]
    }
   ],
   "source": [
    "for neighbor, weights in graph[node[\"london\"]].items():\n",
    "    quelog.info(f\"{weights['distance'], neighbor.name}\")"
   ]
  },
  {
   "cell_type": "code",
   "execution_count": 14,
   "metadata": {},
   "outputs": [
    {
     "name": "stderr",
     "output_type": "stream",
     "text": [
      "  1 miles, Westminster | 21-Nov | 15-20 | quelog\n",
      " 25 miles, St Albans | 21-Nov | 15-20 | quelog\n",
      " 40 miles, Chelmsford | 21-Nov | 15-20 | quelog\n",
      " 42 miles, Southend-on-Sea | 21-Nov | 15-20 | quelog\n",
      " 53 miles, Brighton & Hove | 21-Nov | 15-20 | quelog\n",
      " 58 miles, Oxford | 21-Nov | 15-20 | quelog\n",
      " 61 miles, Cambridge | 21-Nov | 15-20 | quelog\n",
      " 62 miles, Canterbury | 21-Nov | 15-20 | quelog\n",
      " 68 miles, Winchester | 21-Nov | 15-20 | quelog\n",
      " 75 miles, Portsmouth | 21-Nov | 15-20 | quelog\n",
      " 79 miles, Southampton | 21-Nov | 15-20 | quelog\n",
      " 85 miles, Peterborough | 21-Nov | 15-20 | quelog\n",
      "100 miles, Coventry | 21-Nov | 15-20 | quelog\n",
      "115 miles, Bath | 21-Nov | 15-20 | quelog\n",
      "118 miles, Bristol | 21-Nov | 15-20 | quelog\n"
     ]
    }
   ],
   "source": [
    "def sort_by(neighbor, strategy):\n",
    "    return sorted(neighbor.items(), key = lambda item: strategy(item[1]))\n",
    "\n",
    "def by_distance(weights):\n",
    "    return float(weights[\"distance\"])\n",
    "\n",
    "for neighbor, weights in sort_by(graph[node['london']], by_distance):\n",
    "    quelog.info(f\"{weights['distance']:>3} miles, {neighbor.name}\")"
   ]
  },
  {
   "cell_type": "markdown",
   "metadata": {},
   "source": [
    "### Implementing the BFS using the Graph and Queue\n",
    "\n",
    "- BFS looks for a node that satisfies a condition, by exploring the graph in concentric layers / levels\n",
    "\n",
    "- Source node is **arbitrarily** chosen, unless the graph is a tree in which case traversal happens from root node"
   ]
  },
  {
   "cell_type": "code",
   "execution_count": 25,
   "metadata": {},
   "outputs": [
    {
     "data": {
      "text/plain": [
       "<networkx.classes.digraph.DiGraph at 0x7fec3d54dd80>"
      ]
     },
     "execution_count": 25,
     "metadata": {},
     "output_type": "execute_result"
    }
   ],
   "source": [
    "nx.bfs_tree(G=graph, source=node['edinburgh'])"
   ]
  },
  {
   "cell_type": "code",
   "execution_count": 32,
   "metadata": {},
   "outputs": [
    {
     "name": "stderr",
     "output_type": "stream",
     "text": [
      "Found: ('Lancaster', 1937) | 21-Nov | 15-36 | quelog\n",
      "Found: ('Sunderland', 1992) | 21-Nov | 15-36 | quelog\n",
      "Found: ('Salford', 1926) | 21-Nov | 15-36 | quelog\n",
      "Found: ('Stoke-on-Trent', 1925) | 21-Nov | 15-36 | quelog\n",
      "Found: ('St Davids', 1994) | 21-Nov | 15-36 | quelog\n",
      "Found: ('Swansea', 1969) | 21-Nov | 15-36 | quelog\n",
      "Found: ('Derby', 1977) | 21-Nov | 15-36 | quelog\n",
      "Found: ('Cardiff', 1905) | 21-Nov | 15-36 | quelog\n",
      "Found: ('Leicester', 1919) | 21-Nov | 15-36 | quelog\n",
      "Found: ('Cambridge', 1951) | 21-Nov | 15-36 | quelog\n",
      "Found: ('Plymouth', 1928) | 21-Nov | 15-36 | quelog\n",
      "Found: ('Southampton', 1964) | 21-Nov | 15-36 | quelog\n",
      "Found: ('Portsmouth', 1926) | 21-Nov | 15-36 | quelog\n"
     ]
    }
   ],
   "source": [
    "def is_twentieth_century(year):\n",
    "    return year and 1901 <= year <= 2000\n",
    "\n",
    "for item in nx.bfs_tree(graph, node['edinburgh']):\n",
    "    # quelog.info(f\"{item.name}\")\n",
    "    if is_twentieth_century(item.year):\n",
    "        quelog.info(f\"Found: {item.name, item.year}\")"
   ]
  },
  {
   "cell_type": "code",
   "execution_count": 37,
   "metadata": {},
   "outputs": [],
   "source": [
    "def breadth_first_traverse(graph, source):\n",
    "    # create a queue object\n",
    "    queue = Queue(source)\n",
    "    # create a set for visited nodes\n",
    "    visited = {source}\n",
    "    while queue:\n",
    "        # dequeue an item from the queue, assign it to the variable node, and simultaneously yield that value.\n",
    "        yield (node := queue.dequeue())\n",
    "        # get the neighbor of the node\n",
    "        for neighbor in graph.neighbors(node):\n",
    "            # check if neighbor is in visited\n",
    "            if neighbor not in visited:\n",
    "                # add it to the visited\n",
    "                visited.add(neighbor)\n",
    "                # enqueue it to the queue\n",
    "                queue.enqueue(neighbor)"
   ]
  },
  {
   "cell_type": "code",
   "execution_count": 38,
   "metadata": {},
   "outputs": [],
   "source": [
    "def breadth_first_search(graph, source, predicate):\n",
    "    for node in breadth_first_traverse(graph, source):\n",
    "        if predicate(node):\n",
    "            return node"
   ]
  },
  {
   "cell_type": "code",
   "execution_count": 41,
   "metadata": {},
   "outputs": [
    {
     "ename": "TypeError",
     "evalue": "Queue.__init__() takes 1 positional argument but 2 were given",
     "output_type": "error",
     "traceback": [
      "\u001b[0;31m---------------------------------------------------------------------------\u001b[0m",
      "\u001b[0;31mTypeError\u001b[0m                                 Traceback (most recent call last)",
      "\u001b[1;32m/home/kamal/HowCompetitive/visualising_code/realpython_queue_stack_implnt.ipynb Cell 49\u001b[0m line \u001b[0;36m1\n\u001b[0;32m----> <a href='vscode-notebook-cell://ssh-remote%2B192.168.100.15/home/kamal/HowCompetitive/visualising_code/realpython_queue_stack_implnt.ipynb#X66sdnNjb2RlLXJlbW90ZQ%3D%3D?line=0'>1</a>\u001b[0m city \u001b[39m=\u001b[39m breadth_first_search(graph, node[\u001b[39m'\u001b[39;49m\u001b[39medinburgh\u001b[39;49m\u001b[39m'\u001b[39;49m], is_twentieth_century)\n",
      "\u001b[1;32m/home/kamal/HowCompetitive/visualising_code/realpython_queue_stack_implnt.ipynb Cell 49\u001b[0m line \u001b[0;36m2\n\u001b[1;32m      <a href='vscode-notebook-cell://ssh-remote%2B192.168.100.15/home/kamal/HowCompetitive/visualising_code/realpython_queue_stack_implnt.ipynb#X66sdnNjb2RlLXJlbW90ZQ%3D%3D?line=0'>1</a>\u001b[0m \u001b[39mdef\u001b[39;00m \u001b[39mbreadth_first_search\u001b[39m(graph, source, predicate):\n\u001b[0;32m----> <a href='vscode-notebook-cell://ssh-remote%2B192.168.100.15/home/kamal/HowCompetitive/visualising_code/realpython_queue_stack_implnt.ipynb#X66sdnNjb2RlLXJlbW90ZQ%3D%3D?line=1'>2</a>\u001b[0m     \u001b[39mfor\u001b[39;00m node \u001b[39min\u001b[39;00m breadth_first_traverse(graph, source):\n\u001b[1;32m      <a href='vscode-notebook-cell://ssh-remote%2B192.168.100.15/home/kamal/HowCompetitive/visualising_code/realpython_queue_stack_implnt.ipynb#X66sdnNjb2RlLXJlbW90ZQ%3D%3D?line=2'>3</a>\u001b[0m         \u001b[39mif\u001b[39;00m predicate(node):\n\u001b[1;32m      <a href='vscode-notebook-cell://ssh-remote%2B192.168.100.15/home/kamal/HowCompetitive/visualising_code/realpython_queue_stack_implnt.ipynb#X66sdnNjb2RlLXJlbW90ZQ%3D%3D?line=3'>4</a>\u001b[0m             \u001b[39mreturn\u001b[39;00m node\n",
      "\u001b[1;32m/home/kamal/HowCompetitive/visualising_code/realpython_queue_stack_implnt.ipynb Cell 49\u001b[0m line \u001b[0;36m3\n\u001b[1;32m      <a href='vscode-notebook-cell://ssh-remote%2B192.168.100.15/home/kamal/HowCompetitive/visualising_code/realpython_queue_stack_implnt.ipynb#X66sdnNjb2RlLXJlbW90ZQ%3D%3D?line=0'>1</a>\u001b[0m \u001b[39mdef\u001b[39;00m \u001b[39mbreadth_first_traverse\u001b[39m(graph, source):\n\u001b[1;32m      <a href='vscode-notebook-cell://ssh-remote%2B192.168.100.15/home/kamal/HowCompetitive/visualising_code/realpython_queue_stack_implnt.ipynb#X66sdnNjb2RlLXJlbW90ZQ%3D%3D?line=1'>2</a>\u001b[0m     \u001b[39m# create a queue object\u001b[39;00m\n\u001b[0;32m----> <a href='vscode-notebook-cell://ssh-remote%2B192.168.100.15/home/kamal/HowCompetitive/visualising_code/realpython_queue_stack_implnt.ipynb#X66sdnNjb2RlLXJlbW90ZQ%3D%3D?line=2'>3</a>\u001b[0m     queue \u001b[39m=\u001b[39m Queue(source)\n\u001b[1;32m      <a href='vscode-notebook-cell://ssh-remote%2B192.168.100.15/home/kamal/HowCompetitive/visualising_code/realpython_queue_stack_implnt.ipynb#X66sdnNjb2RlLXJlbW90ZQ%3D%3D?line=3'>4</a>\u001b[0m     \u001b[39m# create a set for visited nodes\u001b[39;00m\n\u001b[1;32m      <a href='vscode-notebook-cell://ssh-remote%2B192.168.100.15/home/kamal/HowCompetitive/visualising_code/realpython_queue_stack_implnt.ipynb#X66sdnNjb2RlLXJlbW90ZQ%3D%3D?line=4'>5</a>\u001b[0m     visited \u001b[39m=\u001b[39m {source}\n",
      "\u001b[0;31mTypeError\u001b[0m: Queue.__init__() takes 1 positional argument but 2 were given"
     ]
    }
   ],
   "source": [
    "city = breadth_first_search(graph, node['edinburgh'], is_twentieth_century)"
   ]
  }
 ],
 "metadata": {
  "kernelspec": {
   "display_name": "Python 3",
   "language": "python",
   "name": "python3"
  },
  "language_info": {
   "codemirror_mode": {
    "name": "ipython",
    "version": 3
   },
   "file_extension": ".py",
   "mimetype": "text/x-python",
   "name": "python",
   "nbconvert_exporter": "python",
   "pygments_lexer": "ipython3",
   "version": "3.10.12"
  }
 },
 "nbformat": 4,
 "nbformat_minor": 2
}
