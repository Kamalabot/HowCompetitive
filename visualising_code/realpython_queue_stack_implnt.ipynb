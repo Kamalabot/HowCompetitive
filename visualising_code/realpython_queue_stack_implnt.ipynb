{
 "cells": [
  {
   "cell_type": "markdown",
   "metadata": {},
   "source": [
    "##### Objective\n",
    "\n",
    "Notebook covers the implementation and notes linked with the Queue and Stack learnt from https://realpython.com/queue-in-python/\n",
    "\n",
    "Most of the implementation might be implemented in multiple cells, and in some cases the code would get written as a file to the drive but the code will be here for review. \n",
    "\n",
    "### Unlike the other implementations, this notebook will contain the usage of existing python module like Collections, Itertools to implement/ understand the logic\n",
    "\n",
    "That means, there will be no seperate Class Type for Node that are pushed into Queue or Stack. "
   ]
  },
  {
   "cell_type": "code",
   "execution_count": 2,
   "metadata": {},
   "outputs": [
    {
     "name": "stderr",
     "output_type": "stream",
     "text": [
      "Pushing the test message out. | 21-Nov | 13-17 | quelog\n"
     ]
    }
   ],
   "source": [
    "### Implementing custom logger for practice\n",
    "import logging\n",
    "\n",
    "quelog = logging.getLogger('quelog')\n",
    "quelog.setLevel(logging.DEBUG)\n",
    "handler = logging.StreamHandler()\n",
    "handler.setLevel(logging.INFO)\n",
    "logf = logging.Formatter(fmt='%(message)s | %(asctime)s | %(name)s', datefmt='%d-%b | %H-%M')\n",
    "handler.setFormatter(logf)\n",
    "quelog.addHandler(handler)\n",
    "\n",
    "# testing the quelog\n",
    "quelog.info(\"Pushing the test message out.\")"
   ]
  },
  {
   "cell_type": "code",
   "execution_count": 2,
   "metadata": {},
   "outputs": [],
   "source": [
    "from collections import deque\n",
    "\n",
    "class Queue:\n",
    "    def __init__(self):\n",
    "        # observe the private element usage\n",
    "        self._elements = deque()\n",
    "\n",
    "    def enqueue(self, elem):\n",
    "        # only used for appending the elements, no return\n",
    "        self._elements.append(elem)\n",
    "\n",
    "    def dequeue(self):\n",
    "        # only returns the element from the left of the queue to \n",
    "        # simulate the fifo config\n",
    "        return self._elements.popleft()"
   ]
  },
  {
   "cell_type": "code",
   "execution_count": 6,
   "metadata": {},
   "outputs": [],
   "source": [
    "# checking the above implementation\n",
    "\n",
    "fifo = Queue()\n",
    "\n",
    "fifo.enqueue('1st')\n",
    "fifo.enqueue('2st')\n",
    "fifo.enqueue('3rd')"
   ]
  },
  {
   "cell_type": "code",
   "execution_count": 7,
   "metadata": {},
   "outputs": [
    {
     "name": "stderr",
     "output_type": "stream",
     "text": [
      "1st | 21-Nov | 06-21 | quelog\n",
      "2st | 21-Nov | 06-21 | quelog\n",
      "3rd | 21-Nov | 06-21 | quelog\n"
     ]
    },
    {
     "ename": "IndexError",
     "evalue": "pop from an empty deque",
     "output_type": "error",
     "traceback": [
      "\u001b[1;31m---------------------------------------------------------------------------\u001b[0m",
      "\u001b[1;31mIndexError\u001b[0m                                Traceback (most recent call last)",
      "\u001b[1;32md:\\gitFolders\\HowCompetitive\\visualising_code\\realpython_queue_stack_implnt.ipynb Cell 5\u001b[0m line \u001b[0;36m4\n\u001b[0;32m      <a href='vscode-notebook-cell:/d%3A/gitFolders/HowCompetitive/visualising_code/realpython_queue_stack_implnt.ipynb#W6sZmlsZQ%3D%3D?line=1'>2</a>\u001b[0m quelog\u001b[39m.\u001b[39mwarning(fifo\u001b[39m.\u001b[39mdequeue())  \u001b[39m# 2nd\u001b[39;00m\n\u001b[0;32m      <a href='vscode-notebook-cell:/d%3A/gitFolders/HowCompetitive/visualising_code/realpython_queue_stack_implnt.ipynb#W6sZmlsZQ%3D%3D?line=2'>3</a>\u001b[0m quelog\u001b[39m.\u001b[39mwarning(fifo\u001b[39m.\u001b[39mdequeue())  \u001b[39m# 3rd\u001b[39;00m\n\u001b[1;32m----> <a href='vscode-notebook-cell:/d%3A/gitFolders/HowCompetitive/visualising_code/realpython_queue_stack_implnt.ipynb#W6sZmlsZQ%3D%3D?line=3'>4</a>\u001b[0m quelog\u001b[39m.\u001b[39mwarning(fifo\u001b[39m.\u001b[39;49mdequeue())  \u001b[39m# must error \u001b[39;00m\n",
      "\u001b[1;32md:\\gitFolders\\HowCompetitive\\visualising_code\\realpython_queue_stack_implnt.ipynb Cell 5\u001b[0m line \u001b[0;36m1\n\u001b[0;32m     <a href='vscode-notebook-cell:/d%3A/gitFolders/HowCompetitive/visualising_code/realpython_queue_stack_implnt.ipynb#W6sZmlsZQ%3D%3D?line=11'>12</a>\u001b[0m \u001b[39mdef\u001b[39;00m \u001b[39mdequeue\u001b[39m(\u001b[39mself\u001b[39m):\n\u001b[0;32m     <a href='vscode-notebook-cell:/d%3A/gitFolders/HowCompetitive/visualising_code/realpython_queue_stack_implnt.ipynb#W6sZmlsZQ%3D%3D?line=12'>13</a>\u001b[0m     \u001b[39m# only returns the element from the left of the queue to \u001b[39;00m\n\u001b[0;32m     <a href='vscode-notebook-cell:/d%3A/gitFolders/HowCompetitive/visualising_code/realpython_queue_stack_implnt.ipynb#W6sZmlsZQ%3D%3D?line=13'>14</a>\u001b[0m     \u001b[39m# simulate the fifo config\u001b[39;00m\n\u001b[1;32m---> <a href='vscode-notebook-cell:/d%3A/gitFolders/HowCompetitive/visualising_code/realpython_queue_stack_implnt.ipynb#W6sZmlsZQ%3D%3D?line=14'>15</a>\u001b[0m     \u001b[39mreturn\u001b[39;00m \u001b[39mself\u001b[39;49m\u001b[39m.\u001b[39;49m_elements\u001b[39m.\u001b[39;49mpopleft()\n",
      "\u001b[1;31mIndexError\u001b[0m: pop from an empty deque"
     ]
    }
   ],
   "source": [
    "quelog.warning(fifo.dequeue())  # 1st\n",
    "quelog.warning(fifo.dequeue())  # 2nd\n",
    "quelog.warning(fifo.dequeue())  # 3rd\n",
    "quelog.warning(fifo.dequeue())  # must throw indexerror "
   ]
  },
  {
   "cell_type": "code",
   "execution_count": 12,
   "metadata": {},
   "outputs": [],
   "source": [
    "# implementing iter and len methods, with optional initial elements\n",
    "\n",
    "from collections import deque\n",
    "\n",
    "class Queue01:\n",
    "    def __init__(self, *elems) -> None:\n",
    "        self._elements = deque(elems)\n",
    "\n",
    "    def __len__(self):\n",
    "        return len(self._elements)\n",
    "\n",
    "    def __iter__(self):\n",
    "        # note, after the __len__ elem is implemented, the len(self) will return length\n",
    "        while len(self) > 0:\n",
    "            yield self.dequeue() # note this dequeue method is implemented below for self\n",
    "\n",
    "    def enqueue(self, elem):\n",
    "        self._elements.append(elem)\n",
    "\n",
    "    def dequeue(self):\n",
    "        return self._elements.popleft()"
   ]
  },
  {
   "cell_type": "code",
   "execution_count": 18,
   "metadata": {},
   "outputs": [],
   "source": [
    "newFifo = Queue01('5th', '7th', '15th')"
   ]
  },
  {
   "cell_type": "code",
   "execution_count": 19,
   "metadata": {},
   "outputs": [
    {
     "name": "stderr",
     "output_type": "stream",
     "text": [
      "5th | 21-Nov | 06-34 | quelog\n",
      "INFO:quelog:5th\n",
      "7th | 21-Nov | 06-34 | quelog\n",
      "INFO:quelog:7th\n",
      "15th | 21-Nov | 06-34 | quelog\n",
      "INFO:quelog:15th\n"
     ]
    }
   ],
   "source": [
    "for elem in newFifo:\n",
    "    quelog.info(elem)"
   ]
  },
  {
   "cell_type": "code",
   "execution_count": 20,
   "metadata": {},
   "outputs": [],
   "source": [
    "# Building the stack is done through inheritance \n",
    "\n",
    "class Stack(Queue01):\n",
    "    def dequeue(self):\n",
    "        # elements are instantiated using the super class _elements\n",
    "        return self._elements.pop()"
   ]
  },
  {
   "cell_type": "code",
   "execution_count": 21,
   "metadata": {},
   "outputs": [
    {
     "name": "stderr",
     "output_type": "stream",
     "text": [
      "10th | 21-Nov | 06-39 | quelog\n",
      "INFO:quelog:10th\n",
      "8th | 21-Nov | 06-39 | quelog\n",
      "INFO:quelog:8th\n",
      "6th | 21-Nov | 06-39 | quelog\n",
      "INFO:quelog:6th\n"
     ]
    }
   ],
   "source": [
    "lifo = Stack(\"6th\", '8th', '10th')\n",
    "\n",
    "for ele in lifo:\n",
    "    quelog.info(ele)"
   ]
  },
  {
   "cell_type": "markdown",
   "metadata": {},
   "source": [
    "### Above inheritance is done only for the code reuse. Stack is not a subtype of Queue.  In the real world, you should probably make both classes inherit from an abstract base class because they share the same interface.\n",
    "\n",
    "Implementing Priority Queue:\n",
    "\n",
    "In a priority queue, it’s an element’s priority and the insertion order that together determine the ultimate position within the queue.\n",
    "So the above Queue or Queue01 cannot be reused\n",
    "\n",
    "An unordered list of elements and their priorities, which you search through every time before dequeuing the element with the highest priority\n",
    "\n",
    "An ordered list of elements and their priorities, which you sort every time you enqueue a new element\n",
    "\n",
    "An ordered list of elements and their priorities, which you keep sorted by finding the right spot for a new element using binary search\n",
    "\n",
    "A binary tree that maintains the heap invariant after the enqueue and dequeue operations"
   ]
  },
  {
   "cell_type": "markdown",
   "metadata": {},
   "source": [
    "Based on the time complexity involved for sorting with different data structure, the heap datastructure is used\n",
    "\n",
    "Python has the heapq module, which conveniently provides a few functions that can turn a regular list into a heap and manipulate it efficiently. The two functions that’ll help you build a priority queue are:\n",
    "\n",
    "heapq.heappush()\n",
    "\n",
    "heapq.heappop()\n",
    "\n",
    "- Heap isn’t so much about sorting elements but rather keeping them in a certain relationship to allow for \"quick lookup\". \n",
    "\n",
    "- first element on a heap always has the smallest (min-heap) or the highest (max-heap) value. "
   ]
  },
  {
   "cell_type": "code",
   "execution_count": 25,
   "metadata": {},
   "outputs": [
    {
     "data": {
      "text/plain": [
       "['apple', 'orange', 'banana']"
      ]
     },
     "execution_count": 25,
     "metadata": {},
     "output_type": "execute_result"
    }
   ],
   "source": [
    "from heapq import heappush\n",
    "\n",
    "fruits = []\n",
    "\n",
    "heappush(fruits, 'orange')\n",
    "heappush(fruits, 'apple')\n",
    "heappush(fruits, 'banana')\n",
    "\n",
    "fruits\n"
   ]
  },
  {
   "cell_type": "code",
   "execution_count": 26,
   "metadata": {},
   "outputs": [
    {
     "name": "stderr",
     "output_type": "stream",
     "text": [
      "apple | 21-Nov | 07-27 | quelog\n",
      "INFO:quelog:apple\n"
     ]
    }
   ],
   "source": [
    "from heapq import heappop\n",
    "\n",
    "quelog.info(heappop(fruits))"
   ]
  },
  {
   "cell_type": "code",
   "execution_count": 28,
   "metadata": {},
   "outputs": [
    {
     "name": "stderr",
     "output_type": "stream",
     "text": [
      "['banana', 'orange'] | 21-Nov | 07-28 | quelog\n",
      "INFO:quelog:['banana', 'orange']\n"
     ]
    }
   ],
   "source": [
    "quelog.info(fruits)  # first element continues to be smaller\n",
    "\n",
    "# character with a lower Unicode code point is considered smaller in Python"
   ]
  },
  {
   "cell_type": "code",
   "execution_count": 30,
   "metadata": {},
   "outputs": [
    {
     "data": {
      "text/plain": [
       "True"
      ]
     },
     "execution_count": 30,
     "metadata": {},
     "output_type": "execute_result"
    }
   ],
   "source": [
    "person_1 = ('Jane', 'doe', 57)\n",
    "person_2 = ('Jane', 'smith', 38)\n",
    "person_3 = ('Noah', 'Smith', 27)\n",
    "\n",
    "person_1 < person_2  # How python decides which tuple to go first? \n",
    "\n",
    "# Once the order is decided (last name in this case), rest of the elements don't matter\n",
    "\n",
    "# You can enforce a prioritized order on the heap by storing tuples whose first element is a priority. "
   ]
  },
  {
   "cell_type": "code",
   "execution_count": 31,
   "metadata": {},
   "outputs": [],
   "source": [
    "# implementing priority queue with deque and heapq\n",
    "\n",
    "class PriorityQueue:\n",
    "    def __init__(self):\n",
    "        self._elements = []\n",
    "\n",
    "    def enqueue_with_priority(self, priority, value):\n",
    "        heappush(self._elements, (priority, value))\n",
    "\n",
    "    def dequeue(self):\n",
    "        return heappop(self._elements)"
   ]
  },
  {
   "cell_type": "code",
   "execution_count": 35,
   "metadata": {},
   "outputs": [],
   "source": [
    "# priority items\n",
    "\n",
    "CRITICAL = 3\n",
    "IMPORTANT = 2\n",
    "NEUTRAL = 1\n",
    "\n",
    "# priority values can be ordered in the way implementation wants. If the order changes a new class can be implemented"
   ]
  },
  {
   "cell_type": "code",
   "execution_count": 33,
   "metadata": {},
   "outputs": [],
   "source": [
    "messages = PriorityQueue()\n",
    "\n",
    "messages.enqueue_with_priority(IMPORTANT, 'windshield wipers')\n",
    "messages.enqueue_with_priority(NEUTRAL, 'Radio station tuning')\n",
    "messages.enqueue_with_priority(CRITICAL, 'Break Pedal depressed')\n",
    "messages.enqueue_with_priority(CRITICAL, 'Airbag infate')"
   ]
  },
  {
   "cell_type": "code",
   "execution_count": 36,
   "metadata": {},
   "outputs": [
    {
     "data": {
      "text/plain": [
       "(2, 'windshield wipers')"
      ]
     },
     "execution_count": 36,
     "metadata": {},
     "output_type": "execute_result"
    }
   ],
   "source": [
    "messages.dequeue()  # observe the neutral element is coming out first... which can be undesirable when priority values are higher"
   ]
  },
  {
   "cell_type": "code",
   "execution_count": 38,
   "metadata": {},
   "outputs": [],
   "source": [
    "# Implementing another variation of the class \n",
    "\n",
    "class PriorityQueue:\n",
    "    def __init__(self) -> None:\n",
    "        self._elements = []\n",
    "\n",
    "    def enqueue_with_priority(self, priority, value):\n",
    "        # making the priority negative changes how it is placed in the heapq\n",
    "        heappush(self._elements, (-priority, value))\n",
    "\n",
    "    def dequeue(self):\n",
    "        return heappop(self._elements)[1] # okay, that tripped me. We are returning a tuple remember"
   ]
  },
  {
   "cell_type": "code",
   "execution_count": 39,
   "metadata": {},
   "outputs": [],
   "source": [
    "messages = PriorityQueue()\n",
    "\n",
    "messages.enqueue_with_priority(IMPORTANT, 'windshield wipers')\n",
    "messages.enqueue_with_priority(NEUTRAL, 'Radio station tuning')\n",
    "messages.enqueue_with_priority(CRITICAL, 'Break Pedal depressed')\n",
    "messages.enqueue_with_priority(CRITICAL, 'Airbag infate')"
   ]
  },
  {
   "cell_type": "code",
   "execution_count": 40,
   "metadata": {},
   "outputs": [
    {
     "data": {
      "text/plain": [
       "'Airbag infate'"
      ]
     },
     "execution_count": 40,
     "metadata": {},
     "output_type": "execute_result"
    }
   ],
   "source": [
    "messages.dequeue()"
   ]
  },
  {
   "cell_type": "code",
   "execution_count": 41,
   "metadata": {},
   "outputs": [
    {
     "data": {
      "text/plain": [
       "'Break Pedal depressed'"
      ]
     },
     "execution_count": 41,
     "metadata": {},
     "output_type": "execute_result"
    }
   ],
   "source": [
    "messages.dequeue()"
   ]
  },
  {
   "cell_type": "markdown",
   "metadata": {},
   "source": [
    "Even though the priority queue above keeps the order correctly, but the sorting is unstable. When messages have the same priority the queue should sort them by their insertion order.\n",
    "This inconsistency happens due to the lexicographic order of comparison between elements in python. So the word Hazard comes before Windshield, which creates the challenge"
   ]
  },
  {
   "cell_type": "code",
   "execution_count": 1,
   "metadata": {},
   "outputs": [
    {
     "ename": "TypeError",
     "evalue": "'<' not supported between instances of 'Message' and 'Message'",
     "output_type": "error",
     "traceback": [
      "\u001b[1;31m---------------------------------------------------------------------------\u001b[0m",
      "\u001b[1;31mTypeError\u001b[0m                                 Traceback (most recent call last)",
      "\u001b[1;32md:\\gitFolders\\HowCompetitive\\visualising_code\\realpython_queue_stack_implnt.ipynb Cell 26\u001b[0m line \u001b[0;36m1\n\u001b[0;32m      <a href='vscode-notebook-cell:/d%3A/gitFolders/HowCompetitive/visualising_code/realpython_queue_stack_implnt.ipynb#X33sZmlsZQ%3D%3D?line=6'>7</a>\u001b[0m wipers \u001b[39m=\u001b[39m Message(\u001b[39m\"\u001b[39m\u001b[39mWindshield On\u001b[39m\u001b[39m\"\u001b[39m)\n\u001b[0;32m      <a href='vscode-notebook-cell:/d%3A/gitFolders/HowCompetitive/visualising_code/realpython_queue_stack_implnt.ipynb#X33sZmlsZQ%3D%3D?line=7'>8</a>\u001b[0m right \u001b[39m=\u001b[39m Message(\u001b[39m\"\u001b[39m\u001b[39mRight light On\u001b[39m\u001b[39m\"\u001b[39m)\n\u001b[1;32m---> <a href='vscode-notebook-cell:/d%3A/gitFolders/HowCompetitive/visualising_code/realpython_queue_stack_implnt.ipynb#X33sZmlsZQ%3D%3D?line=9'>10</a>\u001b[0m wipers \u001b[39m<\u001b[39;49m right\n",
      "\u001b[1;31mTypeError\u001b[0m: '<' not supported between instances of 'Message' and 'Message'"
     ]
    }
   ],
   "source": [
    "from dataclasses import dataclass\n",
    "\n",
    "@dataclass\n",
    "class Message:\n",
    "    event: str\n",
    "\n",
    "wipers = Message(\"Windshield On\")\n",
    "right = Message(\"Right light On\")\n",
    "\n",
    "wipers < right"
   ]
  },
  {
   "cell_type": "markdown",
   "metadata": {},
   "source": [
    "Message objects might be more convenient to work with than plain strings, but unlike strings, they aren’t comparable unless you tell Python how to perform the comparison.\n",
    "\n",
    "To avoid the comparison of strings, the alternate is to use timestamp. A monotonically increasing counter will do the trick. In other words, you want to count the number of enqueue operations performed without considering the potential dequeue operations that might be taking plac"
   ]
  },
  {
   "cell_type": "code",
   "execution_count": 2,
   "metadata": {},
   "outputs": [],
   "source": [
    "from collections import deque\n",
    "from heapq import heappop, heappush\n",
    "from itertools import count\n",
    "\n",
    "class PriorityQueue:\n",
    "    def __init__(self) -> None:\n",
    "        self._elements = []\n",
    "        self._counter = count()\n",
    "\n",
    "    def enqueue_with_priority(self, priority, value):\n",
    "        elem = (-priority, next(self._counter), value)\n",
    "        heappush(self._elements, elem)\n",
    "\n",
    "    def dequeue(self):\n",
    "        return heappop(self._elements)[-1]"
   ]
  },
  {
   "cell_type": "markdown",
   "metadata": {},
   "source": [
    "To reuse the code in Python, you find the least common denominator and then extract that code into a MixinClass"
   ]
  },
  {
   "cell_type": "code",
   "execution_count": 4,
   "metadata": {},
   "outputs": [],
   "source": [
    "class IterableMixin:\n",
    "    def __len__(self):\n",
    "        return len(self._elements)\n",
    "\n",
    "    def __iter__(self):\n",
    "        # note, after the __len__ elem is implemented, the len(self) will return length\n",
    "        while len(self) > 0:\n",
    "            yield self.dequeue() # note this dequeue method is implemented below for self\n",
    "\n",
    "# To emphasize this difference, some people call it the inclusion of a mixin class rather than pure inheritance.\n"
   ]
  },
  {
   "cell_type": "code",
   "execution_count": 5,
   "metadata": {},
   "outputs": [],
   "source": [
    "from collections import deque\n",
    "from heapq import heappop, heappush\n",
    "from itertools import count\n",
    "# Mixins are great for encapsulating behavior rather than state, much like default methods in Java interfaces.\n",
    "class PriorityQueue(IterableMixin):\n",
    "    def __init__(self) -> None:\n",
    "        self._elements = []\n",
    "        self._counter = count()\n",
    "\n",
    "    def enqueue_with_priority(self, priority, value):\n",
    "        elem = (-priority, next(self._counter), value)\n",
    "        heappush(self._elements, elem)\n",
    "\n",
    "    def dequeue(self):\n",
    "        return heappop(self._elements)[-1]"
   ]
  },
  {
   "cell_type": "markdown",
   "metadata": {},
   "source": [
    "python -m pip install networkx pygraphviz"
   ]
  },
  {
   "cell_type": "code",
   "execution_count": 3,
   "metadata": {},
   "outputs": [
    {
     "ename": "ImportError",
     "evalue": "read_dot() requires pygraphviz http://pygraphviz.github.io/",
     "output_type": "error",
     "traceback": [
      "\u001b[1;31m---------------------------------------------------------------------------\u001b[0m",
      "\u001b[1;31mModuleNotFoundError\u001b[0m                       Traceback (most recent call last)",
      "File \u001b[1;32md:\\autogenv\\Lib\\site-packages\\networkx\\drawing\\nx_agraph.py:218\u001b[0m, in \u001b[0;36mread_dot\u001b[1;34m(path)\u001b[0m\n\u001b[0;32m    217\u001b[0m \u001b[39mtry\u001b[39;00m:\n\u001b[1;32m--> 218\u001b[0m     \u001b[39mimport\u001b[39;00m \u001b[39mpygraphviz\u001b[39;00m\n\u001b[0;32m    219\u001b[0m \u001b[39mexcept\u001b[39;00m \u001b[39mImportError\u001b[39;00m \u001b[39mas\u001b[39;00m err:\n",
      "\u001b[1;31mModuleNotFoundError\u001b[0m: No module named 'pygraphviz'",
      "\nThe above exception was the direct cause of the following exception:\n",
      "\u001b[1;31mImportError\u001b[0m                               Traceback (most recent call last)",
      "\u001b[1;32md:\\gitFolders\\HowCompetitive\\visualising_code\\realpython_queue_stack_implnt.ipynb Cell 33\u001b[0m line \u001b[0;36m3\n\u001b[0;32m      <a href='vscode-notebook-cell:/d%3A/gitFolders/HowCompetitive/visualising_code/realpython_queue_stack_implnt.ipynb#X45sZmlsZQ%3D%3D?line=0'>1</a>\u001b[0m \u001b[39mimport\u001b[39;00m \u001b[39mnetworkx\u001b[39;00m \u001b[39mas\u001b[39;00m \u001b[39mnx\u001b[39;00m\n\u001b[1;32m----> <a href='vscode-notebook-cell:/d%3A/gitFolders/HowCompetitive/visualising_code/realpython_queue_stack_implnt.ipynb#X45sZmlsZQ%3D%3D?line=2'>3</a>\u001b[0m quelog\u001b[39m.\u001b[39minfo(nx\u001b[39m.\u001b[39;49mnx_agraph\u001b[39m.\u001b[39;49mread_dot(\u001b[39m'\u001b[39;49m\u001b[39mmaterials-queue/src/roadmap.dot\u001b[39;49m\u001b[39m'\u001b[39;49m))\n",
      "File \u001b[1;32md:\\autogenv\\Lib\\site-packages\\networkx\\utils\\backends.py:412\u001b[0m, in \u001b[0;36m_dispatch.__call__\u001b[1;34m(self, backend, *args, **kwargs)\u001b[0m\n\u001b[0;32m    409\u001b[0m \u001b[39mdef\u001b[39;00m \u001b[39m__call__\u001b[39m(\u001b[39mself\u001b[39m, \u001b[39m/\u001b[39m, \u001b[39m*\u001b[39margs, backend\u001b[39m=\u001b[39m\u001b[39mNone\u001b[39;00m, \u001b[39m*\u001b[39m\u001b[39m*\u001b[39mkwargs):\n\u001b[0;32m    410\u001b[0m     \u001b[39mif\u001b[39;00m \u001b[39mnot\u001b[39;00m backends:\n\u001b[0;32m    411\u001b[0m         \u001b[39m# Fast path if no backends are installed\u001b[39;00m\n\u001b[1;32m--> 412\u001b[0m         \u001b[39mreturn\u001b[39;00m \u001b[39mself\u001b[39;49m\u001b[39m.\u001b[39;49morig_func(\u001b[39m*\u001b[39;49margs, \u001b[39m*\u001b[39;49m\u001b[39m*\u001b[39;49mkwargs)\n\u001b[0;32m    414\u001b[0m     \u001b[39m# Use `backend_name` in this function instead of `backend`\u001b[39;00m\n\u001b[0;32m    415\u001b[0m     backend_name \u001b[39m=\u001b[39m backend\n",
      "File \u001b[1;32md:\\autogenv\\Lib\\site-packages\\networkx\\drawing\\nx_agraph.py:220\u001b[0m, in \u001b[0;36mread_dot\u001b[1;34m(path)\u001b[0m\n\u001b[0;32m    218\u001b[0m     \u001b[39mimport\u001b[39;00m \u001b[39mpygraphviz\u001b[39;00m\n\u001b[0;32m    219\u001b[0m \u001b[39mexcept\u001b[39;00m \u001b[39mImportError\u001b[39;00m \u001b[39mas\u001b[39;00m err:\n\u001b[1;32m--> 220\u001b[0m     \u001b[39mraise\u001b[39;00m \u001b[39mImportError\u001b[39;00m(\n\u001b[0;32m    221\u001b[0m         \u001b[39m\"\u001b[39m\u001b[39mread_dot() requires pygraphviz \u001b[39m\u001b[39m\"\u001b[39m \u001b[39m\"\u001b[39m\u001b[39mhttp://pygraphviz.github.io/\u001b[39m\u001b[39m\"\u001b[39m\n\u001b[0;32m    222\u001b[0m     ) \u001b[39mfrom\u001b[39;00m \u001b[39merr\u001b[39;00m\n\u001b[0;32m    223\u001b[0m A \u001b[39m=\u001b[39m pygraphviz\u001b[39m.\u001b[39mAGraph(file\u001b[39m=\u001b[39mpath)\n\u001b[0;32m    224\u001b[0m gr \u001b[39m=\u001b[39m from_agraph(A)\n",
      "\u001b[1;31mImportError\u001b[0m: read_dot() requires pygraphviz http://pygraphviz.github.io/"
     ]
    }
   ],
   "source": [
    "import networkx as nx\n",
    "\n",
    "quelog.info(nx.nx_agraph.read_dot('materials-queue/src/roadmap.dot'))"
   ]
  },
  {
   "cell_type": "code",
   "execution_count": null,
   "metadata": {},
   "outputs": [],
   "source": []
  },
  {
   "cell_type": "code",
   "execution_count": null,
   "metadata": {},
   "outputs": [],
   "source": []
  },
  {
   "cell_type": "code",
   "execution_count": null,
   "metadata": {},
   "outputs": [],
   "source": []
  },
  {
   "cell_type": "code",
   "execution_count": null,
   "metadata": {},
   "outputs": [],
   "source": []
  },
  {
   "cell_type": "code",
   "execution_count": null,
   "metadata": {},
   "outputs": [],
   "source": []
  }
 ],
 "metadata": {
  "kernelspec": {
   "display_name": "Python 3",
   "language": "python",
   "name": "python3"
  },
  "language_info": {
   "codemirror_mode": {
    "name": "ipython",
    "version": 3
   },
   "file_extension": ".py",
   "mimetype": "text/x-python",
   "name": "python",
   "nbconvert_exporter": "python",
   "pygments_lexer": "ipython3",
   "version": "3.11.4"
  }
 },
 "nbformat": 4,
 "nbformat_minor": 2
}
